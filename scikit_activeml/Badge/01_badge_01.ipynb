{
 "cells": [
  {
   "cell_type": "code",
   "execution_count": 20,
   "metadata": {},
   "outputs": [],
   "source": [
    "import numpy as np\n",
    "\n",
    "from skactiveml.base import SingleAnnotatorPoolQueryStrategy, SkactivemlClassifier\n",
    "from skactiveml.utils import (\n",
    "    MISSING_LABEL,\n",
    "    check_type,\n",
    "    check_equal_missing_label,\n",
    "    unlabeled_indices\n",
    ")\n",
    "\n",
    "from sklearn.linear_model import LogisticRegression\n",
    "from sklearn.datasets import make_classification\n",
    "from sklearn.metrics import pairwise_distances_argmin_min, pairwise_distances\n",
    "\n",
    "from skactiveml.classifier import SklearnClassifier"
   ]
  },
  {
   "cell_type": "code",
   "execution_count": 21,
   "metadata": {},
   "outputs": [],
   "source": [
    "class Badge(SingleAnnotatorPoolQueryStrategy):\n",
    "    def __init__(\n",
    "            self,\n",
    "            missing_label=MISSING_LABEL,\n",
    "            random_state=None\n",
    "    ):\n",
    "        super().__init__(\n",
    "            missing_label=missing_label, random_state=random_state\n",
    "        )\n",
    "\n",
    "    def query(\n",
    "        self,\n",
    "        X,\n",
    "        y,\n",
    "        clf,\n",
    "        candidates=None,\n",
    "        batch_size=1,\n",
    "        return_utilities=False,\n",
    "    ):\n",
    "        # Validate input parameters\n",
    "        X, y, candidates, batch_size, return_utilities = self._validate_data(\n",
    "            X, y, candidates, batch_size, return_utilities, reset=True\n",
    "        )\n",
    "\n",
    "        X_cand, mapping = self._transform_candidates(candidates, X, y)\n",
    "\n",
    "        # Validate classifier type\n",
    "        check_type(clf, \"clf\", SkactivemlClassifier)\n",
    "        check_equal_missing_label(clf.missing_label, self.missing_label_)\n",
    "\n",
    "        if candidates is None:\n",
    "            X_unlabeled = X_cand\n",
    "            unlabeled_mapping = mapping\n",
    "        elif mapping is not None:\n",
    "            unlabeled_mapping = unlabeled_indices(y[mapping], missing_label=self.missing_label)\n",
    "            X_unlabeled = X_cand[unlabeled_mapping]\n",
    "            unlabeled_mapping = mapping[unlabeled_mapping]\n",
    "        else:\n",
    "            unlabeled_mapping = X_cand\n",
    "            unlabeled_mapping = np.arange(len(X_cand))\n",
    "\n",
    "        print(X_unlabeled)\n",
    "        print(unlabeled_mapping)\n",
    "        "
   ]
  },
  {
   "cell_type": "code",
   "execution_count": 22,
   "metadata": {},
   "outputs": [
    {
     "data": {
      "text/plain": [
       "100"
      ]
     },
     "execution_count": 22,
     "metadata": {},
     "output_type": "execute_result"
    }
   ],
   "source": [
    "X, y_true = make_classification(n_features=2, n_redundant=0, random_state=0)\n",
    "\n",
    "X.shape[0]"
   ]
  },
  {
   "cell_type": "code",
   "execution_count": 23,
   "metadata": {},
   "outputs": [],
   "source": [
    "y = np.full(shape=y_true.shape, fill_value=MISSING_LABEL)"
   ]
  },
  {
   "cell_type": "code",
   "execution_count": 24,
   "metadata": {},
   "outputs": [
    {
     "name": "stdout",
     "output_type": "stream",
     "text": [
      "[0 1]\n"
     ]
    }
   ],
   "source": [
    "clf = SklearnClassifier(LogisticRegression(), classes=np.unique(y_true))\n",
    "print(np.unique(y_true))"
   ]
  },
  {
   "cell_type": "code",
   "execution_count": 25,
   "metadata": {},
   "outputs": [],
   "source": [
    "qs = Badge()"
   ]
  },
  {
   "cell_type": "code",
   "execution_count": 26,
   "metadata": {},
   "outputs": [
    {
     "name": "stdout",
     "output_type": "stream",
     "text": [
      "[[-0.76605469  0.18332468]\n",
      " [-0.92038325 -0.0723168 ]\n",
      " [-0.98658509 -0.28692   ]\n",
      " [ 1.70910242 -1.10453952]\n",
      " [ 1.9876467   1.77624479]]\n",
      "[0 1 2 3 4]\n"
     ]
    }
   ],
   "source": [
    "qs.query(X[:5], y[:5], clf, candidates=None, batch_size=1)"
   ]
  },
  {
   "cell_type": "code",
   "execution_count": 30,
   "metadata": {},
   "outputs": [
    {
     "name": "stdout",
     "output_type": "stream",
     "text": [
      "[[-0.76605469  0.18332468]\n",
      " [-0.98658509 -0.28692   ]\n",
      " [ 1.70910242 -1.10453952]\n",
      " [ 1.9876467   1.77624479]]\n",
      "[0 2 3 4]\n",
      "[[-0.98658509 -0.28692   ]\n",
      " [ 1.70910242 -1.10453952]\n",
      " [ 1.9876467   1.77624479]]\n",
      "[2 3 4]\n"
     ]
    }
   ],
   "source": [
    "y[1] = y_true[1]\n",
    "qs.query(X[:5], y[:5], clf, candidates=None, batch_size=1)\n",
    "qs.query(X[:5], y[:5], clf, candidates=[1,2,3,4], batch_size=1)"
   ]
  },
  {
   "cell_type": "code",
   "execution_count": 27,
   "metadata": {},
   "outputs": [
    {
     "name": "stdout",
     "output_type": "stream",
     "text": [
      "(5,)\n",
      "[0.70612023 0.40751186 0.19634942 2.91822117 3.81380748]\n",
      "[ 0.49860577  0.16606592  0.03855309  8.51601479 14.54512747]\n",
      "23.764367048350934\n",
      "[[0.70612023 2.76409189]\n",
      " [0.40751186 2.49464132]\n",
      " [0.19634942 2.27637396]\n",
      " [2.91822117 3.16462351]\n",
      " [3.81380748 5.32399199]]\n",
      "[0.02098124 0.00698802 0.00162231 0.35835227 0.61205617]\n"
     ]
    }
   ],
   "source": [
    "argmin, min_distance = pairwise_distances_argmin_min(X=X[:5], Y=X[6:8])\n",
    "print(argmin.shape)\n",
    "print(min_distance)\n",
    "#min_distance = np.reshape(min_distance, (-1,1))\n",
    "#print(min_distance)\n",
    "d2 = np.square(min_distance)\n",
    "print(d2)\n",
    "d2_sum = np.sum(d2)\n",
    "print(d2_sum)\n",
    "distance = pairwise_distances(X=X[:5], Y=X[6:8])\n",
    "print(distance)\n",
    "probas = d2/d2_sum\n",
    "print(probas)\n"
   ]
  }
 ],
 "metadata": {
  "kernelspec": {
   "display_name": "Python 3",
   "language": "python",
   "name": "python3"
  },
  "language_info": {
   "codemirror_mode": {
    "name": "ipython",
    "version": 3
   },
   "file_extension": ".py",
   "mimetype": "text/x-python",
   "name": "python",
   "nbconvert_exporter": "python",
   "pygments_lexer": "ipython3",
   "version": "3.11.0"
  }
 },
 "nbformat": 4,
 "nbformat_minor": 2
}
