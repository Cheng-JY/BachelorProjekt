{
 "cells": [
  {
   "cell_type": "code",
   "execution_count": 1,
   "id": "initial_id",
   "metadata": {
    "collapsed": true,
    "ExecuteTime": {
     "end_time": "2024-04-20T12:40:13.391144Z",
     "start_time": "2024-04-20T12:40:12.833887Z"
    }
   },
   "outputs": [],
   "source": [
    "%load_ext autoreload\n",
    "%autoreload 2\n",
    "\n",
    "import numpy as np\n",
    "from sklearn.preprocessing import LabelEncoder\n",
    "from sklearn.cluster import MiniBatchKMeans\n",
    "from sklearn.datasets import make_blobs\n",
    "import matplotlib.pyplot as plt"
   ]
  },
  {
   "cell_type": "code",
   "execution_count": 13,
   "outputs": [
    {
     "data": {
      "text/plain": "<Figure size 640x480 with 1 Axes>",
      "image/png": "[encoded data removed]"
     },
     "metadata": {},
     "output_type": "display_data"
    },
    {
     "name": "stdout",
     "output_type": "stream",
     "text": [
      "[0 1 0 2]\n"
     ]
    }
   ],
   "source": [
    "data_set_name = \"toy-classification\"\n",
    "X, y_true = make_blobs(n_samples=4, centers=4, cluster_std=0.6, random_state=0)\n",
    "y_true %= 3\n",
    "y_true = y_true\n",
    "plt.scatter(X[:, 0], X[:, 1], c=y_true)\n",
    "plt.show()\n",
    "print(y_true)"
   ],
   "metadata": {
    "collapsed": false,
    "ExecuteTime": {
     "end_time": "2024-04-20T12:49:02.897461Z",
     "start_time": "2024-04-20T12:49:02.820018Z"
    }
   },
   "id": "f335fa08b46bc30d"
  },
  {
   "cell_type": "code",
   "execution_count": 14,
   "outputs": [],
   "source": [
    "cluster_annot_perfs = np.array(\n",
    "    [[0.05, 0.95, 0.95, 0.05],\n",
    "     [0.95, 0.05, 0.05, 0.95]]\n",
    ")\n",
    "random_state = np.random.RandomState(0)"
   ],
   "metadata": {
    "collapsed": false,
    "ExecuteTime": {
     "end_time": "2024-04-20T12:49:13.955721Z",
     "start_time": "2024-04-20T12:49:13.935718Z"
    }
   },
   "id": "645da28bcda29d06"
  },
  {
   "cell_type": "code",
   "execution_count": 15,
   "outputs": [],
   "source": [
    "def annot_sim_clf_cluster(\n",
    "    X,\n",
    "    y_true,\n",
    "    cluster_annot_perfs,\n",
    "    k_means_dict=None,\n",
    "    random_state=None,\n",
    "):\n",
    "    \"\"\"\n",
    "    The knowledge of annotators is separated into clusters, where on each cluster an annotator can have different\n",
    "    performances. These performances are expressed through labeling accuracies. The clusters are determined through a\n",
    "    k-means algorithm.\n",
    "\n",
    "    Parameters\n",
    "    ----------\n",
    "    X : array-like, shape (n_samples, n_features)\n",
    "        Samples of the whole data set.\n",
    "    y_true : array-like, shape (n_samples)\n",
    "        True class labels of the given samples X.\n",
    "    cluster_annot_perfs : array-like of shape (n_annotators, n_clusters)\n",
    "        The entry `cluster_annot_perfs[j, i]` indicates the accuracy of annotator `j` for labeling samples of\n",
    "        cluster `i`.\n",
    "    k_means_dict : None or dict, optional (default=None)\n",
    "        Dictionary of parameters that are passed to `sklearn.cluster.MiniBatchKMeans`.\n",
    "    random_state : None or int or numpy.random.RandomState, optional (default=None)\n",
    "        The random state used for drawing the annotations and specifying the clusters.\n",
    "\n",
    "    Returns\n",
    "    -------\n",
    "    y : np.ndarray of shape (n_samples, n_annotators)\n",
    "        Class labels of simulated annotators.\n",
    "    \"\"\"\n",
    "    n_samples = X.shape[0]\n",
    "    \n",
    "    if np.sum(cluster_annot_perfs < 0) or np.sum(cluster_annot_perfs > 1):\n",
    "        raise ValueError(\"`cluster_perfs` must contain values in [0, 1]\")\n",
    "    n_annotators = cluster_annot_perfs.shape[0]\n",
    "    n_clusters = cluster_annot_perfs.shape[1]\n",
    "\n",
    "    # Check `k_means_dict`.\n",
    "    if k_means_dict is None:\n",
    "        k_means_dict = {\n",
    "            \"batch_size\": 2 ** 13,\n",
    "            \"random_state\": random_state,\n",
    "            \"max_iter\": 1000,\n",
    "            \"n_init\": 10,\n",
    "        }\n",
    "\n",
    "    # Transform class labels to interval [0, n_classes-1].\n",
    "    le = LabelEncoder().fit(y_true)\n",
    "    y_true = le.transform(y_true)\n",
    "    n_classes = len(le.classes_)\n",
    "\n",
    "    # Compute clustering.\n",
    "    y_cluster = MiniBatchKMeans(n_clusters=n_clusters, **k_means_dict).fit_predict(X)\n",
    "    # shape is (n_samples, )\n",
    "\n",
    "    # Simulate annotators.\n",
    "    y = np.empty((n_samples, n_annotators)) # with shape (n_samples, n_annotators)\n",
    "    for a_idx in range(n_annotators):\n",
    "        P_predict = np.empty((n_samples, n_classes))\n",
    "        for c_idx in range(n_clusters):\n",
    "            # is_c 是一个长度为n_samples的一维array，其中的value是True和False\n",
    "            is_c = y_cluster == c_idx\n",
    "            p = (1 - cluster_annot_perfs[a_idx, c_idx]) / (n_classes - 1) # for wrong choose\n",
    "            P_predict[is_c] = p\n",
    "            P_predict[is_c, y_true[is_c]] = cluster_annot_perfs[a_idx, c_idx]\n",
    "            \n",
    "        cumlative = P_predict.cumsum(axis=1) # the row wise comlative sum (n_samples, n_classes)\n",
    "        uniform = random_state.rand(len(cumlative), 1)\n",
    "        # a matrix with shape (n_samples, 1) with value randomly form 0 to 1\n",
    "        y_predict = (uniform < cumlative).argmax(axis=1)\n",
    "        y[:, a_idx] = le.inverse_transform(y_predict)\n",
    "    return y, y_cluster"
   ],
   "metadata": {
    "collapsed": false,
    "ExecuteTime": {
     "end_time": "2024-04-20T12:49:14.658695Z",
     "start_time": "2024-04-20T12:49:14.641046Z"
    }
   },
   "id": "e21a845a4cc1f3a"
  },
  {
   "cell_type": "code",
   "execution_count": 16,
   "outputs": [
    {
     "name": "stdout",
     "output_type": "stream",
     "text": [
      "[[0.00000000e+00 0.00000000e+00 7.10542736e-15]\n",
      " [0.00000000e+00 0.00000000e+00 0.00000000e+00]\n",
      " [5.00000000e-02 4.75000000e-01 4.75000000e-01]\n",
      " [4.75000000e-01 4.75000000e-01 5.00000000e-02]]\n",
      "[[0.95  0.025 0.025]\n",
      " [0.    0.    0.   ]\n",
      " [0.05  0.475 0.475]\n",
      " [0.475 0.475 0.05 ]]\n",
      "[[0.95  0.025 0.025]\n",
      " [0.    0.    0.   ]\n",
      " [0.05  0.475 0.475]\n",
      " [0.475 0.475 0.05 ]]\n",
      "[[0.95  0.025 0.025]\n",
      " [0.475 0.05  0.475]\n",
      " [0.05  0.475 0.475]\n",
      " [0.475 0.475 0.05 ]]\n",
      "[[0.95  0.025 0.025]\n",
      " [0.475 0.05  0.475]\n",
      " [0.95  0.025 0.025]\n",
      " [0.025 0.025 0.95 ]]\n",
      "[[0.05  0.475 0.475]\n",
      " [0.475 0.05  0.475]\n",
      " [0.95  0.025 0.025]\n",
      " [0.025 0.025 0.95 ]]\n",
      "[[0.05  0.475 0.475]\n",
      " [0.475 0.05  0.475]\n",
      " [0.95  0.025 0.025]\n",
      " [0.025 0.025 0.95 ]]\n",
      "[[0.05  0.475 0.475]\n",
      " [0.025 0.95  0.025]\n",
      " [0.95  0.025 0.025]\n",
      " [0.025 0.025 0.95 ]]\n"
     ]
    },
    {
     "data": {
      "text/plain": "(array([[0., 2.],\n        [0., 1.],\n        [1., 0.],\n        [0., 2.]]),\n array([1, 3, 0, 0], dtype=int32))"
     },
     "execution_count": 16,
     "metadata": {},
     "output_type": "execute_result"
    }
   ],
   "source": [
    "annot_sim_clf_cluster(X, y_true, cluster_annot_perfs, random_state=random_state)"
   ],
   "metadata": {
    "collapsed": false,
    "ExecuteTime": {
     "end_time": "2024-04-20T12:49:15.463932Z",
     "start_time": "2024-04-20T12:49:15.414963Z"
    }
   },
   "id": "d27194421b533fbe"
  },
  {
   "cell_type": "code",
   "execution_count": null,
   "outputs": [],
   "source": [],
   "metadata": {
    "collapsed": false
   },
   "id": "447c4061efdcda68"
  }
 ],
 "metadata": {
  "kernelspec": {
   "display_name": "Python 3",
   "language": "python",
   "name": "python3"
  },
  "language_info": {
   "codemirror_mode": {
    "name": "ipython",
    "version": 2
   },
   "file_extension": ".py",
   "mimetype": "text/x-python",
   "name": "python",
   "nbconvert_exporter": "python",
   "pygments_lexer": "ipython2",
   "version": "2.7.6"
  }
 },
 "nbformat": 4,
 "nbformat_minor": 5
}
