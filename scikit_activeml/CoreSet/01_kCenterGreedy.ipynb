{
 "cells": [
  {
   "cell_type": "code",
   "execution_count": 1,
   "metadata": {},
   "outputs": [
    {
     "name": "stdout",
     "output_type": "stream",
     "text": [
      "5\n",
      "0 2 "
     ]
    }
   ],
   "source": [
    "# Python3 program for the above approach\n",
    "def maxindex(dist, n):\n",
    "\tmi = 0\n",
    "\tfor i in range(n):\n",
    "\t\tif (dist[i] > dist[mi]):\n",
    "\t\t\tmi = i\n",
    "\treturn mi\n",
    "\n",
    "def selectKcities(n, weights, k):\n",
    "\tdist = [0]*n\n",
    "\tcenters = []\n",
    "\n",
    "\tfor i in range(n):\n",
    "\t\tdist[i] = 10**9\n",
    "\t\t\n",
    "\t# index of city having the\n",
    "\t# maximum distance to it's\n",
    "\t# closest center\n",
    "\tmax = 0\n",
    "\tfor i in range(k):\n",
    "\t\tcenters.append(max)\n",
    "\t\tfor j in range(n):\n",
    "\n",
    "\t\t\t# updating the distance\n",
    "\t\t\t# of the cities to their\n",
    "\t\t\t# closest centers\n",
    "\t\t\tdist[j] = min(dist[j], weights[max][j])\n",
    "\n",
    "\t\t# updating the index of the\n",
    "\t\t# city with the maximum\n",
    "\t\t# distance to it's closest center\n",
    "\t\tmax = maxindex(dist, n)\n",
    "\n",
    "\t# Printing the maximum distance\n",
    "\t# of a city to a center\n",
    "\t# that is our answer\n",
    "\t# print()\n",
    "\tprint(dist[max])\n",
    "\n",
    "\t# Printing the cities that\n",
    "\t# were chosen to be made\n",
    "\t# centers\n",
    "\tfor i in centers:\n",
    "\t\tprint(i, end = \" \")\n",
    "\n",
    "# Driver Code\n",
    "if __name__ == '__main__':\n",
    "\tn = 4\n",
    "\tweights = [ [ 0, 4, 8, 5 ],\n",
    "\t\t\t[ 4, 0, 10, 7 ],\n",
    "\t\t\t[ 8, 10, 0, 9 ],\n",
    "\t\t\t[ 5, 7, 9, 0 ] ]\n",
    "\tk = 2\n",
    "\n",
    "\t# Function Call\n",
    "\tselectKcities(n, weights, k)\n",
    "\n",
    "# This code is contributed by mohit kumar 29.\n",
    "\n"
   ]
  }
 ],
 "metadata": {
  "kernelspec": {
   "display_name": "Python 3",
   "language": "python",
   "name": "python3"
  },
  "language_info": {
   "codemirror_mode": {
    "name": "ipython",
    "version": 3
   },
   "file_extension": ".py",
   "mimetype": "text/x-python",
   "name": "python",
   "nbconvert_exporter": "python",
   "pygments_lexer": "ipython3",
   "version": "3.11.0"
  }
 },
 "nbformat": 4,
 "nbformat_minor": 2
}
