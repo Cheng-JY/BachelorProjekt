{
 "cells": [
  {
   "cell_type": "markdown",
   "source": [
    "# MRO in Python"
   ],
   "metadata": {
    "collapsed": false
   },
   "id": "817838e29aee27d1"
  },
  {
   "cell_type": "code",
   "execution_count": 7,
   "id": "initial_id",
   "metadata": {
    "collapsed": true,
    "ExecuteTime": {
     "end_time": "2024-04-30T09:32:55.460556Z",
     "start_time": "2024-04-30T09:32:55.458614Z"
    }
   },
   "outputs": [],
   "source": [
    "class B:\n",
    "    def __init__(self, b):\n",
    "        self.b = b\n",
    "\n",
    "class C:\n",
    "    def __init__(self, c):\n",
    "        self.c = c\n",
    "\n",
    "class D(B, C):\n",
    "    def __init__(self, b, c, d):\n",
    "        super().__init__(b)\n",
    "        C.__init__(self, c=c)\n",
    "        self.d = d"
   ]
  },
  {
   "cell_type": "code",
   "execution_count": 8,
   "outputs": [
    {
     "name": "stdout",
     "output_type": "stream",
     "text": [
      "1\n",
      "2\n",
      "3\n"
     ]
    }
   ],
   "source": [
    "d = D(1, 2, 3)\n",
    "print(d.b)  # 输出: 1\n",
    "print(d.c)  # 输出: 2\n",
    "print(d.d)  # 输出: 3\n"
   ],
   "metadata": {
    "collapsed": false,
    "ExecuteTime": {
     "end_time": "2024-04-30T09:32:56.445171Z",
     "start_time": "2024-04-30T09:32:56.443277Z"
    }
   },
   "id": "98bda2cee2510fd1"
  },
  {
   "cell_type": "code",
   "execution_count": 18,
   "outputs": [
    {
     "name": "stdout",
     "output_type": "stream",
     "text": [
      "1\n",
      "2\n",
      "3\n",
      "4\n",
      "4\n",
      "[<class '__main__.D'>, <class '__main__.C'>, <class '__main__.B'>, <class 'object'>]\n"
     ]
    }
   ],
   "source": [
    "class B:\n",
    "    def __init__(self, b=None):\n",
    "        super().__init__()\n",
    "        self.b = b\n",
    "\n",
    "class C:\n",
    "    def __init__(self, c=None, e=4, **kwargs):\n",
    "        super().__init__(**kwargs)\n",
    "        self.c = c\n",
    "        self.e = e\n",
    "\n",
    "class D(C, B):\n",
    "    def __init__(self, b=None, c=None, d=None):\n",
    "        super().__init__(b=b, c=c)\n",
    "        self.d = d\n",
    "    \n",
    "    def print_e(self):\n",
    "        print(self.e)\n",
    "\n",
    "# 示例用法\n",
    "d = D(b=1, c=2, d=3)\n",
    "print(d.b)  # 输出: 1\n",
    "print(d.c)  # 输出: 2\n",
    "print(d.d)  # 输出: 3\n",
    "print(d.e)\n",
    "print(D.mro())"
   ],
   "metadata": {
    "collapsed": false,
    "ExecuteTime": {
     "end_time": "2024-04-30T11:21:59.362177Z",
     "start_time": "2024-04-30T11:21:59.354137Z"
    }
   },
   "id": "8a55742c986980cf"
  },
  {
   "cell_type": "code",
   "execution_count": null,
   "outputs": [],
   "source": [],
   "metadata": {
    "collapsed": false
   },
   "id": "5db797fa36f1f50f"
  }
 ],
 "metadata": {
  "kernelspec": {
   "display_name": "Python 3",
   "language": "python",
   "name": "python3"
  },
  "language_info": {
   "codemirror_mode": {
    "name": "ipython",
    "version": 2
   },
   "file_extension": ".py",
   "mimetype": "text/x-python",
   "name": "python",
   "nbconvert_exporter": "python",
   "pygments_lexer": "ipython2",
   "version": "2.7.6"
  }
 },
 "nbformat": 4,
 "nbformat_minor": 5
}
