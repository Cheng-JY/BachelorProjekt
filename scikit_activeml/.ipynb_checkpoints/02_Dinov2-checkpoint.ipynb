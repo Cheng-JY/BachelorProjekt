{
 "cells": [
  {
   "cell_type": "markdown",
   "id": "d5897f9463984941",
   "metadata": {},
   "source": [
    "## DINOv2\n",
    "from https://ai.meta.com/blog/dino-v2-computer-vision-self-supervised-learning/\n",
    "from https://github.com/facebookresearch/dinov2"
   ]
  },
  {
   "cell_type": "markdown",
   "id": "625ed5d6",
   "metadata": {},
   "source": [
    "Loading the data"
   ]
  },
  {
   "cell_type": "code",
   "execution_count": 2,
   "id": "3985cf14e3c15bba",
   "metadata": {
    "ExecuteTime": {
     "end_time": "2024-01-14T14:25:16.945212Z",
     "start_time": "2024-01-14T14:25:16.384844Z"
    }
   },
   "outputs": [],
   "source": [
    "from datasets import load_dataset\n",
    "\n",
    "train_ds, test_ds = load_dataset('cifar10', split=['train[:5000]', 'test[:2000]'])\n",
    "# split up training into training + validation\n",
    "splits = train_ds.train_test_split(test_size=0.1)\n",
    "train_ds = splits['train']\n",
    "val_ds = splits['test']"
   ]
  },
  {
   "cell_type": "code",
   "execution_count": 3,
   "id": "d096dd0a48d56ff6",
   "metadata": {},
   "outputs": [
    {
     "data": {
      "text/plain": [
       "Dataset({\n",
       "    features: ['img', 'label'],\n",
       "    num_rows: 4500\n",
       "})"
      ]
     },
     "execution_count": 3,
     "metadata": {},
     "output_type": "execute_result"
    }
   ],
   "source": [
    "train_ds"
   ]
  },
  {
   "cell_type": "markdown",
   "id": "ebd1a1a9",
   "metadata": {},
   "source": []
  }
 ],
 "metadata": {
  "kernelspec": {
   "display_name": "Python 3 (ipykernel)",
   "language": "python",
   "name": "python3"
  },
  "language_info": {
   "codemirror_mode": {
    "name": "ipython",
    "version": 3
   },
   "file_extension": ".py",
   "mimetype": "text/x-python",
   "name": "python",
   "nbconvert_exporter": "python",
   "pygments_lexer": "ipython3",
   "version": "3.10.13"
  }
 },
 "nbformat": 4,
 "nbformat_minor": 5
}
