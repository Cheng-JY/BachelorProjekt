{
 "cells": [
  {
   "cell_type": "code",
   "execution_count": 17,
   "metadata": {},
   "outputs": [],
   "source": [
    "from sklearn.cluster import KMeans\n",
    "from sklearn.base import ClusterMixin\n",
    "from sklearn.datasets import make_classification\n",
    "from sklearn.metrics import pairwise_distances\n",
    "from skactiveml.utils import labeled_indices, MISSING_LABEL\n",
    "import numpy as np"
   ]
  },
  {
   "cell_type": "code",
   "execution_count": 14,
   "metadata": {},
   "outputs": [
    {
     "data": {
      "text/plain": [
       "True"
      ]
     },
     "execution_count": 14,
     "metadata": {},
     "output_type": "execute_result"
    }
   ],
   "source": [
    "kmeans = KMeans(n_clusters=4)\n",
    "issubclass(KMeans, ClusterMixin)"
   ]
  },
  {
   "cell_type": "code",
   "execution_count": 15,
   "metadata": {},
   "outputs": [
    {
     "name": "stdout",
     "output_type": "stream",
     "text": [
      "[0 1 2 3]\n",
      "[34 26 31  9]\n"
     ]
    },
    {
     "name": "stderr",
     "output_type": "stream",
     "text": [
      "/Library/Frameworks/Python.framework/Versions/3.11/lib/python3.11/site-packages/sklearn/cluster/_kmeans.py:870: FutureWarning: The default value of `n_init` will change from 10 to 'auto' in 1.4. Set the value of `n_init` explicitly to suppress the warning\n",
      "  warnings.warn(\n"
     ]
    }
   ],
   "source": [
    "X, y_true = make_classification(n_features=2, n_redundant=0, random_state=0)\n",
    "cluster_labels = kmeans.fit_predict(X)\n",
    "cluster_ids, cluster_sizes = np.unique(cluster_labels, return_counts=True)\n",
    "print(cluster_ids)\n",
    "print(cluster_sizes)\n",
    "\n",
    "y = np.full(shape=y_true.shape, fill_value=MISSING_LABEL)\n",
    "mapping = np.arange(3)\n",
    "y[mapping] = y_true[mapping]\n"
   ]
  },
  {
   "cell_type": "code",
   "execution_count": 16,
   "metadata": {},
   "outputs": [
    {
     "name": "stdout",
     "output_type": "stream",
     "text": [
      "[0 1]\n"
     ]
    }
   ],
   "source": [
    "selected_samples = labeled_indices(y, missing_label=MISSING_LABEL)\n",
    "covered_cluster = np.unique([cluster_labels[i] for i in selected_samples])\n",
    "print(covered_cluster)"
   ]
  },
  {
   "cell_type": "code",
   "execution_count": 27,
   "metadata": {},
   "outputs": [
    {
     "name": "stdout",
     "output_type": "stream",
     "text": [
      "[[0.         0.29861325 0.51938783 0.57856882 0.70612023 1.20172563\n",
      "  2.76409189 2.79016074 3.18123653 5.23716903]\n",
      " [0.         0.22458231 0.29861325 0.40751186 0.86667169 1.32911861\n",
      "  2.49464132 2.8248325  3.44584071 5.49530983]\n",
      " [0.         0.19634942 0.22458231 0.51938783 1.07254365 1.49688098\n",
      "  2.27637396 2.81695453 3.61976569 5.66069088]\n",
      " [0.         2.62501096 2.79016074 2.81695453 2.8248325  2.89421926\n",
      "  2.91822117 3.16462351 3.92688562 4.31385014]\n",
      " [0.         2.06166357 2.61357746 2.89421926 3.18123653 3.44584071\n",
      "  3.58815104 3.61976569 3.81380748 5.32399199]\n",
      " [0.         2.06166357 4.31385014 4.67337229 5.23716903 5.49530983\n",
      "  5.61199493 5.66069088 5.85238112 7.18405035]\n",
      " [0.         0.19634942 0.40751186 0.70612023 1.26725566 1.58153639\n",
      "  2.13784657 2.91822117 3.81380748 5.85238112]\n",
      " [0.         2.13784657 2.27637396 2.49464132 2.76409189 3.16462351\n",
      "  3.21209716 3.69134582 5.32399199 7.18405035]\n",
      " [0.         1.20172563 1.32911861 1.33175248 1.49688098 1.58153639\n",
      "  3.58815104 3.69134582 3.92688562 5.61199493]\n",
      " [0.         0.57856882 0.86667169 1.07254365 1.26725566 1.33175248\n",
      "  2.61357746 2.62501096 3.21209716 4.67337229]]\n",
      "[0.81800108 0.52319556 0.42093173 5.4151717  4.67524103 6.37551371\n",
      " 0.60386128 4.41422053 2.53084424 1.44524051]\n",
      "[2.44498455 3.82266239 4.75136435 0.3693327  0.42778543 0.31370021\n",
      " 3.31201897 0.45308112 0.79025013 1.38385271]\n"
     ]
    }
   ],
   "source": [
    "dist = pairwise_distances(X[:10])\n",
    "dist_matrix_sort_inc = np.sort(dist)\n",
    "print(dist_matrix_sort_inc)\n",
    "knn = np.sum(dist_matrix_sort_inc[:, :2+1], axis=1)\n",
    "print(knn)\n",
    "typi = 1/ (1/2 * knn)\n",
    "print(typi)"
   ]
  }
 ],
 "metadata": {
  "kernelspec": {
   "display_name": "Python 3",
   "language": "python",
   "name": "python3"
  },
  "language_info": {
   "codemirror_mode": {
    "name": "ipython",
    "version": 3
   },
   "file_extension": ".py",
   "mimetype": "text/x-python",
   "name": "python",
   "nbconvert_exporter": "python",
   "pygments_lexer": "ipython3",
   "version": "3.11.0"
  }
 },
 "nbformat": 4,
 "nbformat_minor": 2
}
