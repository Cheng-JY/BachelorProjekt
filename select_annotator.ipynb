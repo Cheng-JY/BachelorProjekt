{
 "cells": [
  {
   "cell_type": "code",
   "execution_count": 1,
   "id": "initial_id",
   "metadata": {
    "collapsed": true,
    "ExecuteTime": {
     "end_time": "2024-04-19T19:14:55.037478Z",
     "start_time": "2024-04-19T19:14:54.520630Z"
    }
   },
   "outputs": [],
   "source": [
    "%load_ext autoreload\n",
    "%autoreload 2\n",
    "\n",
    "import numpy as np\n",
    "from sklearn.preprocessing import LabelEncoder\n",
    "from sklearn.cluster import MiniBatchKMeans\n",
    "from sklearn.datasets import make_blobs\n",
    "import matplotlib.pyplot as plt"
   ]
  },
  {
   "cell_type": "code",
   "execution_count": 3,
   "outputs": [
    {
     "data": {
      "text/plain": "<Figure size 640x480 with 1 Axes>",
      "image/png": "[encoded data removed]"
     },
     "metadata": {},
     "output_type": "display_data"
    }
   ],
   "source": [
    "data_set_name = \"toy-classification\"\n",
    "X, y_true = make_blobs(n_samples=20, centers=3, cluster_std=0.6, random_state=0)\n",
    "y_true %= 2\n",
    "y_true = y_true\n",
    "plt.scatter(X[:, 0], X[:, 1], c=y_true)\n",
    "plt.show()"
   ],
   "metadata": {
    "collapsed": false,
    "ExecuteTime": {
     "end_time": "2024-04-19T19:16:23.699260Z",
     "start_time": "2024-04-19T19:16:23.628305Z"
    }
   },
   "id": "f335fa08b46bc30d"
  },
  {
   "cell_type": "code",
   "execution_count": 8,
   "outputs": [],
   "source": [
    "cluster_annot_perfs = np.array(\n",
    "    [[0.05, 0.95, 0.95, 0.05],\n",
    "     [0.95, 0.05, 0.05, 0.95]]\n",
    ")\n",
    "random_state = np.random.RandomState(0)"
   ],
   "metadata": {
    "collapsed": false,
    "ExecuteTime": {
     "end_time": "2024-04-19T19:23:30.214857Z",
     "start_time": "2024-04-19T19:23:30.193926Z"
    }
   },
   "id": "645da28bcda29d06"
  },
  {
   "cell_type": "code",
   "execution_count": 10,
   "outputs": [],
   "source": [
    "def annot_sim_clf_cluster(\n",
    "    X,\n",
    "    y_true,\n",
    "    cluster_annot_perfs,\n",
    "    k_means_dict=None,\n",
    "    random_state=None,\n",
    "):\n",
    "    \"\"\"\n",
    "    The knowledge of annotators is separated into clusters, where on each cluster an annotator can have different\n",
    "    performances. These performances are expressed through labeling accuracies. The clusters are determined through a\n",
    "    k-means algorithm.\n",
    "\n",
    "    Parameters\n",
    "    ----------\n",
    "    X : array-like, shape (n_samples, n_features)\n",
    "        Samples of the whole data set.\n",
    "    y_true : array-like, shape (n_samples)\n",
    "        True class labels of the given samples X.\n",
    "    cluster_annot_perfs : array-like of shape (n_annotators, n_clusters)\n",
    "        The entry `cluster_annot_perfs[j, i]` indicates the accuracy of annotator `j` for labeling samples of\n",
    "        cluster `i`.\n",
    "    k_means_dict : None or dict, optional (default=None)\n",
    "        Dictionary of parameters that are passed to `sklearn.cluster.MiniBatchKMeans`.\n",
    "    random_state : None or int or numpy.random.RandomState, optional (default=None)\n",
    "        The random state used for drawing the annotations and specifying the clusters.\n",
    "\n",
    "    Returns\n",
    "    -------\n",
    "    y : np.ndarray of shape (n_samples, n_annotators)\n",
    "        Class labels of simulated annotators.\n",
    "    \"\"\"\n",
    "    n_samples = X.shape[0]\n",
    "    \n",
    "    if np.sum(cluster_annot_perfs < 0) or np.sum(cluster_annot_perfs > 1):\n",
    "        raise ValueError(\"`cluster_perfs` must contain values in [0, 1]\")\n",
    "    n_annotators = cluster_annot_perfs.shape[0]\n",
    "    n_clusters = cluster_annot_perfs.shape[1]\n",
    "\n",
    "    # Check `k_means_dict`.\n",
    "    if k_means_dict is None:\n",
    "        k_means_dict = {\n",
    "            \"batch_size\": 2 ** 13,\n",
    "            \"random_state\": random_state,\n",
    "            \"max_iter\": 1000,\n",
    "            \"n_init\": 10,\n",
    "        }\n",
    "\n",
    "    # Transform class labels to interval [0, n_classes-1].\n",
    "    le = LabelEncoder().fit(y_true)\n",
    "    y_true = le.transform(y_true)\n",
    "    print(\"y_true\", y_true)\n",
    "    n_classes = len(le.classes_)\n",
    "\n",
    "    # Compute clustering.\n",
    "    y_cluster = MiniBatchKMeans(n_clusters=n_clusters, **k_means_dict).fit_predict(X)\n",
    "    print(\"y_cluster\", y_cluster)\n",
    "    # shape is (n_samples, )\n",
    "\n",
    "    # Simulate annotators.\n",
    "    y = np.empty((n_samples, n_annotators)) # with shape (n_samples, n_annotators)\n",
    "    for a_idx in range(n_annotators):\n",
    "        P_predict = np.empty((n_samples, n_classes))\n",
    "        for c_idx in range(n_clusters):\n",
    "            print(\"c_idx\", c_idx)\n",
    "            is_c = y_cluster == c_idx\n",
    "            p = (1 - cluster_annot_perfs[a_idx, c_idx]) / (n_classes - 1) # for wrong choose\n",
    "            P_predict[is_c] = p\n",
    "            P_predict[is_c, y_true[is_c]] = cluster_annot_perfs[a_idx, c_idx]\n",
    "        cumlative = P_predict.cumsum(axis=1) # the row wise comlative sum (n_samples, n_classes)\n",
    "        uniform = random_state.rand(len(cumlative), 1)\n",
    "        # a matrix with shape (n_samples, 1) with value randomly form 0 to 1\n",
    "        y_predict = (uniform < cumlative).argmax(axis=1)\n",
    "        y[:, a_idx] = le.inverse_transform(y_predict)\n",
    "\n",
    "    return y, y_cluster"
   ],
   "metadata": {
    "collapsed": false,
    "ExecuteTime": {
     "end_time": "2024-04-19T19:33:12.027364Z",
     "start_time": "2024-04-19T19:33:11.992207Z"
    }
   },
   "id": "e21a845a4cc1f3a"
  },
  {
   "cell_type": "code",
   "execution_count": 11,
   "outputs": [
    {
     "name": "stdout",
     "output_type": "stream",
     "text": [
      "y_true [0 0 0 1 1 0 0 1 0 0 1 0 1 1 0 0 0 0 1 0]\n",
      "y_cluster [0 2 0 1 1 2 3 1 0 0 1 0 1 1 0 2 2 2 1 0]\n",
      "c_idx 0\n",
      "c_idx 1\n",
      "c_idx 2\n",
      "c_idx 3\n",
      "c_idx 0\n",
      "c_idx 1\n",
      "c_idx 2\n",
      "c_idx 3\n"
     ]
    },
    {
     "data": {
      "text/plain": "(array([[1., 0.],\n        [0., 1.],\n        [1., 0.],\n        [0., 0.],\n        [1., 0.],\n        [0., 1.],\n        [1., 0.],\n        [1., 1.],\n        [1., 0.],\n        [1., 0.],\n        [1., 0.],\n        [1., 0.],\n        [1., 0.],\n        [1., 0.],\n        [1., 0.],\n        [0., 1.],\n        [0., 1.],\n        [0., 1.],\n        [1., 0.],\n        [1., 0.]]),\n array([0, 2, 0, 1, 1, 2, 3, 1, 0, 0, 1, 0, 1, 1, 0, 2, 2, 2, 1, 0],\n       dtype=int32))"
     },
     "execution_count": 11,
     "metadata": {},
     "output_type": "execute_result"
    }
   ],
   "source": [
    "annot_sim_clf_cluster(X, y_true, cluster_annot_perfs, random_state=random_state)"
   ],
   "metadata": {
    "collapsed": false,
    "ExecuteTime": {
     "end_time": "2024-04-19T19:33:12.802672Z",
     "start_time": "2024-04-19T19:33:12.756141Z"
    }
   },
   "id": "d27194421b533fbe"
  },
  {
   "cell_type": "code",
   "execution_count": null,
   "outputs": [],
   "source": [],
   "metadata": {
    "collapsed": false
   },
   "id": "447c4061efdcda68"
  }
 ],
 "metadata": {
  "kernelspec": {
   "display_name": "Python 3",
   "language": "python",
   "name": "python3"
  },
  "language_info": {
   "codemirror_mode": {
    "name": "ipython",
    "version": 2
   },
   "file_extension": ".py",
   "mimetype": "text/x-python",
   "name": "python",
   "nbconvert_exporter": "python",
   "pygments_lexer": "ipython2",
   "version": "2.7.6"
  }
 },
 "nbformat": 4,
 "nbformat_minor": 5
}
