{
 "cells": [
  {
   "cell_type": "markdown",
   "id": "21e5e3c4",
   "metadata": {},
   "source": [
    "# Convolution Neural Network with Pytorch Lightning"
   ]
  },
  {
   "cell_type": "code",
   "execution_count": 1,
   "id": "a6d2f3dc",
   "metadata": {},
   "outputs": [],
   "source": [
    "from __future__ import annotations\n",
    "import lightning.pytorch as pl\n",
    "import torch\n",
    "import torch.nn as nn\n",
    "import torch.nn.functional as F\n",
    "import torchmetrics"
   ]
  },
  {
   "cell_type": "code",
   "execution_count": 4,
   "id": "da7730eb",
   "metadata": {},
   "outputs": [],
   "source": [
    "class LeNet(pl.LightningModule):\n",
    "    def __init__(self, in_channels: int, out_channels: int, lr: float=2e-4):\n",
    "        \"\"\"\n",
    "        Args:\n",
    "        - in_channels: 1 for grayscale input image, 3 for RGB image\n",
    "        - out_channels: Number of classes of the classifier\n",
    "        \"\"\"\n",
    "        super.__init__()\n",
    "        # Debugging tool to display intermediate input/output size of your layer (called before fit)\n",
    "        self.example_input_array = torch.Tensor(16, in_channels, 32, 32)\n",
    "        self.learning_rate = lr\n",
    "        \n",
    "        # torchmetrics calculate the Accuracy\n",
    "        self.train_accuracy = torchmetrics.Accuracy(task=\"multclass\", num_classes=out_channels)\n",
    "        self.val_accuracy = torchmetrics.Accuracy(task=\"multclass\", num_classes=out_channels)\n",
    "        self.test_accuracy = torchmetrics.Accuracy(task=\"multclass\", num_classes=out_channels)\n",
    "        \n",
    "        # Convolution with 5*5 kernel + 2 padding\n",
    "        # [img_size] 32 -> conv -> 32 -> (max pool) -> 16\n",
    "        # with 6 output activation maps\n",
    "        self.conv_layer1 = nn.Sequential(\n",
    "            nn.Conv2d(\n",
    "                in_channels = in_channels,\n",
    "                out_channels=6,\n",
    "                kernel_size=5,\n",
    "                stride=1,\n",
    "                padding=2\n",
    "            ),\n",
    "            nn.MaxPool2d(kernel_size=2),\n",
    "        )\n",
    "        \n",
    "        # Convolution with 5*5 Kernel (no pad)\n",
    "        # Pool with 2*2 Max Kernel + 2 Stride\n",
    "        self.conv_layer2 = nn.Sequential(\n",
    "            nn.Con2d(\n",
    "                in_channels=6,\n",
    "                out_channels=16,\n",
    "                kernel_size=5,\n",
    "                stride=1,\n",
    "                padding=0\n",
    "            ),\n",
    "            nn.MaxPool2d(kernel_size=2),\n",
    "        )\n",
    "        \n",
    "        #FC Layer\n",
    "        self.fc1 = nn.Linear(in_features=16*5*5, out_features=120)\n",
    "        self.fc2 = nn.Linear(in_features=120, out_features=84)\n",
    "        # \"Softmax\" Layer\n",
    "        self.fc3 = nn.Linear(in_features=84, out_features=out_channels)\n",
    "        \n",
    "    def forword(self, x:torch.Tensor) -> torch.Tensor:\n",
    "        x = F.relu(self.conv_layer1(x))\n",
    "        x = F.relu(self.conv_layer2(x))\n",
    "        # flatten\n",
    "        x = torch.flatten(x, 1)\n",
    "        x = F.relu(self.fc1(x))\n",
    "        x = F.relu(self.fc2(x))\n",
    "        x = self.fc3(x)\n",
    "        return x\n",
    "    \n",
    "    # Implementing the training, validation, and test steps\n",
    "    def configure_optimizers(self) -> torch.optim.Adam:\n",
    "        return torch.optim.Adam(self.parameters(), lr=self.learning_rate)"
   ]
  },
  {
   "cell_type": "code",
   "execution_count": 3,
   "id": "a12adb5d",
   "metadata": {},
   "outputs": [
    {
     "name": "stdout",
     "output_type": "stream",
     "text": [
      "1.21.5\n"
     ]
    }
   ],
   "source": []
  },
  {
   "cell_type": "code",
   "execution_count": null,
   "id": "e4c52bce",
   "metadata": {},
   "outputs": [],
   "source": []
  }
 ],
 "metadata": {
  "kernelspec": {
   "display_name": "Python 3 (ipykernel)",
   "language": "python",
   "name": "python3"
  },
  "language_info": {
   "codemirror_mode": {
    "name": "ipython",
    "version": 3
   },
   "file_extension": ".py",
   "mimetype": "text/x-python",
   "name": "python",
   "nbconvert_exporter": "python",
   "pygments_lexer": "ipython3",
   "version": "3.10.13"
  }
 },
 "nbformat": 4,
 "nbformat_minor": 5
}
