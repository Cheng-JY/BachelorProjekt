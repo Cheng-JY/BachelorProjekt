{
 "cells": [
  {
   "cell_type": "code",
   "execution_count": 12,
   "metadata": {},
   "outputs": [],
   "source": [
    "import numpy as np\n",
    "from matplotlib import pyplot as plt, animation\n",
    "\n",
    "from sklearn.datasets import make_blobs\n",
    "\n",
    "from skactiveml.utils import MISSING_LABEL\n",
    "from skactiveml.visualization import plot_utilities, plot_decision_boundary\n",
    "from skactiveml.visualization._misc import mesh\n",
    "from skactiveml.base import *\n",
    "  \n",
    "from skactiveml.classifier import ParzenWindowClassifier\n",
    "\n",
    "from _core_set import CoreSet\n",
    "from sklearn.metrics import pairwise_distances"
   ]
  },
  {
   "cell_type": "code",
   "execution_count": 7,
   "metadata": {},
   "outputs": [],
   "source": [
    "random_state = np.random.RandomState(0)\n",
    "X, y_true = make_blobs(n_samples=10, n_features=2,\n",
    "                       centers=[[0, 1], [-3, .5], [-1, -1], [2, 1], [1, -.5]],\n",
    "                       cluster_std=.7, random_state=random_state)\n",
    "y_true = y_true % 2\n",
    "y = np.full(shape=y_true.shape, fill_value=MISSING_LABEL)"
   ]
  },
  {
   "cell_type": "code",
   "execution_count": 21,
   "metadata": {},
   "outputs": [],
   "source": [
    "qs = CoreSet(method='greedy', random_state=42)"
   ]
  },
  {
   "cell_type": "code",
   "execution_count": 9,
   "metadata": {},
   "outputs": [],
   "source": [
    "X_cand, _ = make_blobs(n_samples=5, n_features=2,\n",
    "                       centers=[[0, 1], [-3, .5], [-1, -1], [2, 1], [1, -.5]],\n",
    "                       cluster_std=.7, random_state=np.random.RandomState(1))\n",
    "X_with_cand = np.concatenate((X, X_cand), axis=0)\n",
    "n_new_cand = X_cand.shape[0]\n",
    "y_cand = np.full(shape=n_new_cand, fill_value=np.nan)\n",
    "y_with_cand = np.concatenate((y, y_cand), axis=None)\n",
    "mapping = np.arange(X.shape[0], X.shape[0] + n_new_cand)\n"
   ]
  },
  {
   "cell_type": "code",
   "execution_count": 15,
   "metadata": {},
   "outputs": [
    {
     "ename": "ValueError",
     "evalue": "Expected 2D array, got 1D array instead:\narray=[ 3.22136823  0.46715517  1.22332737 -0.67455926 -3.36972023 -0.25107804\n  1.13704175  0.57177051 -0.39421466 -2.61107709  2.04585535 -0.64361078\n  0.68511659  2.56862524 -0.8991695   0.01799145  2.53272641  1.08517251\n -2.33493811  0.39404995 -1.0722532  -0.71258105 -1.69270941 -0.18409452\n  2.31070426  1.23357203  1.23483664  1.28011005  1.21914739 -1.09786702].\nReshape your data either using array.reshape(-1, 1) if your data has a single feature or array.reshape(1, -1) if it contains a single sample.",
     "output_type": "error",
     "traceback": [
      "\u001b[0;31m---------------------------------------------------------------------------\u001b[0m",
      "\u001b[0;31mValueError\u001b[0m                                Traceback (most recent call last)",
      "\u001b[1;32m/Users/chengjiaying/BachelorProjekt/scikit_learn/06_CoreKCenterGreedy.ipynb Cell 5\u001b[0m line \u001b[0;36m1\n\u001b[0;32m----> <a href='vscode-notebook-cell:/Users/chengjiaying/BachelorProjekt/scikit_learn/06_CoreKCenterGreedy.ipynb#W4sZmlsZQ%3D%3D?line=0'>1</a>\u001b[0m query_idx, utilities \u001b[39m=\u001b[39m qs\u001b[39m.\u001b[39;49mquery(X\u001b[39m=\u001b[39;49mX, y\u001b[39m=\u001b[39;49my, batch_size\u001b[39m=\u001b[39;49m\u001b[39m2\u001b[39;49m, return_utilities\u001b[39m=\u001b[39;49m\u001b[39mTrue\u001b[39;49;00m, candidates\u001b[39m=\u001b[39;49mX_cand)\n",
      "File \u001b[0;32m~/BachelorProjekt/scikit_learn/_core_set.py:118\u001b[0m, in \u001b[0;36mCoreSet.query\u001b[0;34m(self, X, y, candidates, batch_size, return_utilities, **kwargs)\u001b[0m\n\u001b[1;32m    116\u001b[0m         y_with_cand \u001b[39m=\u001b[39m np\u001b[39m.\u001b[39mconcatenate((y_cand, y), axis\u001b[39m=\u001b[39m\u001b[39mNone\u001b[39;00m)\n\u001b[1;32m    117\u001b[0m         mapping \u001b[39m=\u001b[39m np\u001b[39m.\u001b[39marange(n_new_cand)\n\u001b[0;32m--> 118\u001b[0m         query_indices, utilities \u001b[39m=\u001b[39m k_greedy_center(X_with_cand, y_with_cand, batch_size, \u001b[39mself\u001b[39;49m\u001b[39m.\u001b[39;49mrandom_state_, \u001b[39mself\u001b[39;49m\u001b[39m.\u001b[39;49mmissing_label, mapping, n_new_cand)\n\u001b[1;32m    120\u001b[0m \u001b[39mif\u001b[39;00m return_utilities:\n\u001b[1;32m    121\u001b[0m     \u001b[39mreturn\u001b[39;00m query_indices, utilities\n",
      "File \u001b[0;32m~/BachelorProjekt/scikit_learn/_core_set.py:187\u001b[0m, in \u001b[0;36mk_greedy_center\u001b[0;34m(X, y, batch_size, random_state, missing_label, mapping, n_new_cand)\u001b[0m\n\u001b[1;32m    185\u001b[0m     utilities[i] \u001b[39m=\u001b[39m update_distances(X, selected_samples, mapping)\n\u001b[1;32m    186\u001b[0m \u001b[39melse\u001b[39;00m:\n\u001b[0;32m--> 187\u001b[0m     update_dist \u001b[39m=\u001b[39m update_distances(X, selected_samples, mapping)\n\u001b[1;32m    188\u001b[0m     utilities[i] \u001b[39m=\u001b[39m update_dist[:, mapping]\n\u001b[1;32m    190\u001b[0m \u001b[39m# select index\u001b[39;00m\n",
      "File \u001b[0;32m~/BachelorProjekt/scikit_learn/_core_set.py:233\u001b[0m, in \u001b[0;36mupdate_distances\u001b[0;34m(X, cluster_centers, mapping)\u001b[0m\n\u001b[1;32m    231\u001b[0m \u001b[39mif\u001b[39;00m \u001b[39mlen\u001b[39m(cluster_centers) \u001b[39m>\u001b[39m \u001b[39m0\u001b[39m:\n\u001b[1;32m    232\u001b[0m     cluster_center_feature \u001b[39m=\u001b[39m X[cluster_centers]\n\u001b[0;32m--> 233\u001b[0m     dist_matrix \u001b[39m=\u001b[39m pairwise_distances(X, cluster_center_feature)\n\u001b[1;32m    234\u001b[0m     dist \u001b[39m=\u001b[39m np\u001b[39m.\u001b[39mmin(dist_matrix, axis\u001b[39m=\u001b[39m\u001b[39m1\u001b[39m)\u001b[39m.\u001b[39mreshape(\u001b[39m1\u001b[39m, \u001b[39m-\u001b[39m\u001b[39m1\u001b[39m)\n\u001b[1;32m    236\u001b[0m result_dist \u001b[39m=\u001b[39m np\u001b[39m.\u001b[39mfull((\u001b[39m1\u001b[39m, X\u001b[39m.\u001b[39mshape[\u001b[39m0\u001b[39m]), np\u001b[39m.\u001b[39mnan)\n",
      "File \u001b[0;32m/Library/Frameworks/Python.framework/Versions/3.11/lib/python3.11/site-packages/sklearn/metrics/pairwise.py:2039\u001b[0m, in \u001b[0;36mpairwise_distances\u001b[0;34m(X, Y, metric, n_jobs, force_all_finite, **kwds)\u001b[0m\n\u001b[1;32m   2036\u001b[0m         \u001b[39mreturn\u001b[39;00m distance\u001b[39m.\u001b[39msquareform(distance\u001b[39m.\u001b[39mpdist(X, metric\u001b[39m=\u001b[39mmetric, \u001b[39m*\u001b[39m\u001b[39m*\u001b[39mkwds))\n\u001b[1;32m   2037\u001b[0m     func \u001b[39m=\u001b[39m partial(distance\u001b[39m.\u001b[39mcdist, metric\u001b[39m=\u001b[39mmetric, \u001b[39m*\u001b[39m\u001b[39m*\u001b[39mkwds)\n\u001b[0;32m-> 2039\u001b[0m \u001b[39mreturn\u001b[39;00m _parallel_pairwise(X, Y, func, n_jobs, \u001b[39m*\u001b[39;49m\u001b[39m*\u001b[39;49mkwds)\n",
      "File \u001b[0;32m/Library/Frameworks/Python.framework/Versions/3.11/lib/python3.11/site-packages/sklearn/metrics/pairwise.py:1579\u001b[0m, in \u001b[0;36m_parallel_pairwise\u001b[0;34m(X, Y, func, n_jobs, **kwds)\u001b[0m\n\u001b[1;32m   1576\u001b[0m X, Y, dtype \u001b[39m=\u001b[39m _return_float_dtype(X, Y)\n\u001b[1;32m   1578\u001b[0m \u001b[39mif\u001b[39;00m effective_n_jobs(n_jobs) \u001b[39m==\u001b[39m \u001b[39m1\u001b[39m:\n\u001b[0;32m-> 1579\u001b[0m     \u001b[39mreturn\u001b[39;00m func(X, Y, \u001b[39m*\u001b[39;49m\u001b[39m*\u001b[39;49mkwds)\n\u001b[1;32m   1581\u001b[0m \u001b[39m# enforce a threading backend to prevent data communication overhead\u001b[39;00m\n\u001b[1;32m   1582\u001b[0m fd \u001b[39m=\u001b[39m delayed(_dist_wrapper)\n",
      "File \u001b[0;32m/Library/Frameworks/Python.framework/Versions/3.11/lib/python3.11/site-packages/sklearn/metrics/pairwise.py:300\u001b[0m, in \u001b[0;36meuclidean_distances\u001b[0;34m(X, Y, Y_norm_squared, squared, X_norm_squared)\u001b[0m\n\u001b[1;32m    224\u001b[0m \u001b[39mdef\u001b[39;00m \u001b[39meuclidean_distances\u001b[39m(\n\u001b[1;32m    225\u001b[0m     X, Y\u001b[39m=\u001b[39m\u001b[39mNone\u001b[39;00m, \u001b[39m*\u001b[39m, Y_norm_squared\u001b[39m=\u001b[39m\u001b[39mNone\u001b[39;00m, squared\u001b[39m=\u001b[39m\u001b[39mFalse\u001b[39;00m, X_norm_squared\u001b[39m=\u001b[39m\u001b[39mNone\u001b[39;00m\n\u001b[1;32m    226\u001b[0m ):\n\u001b[1;32m    227\u001b[0m \u001b[39m    \u001b[39m\u001b[39m\"\"\"\u001b[39;00m\n\u001b[1;32m    228\u001b[0m \u001b[39m    Compute the distance matrix between each pair from a vector array X and Y.\u001b[39;00m\n\u001b[1;32m    229\u001b[0m \n\u001b[0;32m   (...)\u001b[0m\n\u001b[1;32m    298\u001b[0m \u001b[39m           [1.41421356]])\u001b[39;00m\n\u001b[1;32m    299\u001b[0m \u001b[39m    \"\"\"\u001b[39;00m\n\u001b[0;32m--> 300\u001b[0m     X, Y \u001b[39m=\u001b[39m check_pairwise_arrays(X, Y)\n\u001b[1;32m    302\u001b[0m     \u001b[39mif\u001b[39;00m X_norm_squared \u001b[39mis\u001b[39;00m \u001b[39mnot\u001b[39;00m \u001b[39mNone\u001b[39;00m:\n\u001b[1;32m    303\u001b[0m         X_norm_squared \u001b[39m=\u001b[39m check_array(X_norm_squared, ensure_2d\u001b[39m=\u001b[39m\u001b[39mFalse\u001b[39;00m)\n",
      "File \u001b[0;32m/Library/Frameworks/Python.framework/Versions/3.11/lib/python3.11/site-packages/sklearn/metrics/pairwise.py:155\u001b[0m, in \u001b[0;36mcheck_pairwise_arrays\u001b[0;34m(X, Y, precomputed, dtype, accept_sparse, force_all_finite, copy)\u001b[0m\n\u001b[1;32m    146\u001b[0m     X \u001b[39m=\u001b[39m Y \u001b[39m=\u001b[39m check_array(\n\u001b[1;32m    147\u001b[0m         X,\n\u001b[1;32m    148\u001b[0m         accept_sparse\u001b[39m=\u001b[39maccept_sparse,\n\u001b[0;32m   (...)\u001b[0m\n\u001b[1;32m    152\u001b[0m         estimator\u001b[39m=\u001b[39mestimator,\n\u001b[1;32m    153\u001b[0m     )\n\u001b[1;32m    154\u001b[0m \u001b[39melse\u001b[39;00m:\n\u001b[0;32m--> 155\u001b[0m     X \u001b[39m=\u001b[39m check_array(\n\u001b[1;32m    156\u001b[0m         X,\n\u001b[1;32m    157\u001b[0m         accept_sparse\u001b[39m=\u001b[39;49maccept_sparse,\n\u001b[1;32m    158\u001b[0m         dtype\u001b[39m=\u001b[39;49mdtype,\n\u001b[1;32m    159\u001b[0m         copy\u001b[39m=\u001b[39;49mcopy,\n\u001b[1;32m    160\u001b[0m         force_all_finite\u001b[39m=\u001b[39;49mforce_all_finite,\n\u001b[1;32m    161\u001b[0m         estimator\u001b[39m=\u001b[39;49mestimator,\n\u001b[1;32m    162\u001b[0m     )\n\u001b[1;32m    163\u001b[0m     Y \u001b[39m=\u001b[39m check_array(\n\u001b[1;32m    164\u001b[0m         Y,\n\u001b[1;32m    165\u001b[0m         accept_sparse\u001b[39m=\u001b[39maccept_sparse,\n\u001b[0;32m   (...)\u001b[0m\n\u001b[1;32m    169\u001b[0m         estimator\u001b[39m=\u001b[39mestimator,\n\u001b[1;32m    170\u001b[0m     )\n\u001b[1;32m    172\u001b[0m \u001b[39mif\u001b[39;00m precomputed:\n",
      "File \u001b[0;32m/Library/Frameworks/Python.framework/Versions/3.11/lib/python3.11/site-packages/sklearn/utils/validation.py:902\u001b[0m, in \u001b[0;36mcheck_array\u001b[0;34m(array, accept_sparse, accept_large_sparse, dtype, order, copy, force_all_finite, ensure_2d, allow_nd, ensure_min_samples, ensure_min_features, estimator, input_name)\u001b[0m\n\u001b[1;32m    900\u001b[0m     \u001b[39m# If input is 1D raise error\u001b[39;00m\n\u001b[1;32m    901\u001b[0m     \u001b[39mif\u001b[39;00m array\u001b[39m.\u001b[39mndim \u001b[39m==\u001b[39m \u001b[39m1\u001b[39m:\n\u001b[0;32m--> 902\u001b[0m         \u001b[39mraise\u001b[39;00m \u001b[39mValueError\u001b[39;00m(\n\u001b[1;32m    903\u001b[0m             \u001b[39m\"\u001b[39m\u001b[39mExpected 2D array, got 1D array instead:\u001b[39m\u001b[39m\\n\u001b[39;00m\u001b[39marray=\u001b[39m\u001b[39m{}\u001b[39;00m\u001b[39m.\u001b[39m\u001b[39m\\n\u001b[39;00m\u001b[39m\"\u001b[39m\n\u001b[1;32m    904\u001b[0m             \u001b[39m\"\u001b[39m\u001b[39mReshape your data either using array.reshape(-1, 1) if \u001b[39m\u001b[39m\"\u001b[39m\n\u001b[1;32m    905\u001b[0m             \u001b[39m\"\u001b[39m\u001b[39myour data has a single feature or array.reshape(1, -1) \u001b[39m\u001b[39m\"\u001b[39m\n\u001b[1;32m    906\u001b[0m             \u001b[39m\"\u001b[39m\u001b[39mif it contains a single sample.\u001b[39m\u001b[39m\"\u001b[39m\u001b[39m.\u001b[39mformat(array)\n\u001b[1;32m    907\u001b[0m         )\n\u001b[1;32m    909\u001b[0m \u001b[39mif\u001b[39;00m dtype_numeric \u001b[39mand\u001b[39;00m array\u001b[39m.\u001b[39mdtype\u001b[39m.\u001b[39mkind \u001b[39min\u001b[39;00m \u001b[39m\"\u001b[39m\u001b[39mUSV\u001b[39m\u001b[39m\"\u001b[39m:\n\u001b[1;32m    910\u001b[0m     \u001b[39mraise\u001b[39;00m \u001b[39mValueError\u001b[39;00m(\n\u001b[1;32m    911\u001b[0m         \u001b[39m\"\u001b[39m\u001b[39mdtype=\u001b[39m\u001b[39m'\u001b[39m\u001b[39mnumeric\u001b[39m\u001b[39m'\u001b[39m\u001b[39m is not compatible with arrays of bytes/strings.\u001b[39m\u001b[39m\"\u001b[39m\n\u001b[1;32m    912\u001b[0m         \u001b[39m\"\u001b[39m\u001b[39mConvert your data to numeric values explicitly instead.\u001b[39m\u001b[39m\"\u001b[39m\n\u001b[1;32m    913\u001b[0m     )\n",
      "\u001b[0;31mValueError\u001b[0m: Expected 2D array, got 1D array instead:\narray=[ 3.22136823  0.46715517  1.22332737 -0.67455926 -3.36972023 -0.25107804\n  1.13704175  0.57177051 -0.39421466 -2.61107709  2.04585535 -0.64361078\n  0.68511659  2.56862524 -0.8991695   0.01799145  2.53272641  1.08517251\n -2.33493811  0.39404995 -1.0722532  -0.71258105 -1.69270941 -0.18409452\n  2.31070426  1.23357203  1.23483664  1.28011005  1.21914739 -1.09786702].\nReshape your data either using array.reshape(-1, 1) if your data has a single feature or array.reshape(1, -1) if it contains a single sample."
     ]
    }
   ],
   "source": [
    "\n",
    "query_idx, utilities = qs.query(X=X, y=y, batch_size=2, return_utilities=True, candidates=X_cand)"
   ]
  }
 ],
 "metadata": {
  "kernelspec": {
   "display_name": "Python 3",
   "language": "python",
   "name": "python3"
  },
  "language_info": {
   "codemirror_mode": {
    "name": "ipython",
    "version": 3
   },
   "file_extension": ".py",
   "mimetype": "text/x-python",
   "name": "python",
   "nbconvert_exporter": "python",
   "pygments_lexer": "ipython3",
   "version": "3.11.0"
  }
 },
 "nbformat": 4,
 "nbformat_minor": 2
}
