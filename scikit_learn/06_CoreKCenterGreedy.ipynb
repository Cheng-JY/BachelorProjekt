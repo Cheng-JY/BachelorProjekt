{
 "cells": [
  {
   "cell_type": "code",
   "execution_count": 15,
   "metadata": {},
   "outputs": [],
   "source": [
    "import numpy as np\n",
    "from matplotlib import pyplot as plt, animation\n",
    "\n",
    "from sklearn.datasets import make_blobs\n",
    "\n",
    "from skactiveml.utils import MISSING_LABEL\n",
    "from skactiveml.visualization import plot_utilities, plot_decision_boundary\n",
    "from skactiveml.visualization._misc import mesh\n",
    "from skactiveml.base import *\n",
    "  \n",
    "from skactiveml.classifier import ParzenWindowClassifier\n",
    "\n",
    "from _core_set import CoreSet\n",
    "from sklearn.metrics import pairwise_distances"
   ]
  },
  {
   "cell_type": "code",
   "execution_count": 4,
   "metadata": {},
   "outputs": [],
   "source": [
    "random_state = np.random.RandomState(0)\n",
    "X, y_true = make_blobs(n_samples=10, n_features=2,\n",
    "                       centers=[[0, 1], [-3, .5], [-1, -1], [2, 1], [1, -.5]],\n",
    "                       cluster_std=.7, random_state=random_state)\n",
    "y_true = y_true % 2\n",
    "y = np.full(shape=y_true.shape, fill_value=MISSING_LABEL)"
   ]
  },
  {
   "cell_type": "code",
   "execution_count": 5,
   "metadata": {},
   "outputs": [],
   "source": [
    "qs = CoreSet(method='greedy', random_state=42)"
   ]
  },
  {
   "cell_type": "code",
   "execution_count": 6,
   "metadata": {},
   "outputs": [],
   "source": [
    "X_cand, _ = make_blobs(n_samples=5, n_features=2,\n",
    "                       centers=[[0, 1], [-3, .5], [-1, -1], [2, 1], [1, -.5]],\n",
    "                       cluster_std=.7, random_state=np.random.RandomState(1))\n",
    "X_with_cand = np.concatenate((X, X_cand), axis=0)\n",
    "n_new_cand = X_cand.shape[0]\n",
    "y_cand = np.full(shape=n_new_cand, fill_value=np.nan)\n",
    "y_with_cand = np.concatenate((y, y_cand), axis=None)\n",
    "mapping = np.arange(X.shape[0], X.shape[0] + n_new_cand)\n"
   ]
  },
  {
   "cell_type": "code",
   "execution_count": 16,
   "metadata": {},
   "outputs": [
    {
     "ename": "AttributeError",
     "evalue": "'int' object has no attribute 'choice'",
     "output_type": "error",
     "traceback": [
      "\u001b[0;31m---------------------------------------------------------------------------\u001b[0m",
      "\u001b[0;31mAttributeError\u001b[0m                            Traceback (most recent call last)",
      "\u001b[1;32m/Users/chengjiaying/BachelorProjekt/scikit_learn/06_CoreKCenterGreedy.ipynb Cell 5\u001b[0m line \u001b[0;36m1\n\u001b[0;32m----> <a href='vscode-notebook-cell:/Users/chengjiaying/BachelorProjekt/scikit_learn/06_CoreKCenterGreedy.ipynb#W5sZmlsZQ%3D%3D?line=0'>1</a>\u001b[0m query_idx, utilities \u001b[39m=\u001b[39m qs\u001b[39m.\u001b[39;49mquery(X\u001b[39m=\u001b[39;49mX, y\u001b[39m=\u001b[39;49my, batch_size\u001b[39m=\u001b[39;49m\u001b[39m2\u001b[39;49m, return_utilities\u001b[39m=\u001b[39;49m\u001b[39mTrue\u001b[39;49;00m, candidates\u001b[39m=\u001b[39;49mX_cand)\n\u001b[1;32m      <a href='vscode-notebook-cell:/Users/chengjiaying/BachelorProjekt/scikit_learn/06_CoreKCenterGreedy.ipynb#W5sZmlsZQ%3D%3D?line=1'>2</a>\u001b[0m \u001b[39mprint\u001b[39m(utilities)\n",
      "File \u001b[0;32m~/BachelorProjekt/scikit_learn/_core_set.py:118\u001b[0m, in \u001b[0;36mCoreSet.query\u001b[0;34m(self, X, y, candidates, batch_size, return_utilities, **kwargs)\u001b[0m\n\u001b[1;32m    116\u001b[0m         y_with_cand \u001b[39m=\u001b[39m np\u001b[39m.\u001b[39mconcatenate((y_cand, y), axis\u001b[39m=\u001b[39m\u001b[39mNone\u001b[39;00m)\n\u001b[1;32m    117\u001b[0m         mapping \u001b[39m=\u001b[39m np\u001b[39m.\u001b[39marange(n_new_cand)\n\u001b[0;32m--> 118\u001b[0m         query_indices, utilities \u001b[39m=\u001b[39m k_greedy_center(X_with_cand, y_with_cand, batch_size, \u001b[39mself\u001b[39;49m\u001b[39m.\u001b[39;49mrandom_state, \u001b[39mself\u001b[39;49m\u001b[39m.\u001b[39;49mmissing_label, mapping, n_new_cand)\n\u001b[1;32m    120\u001b[0m \u001b[39mif\u001b[39;00m return_utilities:\n\u001b[1;32m    121\u001b[0m     \u001b[39mreturn\u001b[39;00m query_indices, utilities\n",
      "File \u001b[0;32m~/BachelorProjekt/scikit_learn/_core_set.py:194\u001b[0m, in \u001b[0;36mk_greedy_center\u001b[0;34m(X, y, batch_size, random_state, missing_label, mapping, n_new_cand)\u001b[0m\n\u001b[1;32m    191\u001b[0m idx \u001b[39m=\u001b[39m np\u001b[39m.\u001b[39mnanargmax(utilities[i])\n\u001b[1;32m    193\u001b[0m \u001b[39mif\u001b[39;00m \u001b[39mlen\u001b[39m(selected_samples) \u001b[39m==\u001b[39m \u001b[39m0\u001b[39m:\n\u001b[0;32m--> 194\u001b[0m     idx \u001b[39m=\u001b[39m random_state\u001b[39m.\u001b[39;49mchoice(mapping)\n\u001b[1;32m    195\u001b[0m     \u001b[39m# because np.nanargmax always return the first occurrence is returned\u001b[39;00m\n\u001b[1;32m    197\u001b[0m query_indices \u001b[39m=\u001b[39m np\u001b[39m.\u001b[39mappend(query_indices, [idx])\n",
      "\u001b[0;31mAttributeError\u001b[0m: 'int' object has no attribute 'choice'"
     ]
    }
   ],
   "source": [
    "\n",
    "query_idx, utilities = qs.query(X=X, y=y, batch_size=2, return_utilities=True, candidates=X_cand)\n",
    "print(utilities)"
   ]
  }
 ],
 "metadata": {
  "kernelspec": {
   "display_name": "Python 3",
   "language": "python",
   "name": "python3"
  },
  "language_info": {
   "codemirror_mode": {
    "name": "ipython",
    "version": 3
   },
   "file_extension": ".py",
   "mimetype": "text/x-python",
   "name": "python",
   "nbconvert_exporter": "python",
   "pygments_lexer": "ipython3",
   "version": "3.11.0"
  }
 },
 "nbformat": 4,
 "nbformat_minor": 2
}
