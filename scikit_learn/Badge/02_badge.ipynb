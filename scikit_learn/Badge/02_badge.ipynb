{
 "cells": [
  {
   "cell_type": "code",
   "execution_count": 1,
   "metadata": {},
   "outputs": [],
   "source": [
    "import numpy as np\n",
    "from scipy import stats\n",
    "from sklearn import clone\n",
    "from sklearn.metrics import pairwise_distances_argmin_min\n",
    "\n",
    "from skactiveml.base import SingleAnnotatorPoolQueryStrategy, SkactivemlClassifier\n",
    "from skactiveml.utils import (\n",
    "    MISSING_LABEL,\n",
    "    check_type,\n",
    "    check_equal_missing_label,\n",
    "    unlabeled_indices\n",
    ")\n",
    "\n",
    "from sklearn.datasets import make_classification\n",
    "from skactiveml.classifier import SklearnClassifier\n",
    "from sklearn.linear_model import LogisticRegression"
   ]
  },
  {
   "cell_type": "code",
   "execution_count": 2,
   "metadata": {},
   "outputs": [],
   "source": [
    "class Badge(SingleAnnotatorPoolQueryStrategy):\n",
    "    def __init__(\n",
    "            self,\n",
    "            missing_label=MISSING_LABEL,\n",
    "            random_state=None\n",
    "    ):\n",
    "        super().__init__(\n",
    "            missing_label=missing_label, random_state=random_state\n",
    "        )\n",
    "\n",
    "    def query(\n",
    "            self,\n",
    "            X,\n",
    "            y,\n",
    "            clf,\n",
    "            candidates=None,\n",
    "            batch_size=1,\n",
    "            return_utilities=False,\n",
    "            return_embeddings=False,\n",
    "    ):\n",
    "        # Validate input parameters\n",
    "        X, y, candidates, batch_size, return_utilities = self._validate_data(\n",
    "            X, y, candidates, batch_size, return_utilities, reset=True\n",
    "        )\n",
    "\n",
    "        X_cand, mapping = self._transform_candidates(candidates, X, y)\n",
    "\n",
    "        # Validate classifier type\n",
    "        check_type(clf, \"clf\", SkactivemlClassifier)\n",
    "        check_equal_missing_label(clf.missing_label, self.missing_label_)\n",
    "        if not isinstance(return_embeddings, bool):\n",
    "            raise TypeError(\"'return_embeddings' must be a boolean.\")\n",
    "\n",
    "        # Fit the classifier\n",
    "        clf = clone(clf).fit(X, y)\n",
    "\n",
    "        # find the unlabeled dataset\n",
    "        if candidates is None:\n",
    "            X_unlbld = X_cand\n",
    "            unlbld_mapping = mapping\n",
    "        elif mapping is not None:\n",
    "            unlbld_mapping = unlabeled_indices(y[mapping], missing_label=self.missing_label)\n",
    "            X_unlbld = X_cand[unlbld_mapping]\n",
    "            unlbld_mapping = mapping[unlbld_mapping]\n",
    "        else:\n",
    "            X_unlbld = X_cand\n",
    "            unlbld_mapping = np.arange(len(X_cand))\n",
    "\n",
    "        # Gradient embedding, aka predict class membership probabilities\n",
    "        \n",
    "        probas = clf.predict_proba(X_unlbld)\n",
    "        print(probas)\n",
    "        p_max = np.max(probas, axis=1).reshape(-1,1) #gaile\n",
    "        g_x = (p_max - 1) * X_unlbld\n",
    "\n",
    "        # init the utilities\n",
    "        if mapping is not None:\n",
    "            utilities = np.full(shape=(batch_size, X.shape[0]), fill_value=np.nan)\n",
    "        else:\n",
    "            utilities = np.full(shape=(batch_size, X_cand.shape[0]), fill_value=np.nan)\n",
    "\n",
    "        # 2. sampling with kmeans++\n",
    "        query_indicies = np.array([], dtype=int)\n",
    "        D_p = []\n",
    "        for i in range(batch_size):\n",
    "            if i == 0:\n",
    "                d_probas, is_randomized = _d_probability(g_x, [])\n",
    "            else:\n",
    "                d_probas, is_randomized = _d_probability(g_x, [idx_in_unlbld], D_p[i-1])\n",
    "            D_p.append(d_probas)\n",
    "            \n",
    "            utilities[i, unlbld_mapping] = d_probas\n",
    "            utilities[i, query_indicies] = np.nan\n",
    "            \n",
    "            if is_randomized:\n",
    "                idx_in_unlbld = self.random_state_.choice(len(g_x))\n",
    "            else:\n",
    "                customDist = stats.rv_discrete(name=\"customDist\", values=(np.arange(len(d_probas)), d_probas)) # gaile\n",
    "                idx_in_unlbld_array = customDist.rvs(size=1, random_state=self.random_state_)\n",
    "                idx_in_unlbld = idx_in_unlbld_array[0]\n",
    "            \n",
    "            idx = unlbld_mapping[idx_in_unlbld]\n",
    "            query_indicies = np.append(query_indicies, [idx])\n",
    "        \n",
    "        if return_utilities:\n",
    "            return query_indicies, utilities\n",
    "        else:\n",
    "            return query_indicies\n",
    "\n",
    "\n",
    "def _d_probability(g_x, query_indicies, d_latest=None):\n",
    "    if len(query_indicies) == 0:\n",
    "        return np.ones(shape=len(g_x)), True\n",
    "    g_query_indicies = g_x[query_indicies]\n",
    "    _, D = pairwise_distances_argmin_min(X=g_x, Y=g_query_indicies)\n",
    "    if d_latest is not None:\n",
    "        print(\"d_latest:\", d_latest)\n",
    "        D = np.minimum(d_latest, D)\n",
    "    D2 = np.square(D)\n",
    "    print(\"D2 \", D2)\n",
    "    D2_sum = np.sum(D2)\n",
    "    if D2_sum == 0:\n",
    "        return np.ones(shape=len(g_x)), True\n",
    "    D_probas = D2 / D2_sum\n",
    "    return D_probas, False"
   ]
  },
  {
   "cell_type": "code",
   "execution_count": 3,
   "metadata": {},
   "outputs": [],
   "source": [
    "X, y_true = make_classification(n_features=2, n_redundant=0, random_state=0)\n",
    "y = np.full(shape=y_true.shape, fill_value=MISSING_LABEL)\n",
    "clf = SklearnClassifier(LogisticRegression(), classes=np.unique(y_true))\n",
    "qs = Badge(random_state=0)"
   ]
  },
  {
   "cell_type": "code",
   "execution_count": 4,
   "metadata": {},
   "outputs": [
    {
     "name": "stdout",
     "output_type": "stream",
     "text": [
      "[[0.5 0.5]\n",
      " [0.5 0.5]\n",
      " [0.5 0.5]\n",
      " [0.5 0.5]\n",
      " [0.5 0.5]]\n",
      "d_latest: [1. 1. 1. 1. 1.]\n",
      "D2  [1. 1. 1. 1. 0.]\n",
      "[4 2]\n"
     ]
    },
    {
     "name": "stderr",
     "output_type": "stream",
     "text": [
      "/Library/Frameworks/Python.framework/Versions/3.11/lib/python3.11/site-packages/skactiveml/classifier/_wrapper.py:320: UserWarning: The 'base_estimator' could not be fitted because of 'There is no labeled data.'. Therefore, the class labels of the samples are counted and will be used to make predictions. The class label distribution is `_label_counts=[0, 0]`.\n",
      "  warnings.warn(\n",
      "/Library/Frameworks/Python.framework/Versions/3.11/lib/python3.11/site-packages/skactiveml/classifier/_wrapper.py:219: UserWarning: Since the 'base_estimator' could not be fitted when calling the `fit` method, the class label distribution`_label_counts=[0, 0]` is used to make the predictions.\n",
      "  warnings.warn(\n"
     ]
    }
   ],
   "source": [
    "query = qs.query(X[:5], y[:5], clf, candidates=None, batch_size=2)\n",
    "print(query)"
   ]
  },
  {
   "cell_type": "code",
   "execution_count": 5,
   "metadata": {},
   "outputs": [
    {
     "name": "stdout",
     "output_type": "stream",
     "text": [
      "[[0.5 0.5]\n",
      " [0.5 0.5]\n",
      " [0.5 0.5]\n",
      " [0.5 0.5]\n",
      " [0.5 0.5]]\n",
      "d_latest: [1. 1. 1. 1. 1.]\n",
      "D2  [1. 1. 1. 1. 0.]\n",
      "d_latest: [0.25 0.25 0.25 0.25 0.  ]\n",
      "D2  [0.0625    0.0126093 0.        0.0625    0.       ]\n",
      "[4 2 3]\n",
      "[[1.         1.         1.         1.         1.        ]\n",
      " [0.25       0.25       0.25       0.25              nan]\n",
      " [0.45418441 0.09163119        nan 0.45418441        nan]]\n"
     ]
    },
    {
     "name": "stderr",
     "output_type": "stream",
     "text": [
      "/Library/Frameworks/Python.framework/Versions/3.11/lib/python3.11/site-packages/skactiveml/classifier/_wrapper.py:320: UserWarning: The 'base_estimator' could not be fitted because of 'There is no labeled data.'. Therefore, the class labels of the samples are counted and will be used to make predictions. The class label distribution is `_label_counts=[0, 0]`.\n",
      "  warnings.warn(\n",
      "/Library/Frameworks/Python.framework/Versions/3.11/lib/python3.11/site-packages/skactiveml/classifier/_wrapper.py:219: UserWarning: Since the 'base_estimator' could not be fitted when calling the `fit` method, the class label distribution`_label_counts=[0, 0]` is used to make the predictions.\n",
      "  warnings.warn(\n"
     ]
    }
   ],
   "source": [
    "query, utilities = qs.query(X[:5], y[:5], clf, candidates=None, batch_size=3, return_utilities=True)\n",
    "print(query)\n",
    "print(utilities)"
   ]
  },
  {
   "cell_type": "code",
   "execution_count": 6,
   "metadata": {},
   "outputs": [
    {
     "name": "stdout",
     "output_type": "stream",
     "text": [
      "[[1. 0.]\n",
      " [1. 0.]\n",
      " [1. 0.]]\n",
      "d_latest: [1. 1. 1.]\n",
      "D2  [0. 0. 0.]\n",
      "d_latest: [1. 1. 1.]\n",
      "D2  [0. 0. 0.]\n",
      "[2 3 4]\n",
      "[[nan nan  1.  1.  1.]\n",
      " [nan nan nan  1.  1.]\n",
      " [nan nan nan nan  1.]]\n"
     ]
    },
    {
     "name": "stderr",
     "output_type": "stream",
     "text": [
      "/Library/Frameworks/Python.framework/Versions/3.11/lib/python3.11/site-packages/skactiveml/classifier/_wrapper.py:320: UserWarning: The 'base_estimator' could not be fitted because of 'This solver needs samples of at least 2 classes in the data, but the data contains only one class: 0'. Therefore, the class labels of the samples are counted and will be used to make predictions. The class label distribution is `_label_counts=[2, 0]`.\n",
      "  warnings.warn(\n",
      "/Library/Frameworks/Python.framework/Versions/3.11/lib/python3.11/site-packages/skactiveml/classifier/_wrapper.py:219: UserWarning: Since the 'base_estimator' could not be fitted when calling the `fit` method, the class label distribution`_label_counts=[2, 0]` is used to make the predictions.\n",
      "  warnings.warn(\n"
     ]
    }
   ],
   "source": [
    "y[1] = y_true[1]\n",
    "y[0] = y_true[0]\n",
    "query, utilities = qs.query(X[:5], y[:5], clf, candidates=None, batch_size=3, return_utilities=True)\n",
    "print(query)\n",
    "print(utilities)"
   ]
  },
  {
   "cell_type": "code",
   "execution_count": 7,
   "metadata": {},
   "outputs": [
    {
     "name": "stdout",
     "output_type": "stream",
     "text": [
      "[[1. 0.]\n",
      " [1. 0.]\n",
      " [1. 0.]\n",
      " [1. 0.]\n",
      " [1. 0.]\n",
      " [1. 0.]]\n",
      "d_latest: [1. 1. 1. 1. 1. 1.]\n",
      "D2  [0. 0. 0. 0. 0. 0.]\n",
      "d_latest: [1. 1. 1. 1. 1. 1.]\n",
      "D2  [0. 0. 0. 0. 0. 0.]\n",
      "[7 5 9]\n",
      "[[nan nan nan nan  1.  1.  1.  1.  1.  1. nan nan nan nan nan nan nan nan\n",
      "  nan nan nan nan nan nan nan nan nan nan nan nan nan nan nan nan nan nan\n",
      "  nan nan nan nan nan nan nan nan nan nan nan nan nan nan nan nan nan nan\n",
      "  nan nan nan nan nan nan nan nan nan nan nan nan nan nan nan nan nan nan\n",
      "  nan nan nan nan nan nan nan nan nan nan nan nan nan nan nan nan nan nan\n",
      "  nan nan nan nan nan nan nan nan nan nan]\n",
      " [nan nan nan nan  1.  1.  1. nan  1.  1. nan nan nan nan nan nan nan nan\n",
      "  nan nan nan nan nan nan nan nan nan nan nan nan nan nan nan nan nan nan\n",
      "  nan nan nan nan nan nan nan nan nan nan nan nan nan nan nan nan nan nan\n",
      "  nan nan nan nan nan nan nan nan nan nan nan nan nan nan nan nan nan nan\n",
      "  nan nan nan nan nan nan nan nan nan nan nan nan nan nan nan nan nan nan\n",
      "  nan nan nan nan nan nan nan nan nan nan]\n",
      " [nan nan nan nan  1. nan  1. nan  1.  1. nan nan nan nan nan nan nan nan\n",
      "  nan nan nan nan nan nan nan nan nan nan nan nan nan nan nan nan nan nan\n",
      "  nan nan nan nan nan nan nan nan nan nan nan nan nan nan nan nan nan nan\n",
      "  nan nan nan nan nan nan nan nan nan nan nan nan nan nan nan nan nan nan\n",
      "  nan nan nan nan nan nan nan nan nan nan nan nan nan nan nan nan nan nan\n",
      "  nan nan nan nan nan nan nan nan nan nan]]\n"
     ]
    },
    {
     "name": "stderr",
     "output_type": "stream",
     "text": [
      "/Library/Frameworks/Python.framework/Versions/3.11/lib/python3.11/site-packages/skactiveml/classifier/_wrapper.py:320: UserWarning: The 'base_estimator' could not be fitted because of 'This solver needs samples of at least 2 classes in the data, but the data contains only one class: 0'. Therefore, the class labels of the samples are counted and will be used to make predictions. The class label distribution is `_label_counts=[2, 0]`.\n",
      "  warnings.warn(\n",
      "/Library/Frameworks/Python.framework/Versions/3.11/lib/python3.11/site-packages/skactiveml/classifier/_wrapper.py:219: UserWarning: Since the 'base_estimator' could not be fitted when calling the `fit` method, the class label distribution`_label_counts=[2, 0]` is used to make the predictions.\n",
      "  warnings.warn(\n"
     ]
    }
   ],
   "source": [
    "query, utilities = qs.query(X, y, clf, candidates=np.arange(4,10), batch_size=3, return_utilities=True)\n",
    "print(query)\n",
    "print(utilities)"
   ]
  }
 ],
 "metadata": {
  "kernelspec": {
   "display_name": "Python 3",
   "language": "python",
   "name": "python3"
  },
  "language_info": {
   "codemirror_mode": {
    "name": "ipython",
    "version": 3
   },
   "file_extension": ".py",
   "mimetype": "text/x-python",
   "name": "python",
   "nbconvert_exporter": "python",
   "pygments_lexer": "ipython3",
   "version": "3.11.0"
  }
 },
 "nbformat": 4,
 "nbformat_minor": 2
}
