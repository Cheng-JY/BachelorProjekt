{
 "cells": [
  {
   "cell_type": "code",
   "execution_count": 57,
   "metadata": {},
   "outputs": [],
   "source": [
    "import numpy as np\n",
    "\n",
    "from skactiveml.base import SingleAnnotatorPoolQueryStrategy, SkactivemlClassifier\n",
    "from skactiveml.utils import (\n",
    "    MISSING_LABEL,\n",
    "    check_type,\n",
    "    check_equal_missing_label\n",
    ")\n",
    "\n",
    "from sklearn.linear_model import LogisticRegression\n",
    "from sklearn.datasets import make_classification\n",
    "\n",
    "from skactiveml.classifier import SklearnClassifier"
   ]
  },
  {
   "cell_type": "code",
   "execution_count": 58,
   "metadata": {},
   "outputs": [],
   "source": [
    "class Badge(SingleAnnotatorPoolQueryStrategy):\n",
    "    def __init__(\n",
    "            self,\n",
    "            missing_label=MISSING_LABEL,\n",
    "            random_state=None\n",
    "    ):\n",
    "        super().__init__(\n",
    "            missing_label=missing_label, random_state=random_state\n",
    "        )\n",
    "\n",
    "    def query(\n",
    "        self,\n",
    "        X,\n",
    "        y,\n",
    "        clf,\n",
    "        candidates=None,\n",
    "        batch_size=1,\n",
    "        return_utilities=False,\n",
    "    ):\n",
    "        # Validate input parameters\n",
    "        X, y, candidates, batch_size, return_utilities = self._validate_data(\n",
    "            X, y, candidates, batch_size, return_utilities, reset=True\n",
    "        )\n",
    "\n",
    "        X_cand, mapping = self._transform_candidates(candidates, X, y)\n",
    "\n",
    "        # Validate classifier type\n",
    "        check_type(clf, \"clf\", SkactivemlClassifier)\n",
    "        check_equal_missing_label(clf.missing_label, self.missing_label_)\n",
    "        \n",
    "        clf = clf.fit(X, y)\n",
    "        probas = clf.predict_proba(X_cand)\n",
    "        print(probas)\n",
    "        p_max = np.max(probas, axis=-1).reshape(-1, 1)\n",
    "    \n",
    "        print(p_max)\n",
    "        g_x = (p_max - 1) * X_cand\n",
    "        print(g_x)\n",
    "        "
   ]
  },
  {
   "cell_type": "code",
   "execution_count": 65,
   "metadata": {},
   "outputs": [
    {
     "data": {
      "text/plain": [
       "100"
      ]
     },
     "execution_count": 65,
     "metadata": {},
     "output_type": "execute_result"
    }
   ],
   "source": [
    "X, y_true = make_classification(n_features=2, n_redundant=0, random_state=0)\n",
    "\n",
    "X.shape[0]"
   ]
  },
  {
   "cell_type": "code",
   "execution_count": 60,
   "metadata": {},
   "outputs": [],
   "source": [
    "y = np.full(shape=y_true.shape, fill_value=MISSING_LABEL)"
   ]
  },
  {
   "cell_type": "code",
   "execution_count": 64,
   "metadata": {},
   "outputs": [
    {
     "name": "stdout",
     "output_type": "stream",
     "text": [
      "[0 1]\n"
     ]
    }
   ],
   "source": [
    "clf = SklearnClassifier(LogisticRegression(), classes=np.unique(y_true))\n",
    "print(np.unique(y_true))"
   ]
  },
  {
   "cell_type": "code",
   "execution_count": 62,
   "metadata": {},
   "outputs": [],
   "source": [
    "qs = Badge()"
   ]
  },
  {
   "cell_type": "code",
   "execution_count": 63,
   "metadata": {},
   "outputs": [
    {
     "name": "stdout",
     "output_type": "stream",
     "text": [
      "[[0.5 0.5]\n",
      " [0.5 0.5]\n",
      " [0.5 0.5]\n",
      " [0.5 0.5]\n",
      " [0.5 0.5]]\n",
      "[[0.5]\n",
      " [0.5]\n",
      " [0.5]\n",
      " [0.5]\n",
      " [0.5]]\n",
      "[[ 0.49329254  1.38629638  0.14346   ]\n",
      " [ 0.57427888  0.19547669 -0.43291273]\n",
      " [-1.67986627 -0.07097658  0.89753172]\n",
      " [-0.25640728 -0.26053244 -0.21649727]\n",
      " [ 0.46019163 -0.04870008  0.0361584 ]]\n"
     ]
    },
    {
     "name": "stderr",
     "output_type": "stream",
     "text": [
      "/Library/Frameworks/Python.framework/Versions/3.11/lib/python3.11/site-packages/skactiveml/classifier/_wrapper.py:320: UserWarning: The 'base_estimator' could not be fitted because of 'There is no labeled data.'. Therefore, the class labels of the samples are counted and will be used to make predictions. The class label distribution is `_label_counts=[0, 0]`.\n",
      "  warnings.warn(\n",
      "/Library/Frameworks/Python.framework/Versions/3.11/lib/python3.11/site-packages/skactiveml/classifier/_wrapper.py:219: UserWarning: Since the 'base_estimator' could not be fitted when calling the `fit` method, the class label distribution`_label_counts=[0, 0]` is used to make the predictions.\n",
      "  warnings.warn(\n"
     ]
    }
   ],
   "source": [
    "qs.query(X[:5], y[:5], clf, candidates=None, batch_size=1)"
   ]
  }
 ],
 "metadata": {
  "kernelspec": {
   "display_name": "Python 3",
   "language": "python",
   "name": "python3"
  },
  "language_info": {
   "codemirror_mode": {
    "name": "ipython",
    "version": 3
   },
   "file_extension": ".py",
   "mimetype": "text/x-python",
   "name": "python",
   "nbconvert_exporter": "python",
   "pygments_lexer": "ipython3",
   "version": "3.11.0"
  }
 },
 "nbformat": 4,
 "nbformat_minor": 2
}
