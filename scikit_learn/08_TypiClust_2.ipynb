{
 "cells": [
  {
   "cell_type": "code",
   "execution_count": 20,
   "metadata": {},
   "outputs": [],
   "source": [
    "\n",
    "\n",
    "import numpy as np\n",
    "\n",
    "from skactiveml.base import SingleAnnotatorPoolQueryStrategy\n",
    "from skactiveml.utils import MISSING_LABEL, labeled_indices\n",
    "from sklearn.datasets import make_classification\n",
    "from sklearn.metrics import pairwise_distances\n",
    "from sklearn.cluster import KMeans\n",
    "from sklearn.base import ClusterMixin"
   ]
  },
  {
   "cell_type": "code",
   "execution_count": 21,
   "metadata": {},
   "outputs": [],
   "source": [
    "class TypiClust(SingleAnnotatorPoolQueryStrategy):\n",
    "    def __init__(\n",
    "        self,\n",
    "        missing_label=MISSING_LABEL,\n",
    "        random_state=None,\n",
    "    ):\n",
    "        super().__init__(\n",
    "            missing_label=missing_label, random_state=random_state\n",
    "        )\n",
    "\n",
    "    def query(\n",
    "        self,\n",
    "        X,\n",
    "        y,\n",
    "        clust_algo=KMeans,\n",
    "        k=5,\n",
    "        candidates=None,\n",
    "        batch_size=1,\n",
    "        return_utilities=False,\n",
    "    ):\n",
    "        X, y, candidates, batch_size, return_utilities = self._validate_data(\n",
    "            X, y, candidates, batch_size, return_utilities, reset=True\n",
    "        )\n",
    "\n",
    "        X_cand, mapping = self._transform_candidates(candidates, X, y)\n",
    "\n",
    "        # Validate Clustering Algorithm?\n",
    "        if not issubclass(clust_algo, ClusterMixin):\n",
    "            raise TypeError(\"Only clustering algorithm from super class sklearn.ClusterMixin is supported.\")\n",
    "\n",
    "        if not isinstance(k, int):\n",
    "            raise TypeError(\"Only k as integer is supported.\")\n",
    "\n",
    "        selected_samples = labeled_indices(y, missing_label=self.missing_label)\n",
    "        n_clusters = len(selected_samples) + batch_size\n",
    "\n",
    "        clustering_algo = clust_algo(n_clusters=n_clusters, random_state=self.random_state)\n",
    "\n",
    "        cluster_labels = clustering_algo.fit_predict(X)\n",
    "        cluster_ids, cluster_sizes = np.unique(cluster_labels, return_counts=True)\n",
    "\n",
    "        print(cluster_sizes)\n",
    "\n",
    "        covered_cluster = np.unique([cluster_labels[i] for i in selected_samples])\n",
    "        print(covered_cluster[0].__class__)\n",
    "\n",
    "        #for c_idx in covered_cluster:\n",
    "        #    cluster_sizes[c_idx] = 0\n",
    "        cluster_sizes[covered_cluster] = 0\n",
    "\n",
    "        print(cluster_sizes)\n",
    "\n",
    "        utilities = np.zeros(shape=(batch_size, X.shape[0]))\n",
    "        query_indices = []\n",
    "\n",
    "        for i in range(batch_size):\n",
    "            cluster_id = np.argmax(cluster_sizes)\n",
    "            uncovered_samples_mapping = [idx for idx, value in enumerate(cluster_labels) if value == cluster_id]\n",
    "            typicality = _typicality(X, uncovered_samples_mapping, k)\n",
    "            idx = np.argmax(typicality)\n",
    "            typicality[selected_samples] = np.nan\n",
    "            utilities[i] = typicality\n",
    "\n",
    "            query_indices = np.append(query_indices, [idx])\n",
    "            selected_samples = np.append(selected_samples, [idx])\n",
    "            cluster_sizes[cluster_ids] = 0\n",
    "\n",
    "        if return_utilities:\n",
    "            return query_indices, utilities\n",
    "        else:\n",
    "            return query_indices\n",
    "\n",
    "\n",
    "def _typicality(X, uncovered_samples_mapping, k):\n",
    "    typicality = np.zeros(shape=X.shape[0])\n",
    "    dist_matrix = pairwise_distances(X[uncovered_samples_mapping])\n",
    "    dist_matrix_sort_inc = np.sort(dist_matrix)\n",
    "    knn = np.sum(dist_matrix_sort_inc[:, :k+1], axis=1)\n",
    "    typi = 1 / (1 / k * knn)\n",
    "    for idx, value in enumerate(uncovered_samples_mapping):\n",
    "        typicality[value] = typi[idx]\n",
    "    return typicality"
   ]
  },
  {
   "cell_type": "code",
   "execution_count": 22,
   "metadata": {},
   "outputs": [],
   "source": [
    "X, y_true = make_classification(n_features=2, n_redundant=0, random_state=0)\n",
    "y = np.full(shape=y_true.shape, fill_value=MISSING_LABEL)\n",
    "mapping = np.arange(3)\n",
    "y[mapping] = y_true[mapping]"
   ]
  },
  {
   "cell_type": "code",
   "execution_count": 23,
   "metadata": {},
   "outputs": [],
   "source": [
    "qs = TypiClust()"
   ]
  },
  {
   "cell_type": "code",
   "execution_count": 24,
   "metadata": {},
   "outputs": [
    {
     "name": "stdout",
     "output_type": "stream",
     "text": [
      "[31 30 26  9  4]\n",
      "<class 'numpy.int32'>\n",
      "[ 0 30  0  9  4]\n",
      "[27. 53.]\n",
      "[[       nan        nan        nan 2.22700498 0.         0.\n",
      "  0.         0.         0.         0.         0.         0.57105701\n",
      "  0.         0.         0.         3.07314926 0.         0.\n",
      "  0.         0.         0.         2.29476449 1.80667844 0.\n",
      "  2.49912811 0.         0.         4.20356886 0.         0.\n",
      "  0.         0.         3.23772571 0.         2.53191068 3.11016292\n",
      "  0.         1.15298427 2.40325448 2.8994196  0.         1.45326822\n",
      "  0.         0.         0.         0.         1.03744451 0.\n",
      "  0.         0.         0.         0.         2.21991985 0.\n",
      "  0.         0.         0.         3.26136825 0.         1.79419345\n",
      "  3.60324171 0.         0.         0.         1.73903749 0.\n",
      "  0.         3.95598081 0.         0.         0.         3.12695827\n",
      "  0.         0.         0.         0.         0.         2.23917218\n",
      "  0.         0.         0.         0.         1.96864763 0.\n",
      "  0.         2.58636555 1.03013844 0.         0.         1.18521477\n",
      "  0.         3.3269426  1.70955984 0.         1.72763248 0.\n",
      "  0.         0.         0.         0.        ]\n",
      " [       nan        nan        nan 0.         0.         0.\n",
      "  0.         0.         2.22858016 2.39137266 0.         0.\n",
      "  3.59758587 0.         5.01112192 0.         0.         3.46916341\n",
      "  2.56012306 0.         2.36397108 0.         0.         0.\n",
      "  0.         0.         1.3755219         nan 5.03524327 0.\n",
      "  0.         0.         0.         0.         0.         0.\n",
      "  0.         0.         0.         0.         3.04432809 0.\n",
      "  0.         0.         0.         1.73634196 0.         0.\n",
      "  1.1136006  0.         3.25659524 2.14806664 0.         5.92971696\n",
      "  3.73863332 3.08063227 4.63124966 0.         4.58597537 0.\n",
      "  0.         0.         0.         0.         0.         4.63057156\n",
      "  0.         0.         4.38118082 5.71871662 0.         0.\n",
      "  0.         0.         0.         3.30582945 2.17166427 0.\n",
      "  2.36171571 0.         0.         3.99034699 0.         3.85501789\n",
      "  0.         0.         0.         4.15743122 0.         0.\n",
      "  0.         0.         0.         0.         0.         5.29962803\n",
      "  0.         0.         0.         1.2325595 ]]\n"
     ]
    },
    {
     "name": "stderr",
     "output_type": "stream",
     "text": [
      "/Library/Frameworks/Python.framework/Versions/3.11/lib/python3.11/site-packages/sklearn/cluster/_kmeans.py:870: FutureWarning: The default value of `n_init` will change from 10 to 'auto' in 1.4. Set the value of `n_init` explicitly to suppress the warning\n",
      "  warnings.warn(\n"
     ]
    }
   ],
   "source": [
    "query_indices, utilites = qs.query(X, y, batch_size=2, return_utilities=True)\n",
    "print(query_indices)\n",
    "print(utilites)"
   ]
  }
 ],
 "metadata": {
  "kernelspec": {
   "display_name": "Python 3",
   "language": "python",
   "name": "python3"
  },
  "language_info": {
   "codemirror_mode": {
    "name": "ipython",
    "version": 3
   },
   "file_extension": ".py",
   "mimetype": "text/x-python",
   "name": "python",
   "nbconvert_exporter": "python",
   "pygments_lexer": "ipython3",
   "version": "3.11.0"
  }
 },
 "nbformat": 4,
 "nbformat_minor": 2
}
