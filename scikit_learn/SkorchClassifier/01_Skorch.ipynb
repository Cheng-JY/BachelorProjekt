{
 "cells": [
  {
   "cell_type": "code",
   "execution_count": 1,
   "id": "initial_id",
   "metadata": {
    "collapsed": true,
    "ExecuteTime": {
     "end_time": "2024-04-27T14:53:29.268114Z",
     "start_time": "2024-04-27T14:53:27.570077Z"
    }
   },
   "outputs": [],
   "source": [
    "from skactiveml.base import SkactivemlClassifier\n",
    "import warnings\n",
    "import numpy as np\n",
    "\n",
    "from skactiveml.utils import (\n",
    "    MISSING_LABEL,\n",
    "    is_labeled,\n",
    ")\n",
    "\n",
    "from skorch import NeuralNet\n",
    "import torch\n",
    "from torch import nn\n",
    "from torch import nn\n",
    "import torch.nn.functional as F\n",
    "from torchvision.transforms import transforms\n",
    "\n",
    "import matplotlib as mlp\n",
    "import matplotlib.pyplot as plt\n",
    "import numpy as np\n",
    "import torch\n",
    "import warnings\n",
    "\n",
    "from copy import deepcopy\n",
    "from skactiveml.utils import call_func, unlabeled_indices\n",
    "from sklearn.datasets import fetch_openml\n",
    "from sklearn.model_selection import train_test_split\n",
    "from sklearn.preprocessing import StandardScaler"
   ]
  },
  {
   "cell_type": "code",
   "execution_count": 2,
   "outputs": [],
   "source": [
    "class SkorchClassifier(SkactivemlClassifier, NeuralNet):\n",
    "    def __init__(\n",
    "        self,\n",
    "        module,\n",
    "        *args,\n",
    "        classes=None,\n",
    "        missing_label=MISSING_LABEL,\n",
    "        cost_matrix=None,\n",
    "        random_state=None,\n",
    "        criterion=nn.NLLLoss,\n",
    "        **module_kwargs,\n",
    "    ):\n",
    "        SkactivemlClassifier.__init__(\n",
    "            self,\n",
    "            classes=classes,\n",
    "            missing_label=missing_label,\n",
    "            cost_matrix=cost_matrix,\n",
    "            random_state=random_state,\n",
    "        )\n",
    "        \n",
    "        NeuralNet.__init__(\n",
    "            self,\n",
    "            module,\n",
    "            *args,\n",
    "            criterion=criterion,\n",
    "            **module_kwargs\n",
    "        )\n",
    "\n",
    "    def get_loss(self, y_pred, y_true, *args, **kwargs):\n",
    "        pass\n",
    "\n",
    "    def fit(self, X, y=None, **fit_params):\n",
    "        # check input parameters\n",
    "\n",
    "        # check whether model is a valid model\n",
    "\n",
    "        is_lbld = is_labeled(y, missing_label=self.missing_label)\n",
    "        print(is_lbld.shape)"
   ],
   "metadata": {
    "collapsed": false,
    "ExecuteTime": {
     "end_time": "2024-04-27T14:53:29.273856Z",
     "start_time": "2024-04-27T14:53:29.270234Z"
    }
   },
   "id": "73d134c44dff423d"
  },
  {
   "cell_type": "code",
   "execution_count": 3,
   "outputs": [],
   "source": [
    "MISSING_LABEL = -1\n",
    "RANDOM_STATE = 0\n",
    "FONTSIZE = 12\n",
    "\n",
    "np.random.seed(RANDOM_STATE)\n",
    "torch.manual_seed(RANDOM_STATE)\n",
    "torch.cuda.manual_seed(RANDOM_STATE)\n",
    "device = 'cuda' if torch.cuda.is_available() else 'cpu'\n",
    "\n",
    "warnings.filterwarnings(\"ignore\")"
   ],
   "metadata": {
    "collapsed": false,
    "ExecuteTime": {
     "end_time": "2024-04-27T14:53:29.285588Z",
     "start_time": "2024-04-27T14:53:29.272332Z"
    }
   },
   "id": "2660434ad444beae"
  },
  {
   "cell_type": "code",
   "execution_count": 4,
   "outputs": [
    {
     "data": {
      "text/plain": "<Figure size 1500x500 with 10 Axes>",
      "image/png": "[encoded data removed]"
     },
     "metadata": {},
     "output_type": "display_data"
    }
   ],
   "source": [
    "X, y_true = fetch_openml(\"mnist_784\", version=1, return_X_y=True, as_frame=False)\n",
    "\n",
    "# Visualize first 10 images.\n",
    "fig, axes = plt.subplots(figsize=(15, 5), nrows=1, ncols=10)\n",
    "for i in range(10):\n",
    "    axes[i].set_title(f'Digit: {y_true[i]}', fontsize=FONTSIZE)\n",
    "    axes[i].imshow(X[i].reshape(28,28))\n",
    "plt.show()\n",
    "\n",
    "# Standardize data.\n",
    "X = StandardScaler().fit_transform(X)\n",
    "\n",
    "# Reshape samples to n_samples x n_channels x width x height to fit skorch\n",
    "# requirements.\n",
    "X = X.reshape((len(X), 1, 28, 28))\n",
    "\n",
    "# Set data types according to skorch requirements.\n",
    "X, y_true = X.astype(np.float32), y_true.astype(np.int64)\n",
    "\n",
    "# Identify list of possible classes.\n",
    "classes = np.unique(y_true)\n",
    "\n",
    "# Make a 66-34 train-test split.\n",
    "X_train, X_test, y_train, y_test = train_test_split(\n",
    "    X, y_true, train_size=0.66, random_state=RANDOM_STATE\n",
    ")"
   ],
   "metadata": {
    "collapsed": false,
    "ExecuteTime": {
     "end_time": "2024-04-27T14:53:38.002636Z",
     "start_time": "2024-04-27T14:53:29.314390Z"
    }
   },
   "id": "43ff017778b199c4"
  },
  {
   "cell_type": "code",
   "execution_count": 5,
   "outputs": [],
   "source": [
    "transform = transforms.Compose(\n",
    "    [\n",
    "        transforms.RandomAffine(degrees=(-10, 10), translate=(0.05, 0.05), scale=(0.9, 1.1)),\n",
    "        transforms.RandomPerspective(distortion_scale=0.2, p=1.0),\n",
    "        transforms.GaussianBlur(kernel_size=(3, 3), sigma=(0.01, 0.1)),\n",
    "    ]\n",
    ")"
   ],
   "metadata": {
    "collapsed": false,
    "ExecuteTime": {
     "end_time": "2024-04-27T14:53:38.006262Z",
     "start_time": "2024-04-27T14:53:38.003738Z"
    }
   },
   "id": "ffcfd3f514d39277"
  },
  {
   "cell_type": "code",
   "execution_count": 6,
   "outputs": [],
   "source": [
    "class ClassifierModule(nn.Module):\n",
    "    def __init__(self, n_classes, dropout=0.5, transform=None):\n",
    "        super(ClassifierModule, self).__init__()\n",
    "        self.conv1 = nn.Conv2d(1, 32, kernel_size=3)\n",
    "        self.conv2 = nn.Conv2d(32, 64, kernel_size=3)\n",
    "        self.conv2_drop = nn.Dropout2d(p=dropout)\n",
    "        self.fc1 = nn.Linear(1600, 100) # 1600 = number channels * width * height\n",
    "        self.fc2 = nn.Linear(100, n_classes)\n",
    "        self.fc1_drop = nn.Dropout(p=dropout)\n",
    "        self.transform = transform or transforms.Compose([])\n",
    "\n",
    "    def forward(self, x):\n",
    "        if self.training:\n",
    "            # Usually, transforms are part of the datasets.\n",
    "            with torch.no_grad():\n",
    "                x = self.transform(x)\n",
    "        x = torch.relu(F.max_pool2d(self.conv1(x), 2))\n",
    "        x = torch.relu(F.max_pool2d(self.conv2_drop(self.conv2(x)), 2))\n",
    "        \n",
    "        # flatten over channel, height and width = 1600\n",
    "        x = x.view(x.size(0), -1)\n",
    "        \n",
    "        x = torch.relu(self.fc1_drop(self.fc1(x)))\n",
    "        x = torch.softmax(self.fc2(x), dim=-1)\n",
    "        return x"
   ],
   "metadata": {
    "collapsed": false,
    "ExecuteTime": {
     "end_time": "2024-04-27T14:53:38.009314Z",
     "start_time": "2024-04-27T14:53:38.007326Z"
    }
   },
   "id": "79cef262c52f9b81"
  },
  {
   "cell_type": "code",
   "execution_count": 7,
   "outputs": [],
   "source": [
    "net = SkorchClassifier(\n",
    "    ClassifierModule,\n",
    "    classes=classes,\n",
    "    missing_label=MISSING_LABEL,\n",
    "    max_epochs=100,\n",
    "    batch_size=16,\n",
    "    lr=0.01,\n",
    "    verbose=False,\n",
    "    optimizer=torch.optim.SGD,\n",
    "    optimizer__momentum=0.9,\n",
    "    optimizer__weight_decay=3e-3,\n",
    "    train_split=False,\n",
    "    device=device,\n",
    ")"
   ],
   "metadata": {
    "collapsed": false,
    "ExecuteTime": {
     "end_time": "2024-04-27T14:53:39.299281Z",
     "start_time": "2024-04-27T14:53:39.296466Z"
    }
   },
   "id": "5f4842b3ab7d51e8"
  },
  {
   "cell_type": "code",
   "execution_count": 8,
   "outputs": [
    {
     "data": {
      "text/plain": "<class '__main__.SkorchClassifier'>[uninitialized](\n  module=<class '__main__.ClassifierModule'>,\n)",
      "text/html": "<style>#sk-container-id-1 {color: black;background-color: white;}#sk-container-id-1 pre{padding: 0;}#sk-container-id-1 div.sk-toggleable {background-color: white;}#sk-container-id-1 label.sk-toggleable__label {cursor: pointer;display: block;width: 100%;margin-bottom: 0;padding: 0.3em;box-sizing: border-box;text-align: center;}#sk-container-id-1 label.sk-toggleable__label-arrow:before {content: \"▸\";float: left;margin-right: 0.25em;color: #696969;}#sk-container-id-1 label.sk-toggleable__label-arrow:hover:before {color: black;}#sk-container-id-1 div.sk-estimator:hover label.sk-toggleable__label-arrow:before {color: black;}#sk-container-id-1 div.sk-toggleable__content {max-height: 0;max-width: 0;overflow: hidden;text-align: left;background-color: #f0f8ff;}#sk-container-id-1 div.sk-toggleable__content pre {margin: 0.2em;color: black;border-radius: 0.25em;background-color: #f0f8ff;}#sk-container-id-1 input.sk-toggleable__control:checked~div.sk-toggleable__content {max-height: 200px;max-width: 100%;overflow: auto;}#sk-container-id-1 input.sk-toggleable__control:checked~label.sk-toggleable__label-arrow:before {content: \"▾\";}#sk-container-id-1 div.sk-estimator input.sk-toggleable__control:checked~label.sk-toggleable__label {background-color: #d4ebff;}#sk-container-id-1 div.sk-label input.sk-toggleable__control:checked~label.sk-toggleable__label {background-color: #d4ebff;}#sk-container-id-1 input.sk-hidden--visually {border: 0;clip: rect(1px 1px 1px 1px);clip: rect(1px, 1px, 1px, 1px);height: 1px;margin: -1px;overflow: hidden;padding: 0;position: absolute;width: 1px;}#sk-container-id-1 div.sk-estimator {font-family: monospace;background-color: #f0f8ff;border: 1px dotted black;border-radius: 0.25em;box-sizing: border-box;margin-bottom: 0.5em;}#sk-container-id-1 div.sk-estimator:hover {background-color: #d4ebff;}#sk-container-id-1 div.sk-parallel-item::after {content: \"\";width: 100%;border-bottom: 1px solid gray;flex-grow: 1;}#sk-container-id-1 div.sk-label:hover label.sk-toggleable__label {background-color: #d4ebff;}#sk-container-id-1 div.sk-serial::before {content: \"\";position: absolute;border-left: 1px solid gray;box-sizing: border-box;top: 0;bottom: 0;left: 50%;z-index: 0;}#sk-container-id-1 div.sk-serial {display: flex;flex-direction: column;align-items: center;background-color: white;padding-right: 0.2em;padding-left: 0.2em;position: relative;}#sk-container-id-1 div.sk-item {position: relative;z-index: 1;}#sk-container-id-1 div.sk-parallel {display: flex;align-items: stretch;justify-content: center;background-color: white;position: relative;}#sk-container-id-1 div.sk-item::before, #sk-container-id-1 div.sk-parallel-item::before {content: \"\";position: absolute;border-left: 1px solid gray;box-sizing: border-box;top: 0;bottom: 0;left: 50%;z-index: -1;}#sk-container-id-1 div.sk-parallel-item {display: flex;flex-direction: column;z-index: 1;position: relative;background-color: white;}#sk-container-id-1 div.sk-parallel-item:first-child::after {align-self: flex-end;width: 50%;}#sk-container-id-1 div.sk-parallel-item:last-child::after {align-self: flex-start;width: 50%;}#sk-container-id-1 div.sk-parallel-item:only-child::after {width: 0;}#sk-container-id-1 div.sk-dashed-wrapped {border: 1px dashed gray;margin: 0 0.4em 0.5em 0.4em;box-sizing: border-box;padding-bottom: 0.4em;background-color: white;}#sk-container-id-1 div.sk-label label {font-family: monospace;font-weight: bold;display: inline-block;line-height: 1.2em;}#sk-container-id-1 div.sk-label-container {text-align: center;}#sk-container-id-1 div.sk-container {/* jupyter's `normalize.less` sets `[hidden] { display: none; }` but bootstrap.min.css set `[hidden] { display: none !important; }` so we also need the `!important` here to be able to override the default hidden behavior on the sphinx rendered scikit-learn.org. See: https://github.com/scikit-learn/scikit-learn/issues/21755 */display: inline-block !important;position: relative;}#sk-container-id-1 div.sk-text-repr-fallback {display: none;}</style><div id=\"sk-container-id-1\" class=\"sk-top-container\"><div class=\"sk-text-repr-fallback\"><pre>&lt;class &#x27;__main__.SkorchClassifier&#x27;&gt;[uninitialized](\n  module=&lt;class &#x27;__main__.ClassifierModule&#x27;&gt;,\n)</pre><b>In a Jupyter environment, please rerun this cell to show the HTML representation or trust the notebook. <br />On GitHub, the HTML representation is unable to render, please try loading this page with nbviewer.org.</b></div><div class=\"sk-container\" hidden><div class=\"sk-item\"><div class=\"sk-estimator sk-toggleable\"><input class=\"sk-toggleable__control sk-hidden--visually\" id=\"sk-estimator-id-1\" type=\"checkbox\" checked><label for=\"sk-estimator-id-1\" class=\"sk-toggleable__label sk-toggleable__label-arrow\">SkorchClassifier</label><div class=\"sk-toggleable__content\"><pre>&lt;class &#x27;__main__.SkorchClassifier&#x27;&gt;[uninitialized](\n  module=&lt;class &#x27;__main__.ClassifierModule&#x27;&gt;,\n)</pre></div></div></div></div></div>"
     },
     "execution_count": 8,
     "metadata": {},
     "output_type": "execute_result"
    }
   ],
   "source": [
    "net.fit(X_train, y_train)"
   ],
   "metadata": {
    "collapsed": false,
    "ExecuteTime": {
     "end_time": "2024-04-27T14:53:40.006914Z",
     "start_time": "2024-04-27T14:53:39.919334Z"
    }
   },
   "id": "6dda5452f2ba6f54"
  },
  {
   "cell_type": "code",
   "execution_count": null,
   "outputs": [],
   "source": [],
   "metadata": {
    "collapsed": false
   },
   "id": "1f777a677579e9d8"
  }
 ],
 "metadata": {
  "kernelspec": {
   "display_name": "Python 3",
   "language": "python",
   "name": "python3"
  },
  "language_info": {
   "codemirror_mode": {
    "name": "ipython",
    "version": 2
   },
   "file_extension": ".py",
   "mimetype": "text/x-python",
   "name": "python",
   "nbconvert_exporter": "python",
   "pygments_lexer": "ipython2",
   "version": "2.7.6"
  }
 },
 "nbformat": 4,
 "nbformat_minor": 5
}
