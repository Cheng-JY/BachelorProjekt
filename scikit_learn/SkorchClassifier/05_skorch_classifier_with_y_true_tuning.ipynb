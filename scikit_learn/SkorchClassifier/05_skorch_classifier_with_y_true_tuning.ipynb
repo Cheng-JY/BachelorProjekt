{
 "cells": [
  {
   "cell_type": "markdown",
   "metadata": {},
   "source": [
    "# Scikit-activeml with SkorchClassifier UB"
   ]
  },
  {
   "cell_type": "markdown",
   "metadata": {},
   "source": [
    "In this brief tutorial, we show an example use-case of our package `skactiveml` with the Python package [skorch](https://skorch.readthedocs.io/en/stable/), which is a scikit-learn wrapper for Pytorch models. This way, we are able to implement and test deep learning models in combination with query strategies implemented in our framework."
   ]
  },
  {
   "cell_type": "code",
   "execution_count": 1,
   "metadata": {
    "ExecuteTime": {
     "end_time": "2024-05-17T12:54:27.431809Z",
     "start_time": "2024-05-17T12:54:26.298780Z"
    }
   },
   "outputs": [],
   "source": [
    "import sys\n",
    "sys.path.append('..')\n",
    "\n",
    "import matplotlib as mlp\n",
    "import matplotlib.pyplot as plt\n",
    "import numpy as np\n",
    "import torch\n",
    "import warnings\n",
    "\n",
    "from sklearn.metrics import accuracy_score\n",
    "from torch import nn\n",
    "import torch.nn.functional as F\n",
    "from skorch.dataset import Dataset\n",
    "from skorch.helper import predefined_split\n",
    "\n",
    "from classifier.skorch_classifier import SkorchClassifier\n",
    "\n",
    "mlp.rcParams[\"figure.facecolor\"] = \"white\"\n",
    "\n",
    "MISSING_LABEL = -1\n",
    "RANDOM_STATE = 0\n",
    "FONTSIZE = 12\n",
    "\n",
    "np.random.seed(RANDOM_STATE)\n",
    "torch.manual_seed(RANDOM_STATE)\n",
    "torch.cuda.manual_seed(RANDOM_STATE)\n",
    "device = 'cuda' if torch.cuda.is_available() else 'cpu'\n",
    "\n",
    "warnings.filterwarnings(\"ignore\")"
   ]
  },
  {
   "cell_type": "markdown",
   "metadata": {},
   "source": [
    "## Loading Music Data Set"
   ]
  },
  {
   "cell_type": "code",
   "execution_count": 2,
   "metadata": {
    "ExecuteTime": {
     "end_time": "2024-05-17T12:54:27.435211Z",
     "start_time": "2024-05-17T12:54:27.432407Z"
    }
   },
   "outputs": [],
   "source": [
    "data_dir = \"./music-multi-annotator-dataset\""
   ]
  },
  {
   "cell_type": "code",
   "execution_count": 3,
   "outputs": [],
   "source": [
    "X_train = np.load(f'{data_dir}/music-X.npy')\n",
    "y_train = np.load(f'{data_dir}/music-y.npy')\n",
    "y_train_true = np.load(f'{data_dir}/music-y-true.npy')\n",
    "X_valid = np.load(f'{data_dir}/music-X-valid.npy')\n",
    "y_valid = np.load(f'{data_dir}/music-y-true-valid.npy')\n",
    "X_test = np.load(f'{data_dir}/music-X-test.npy')\n",
    "y_test_true = np.load(f'{data_dir}/music-y-true-test.npy')\n",
    "\n",
    "dataset_classes = np.unique(y_test_true)\n",
    "n_classes = len(dataset_classes)\n",
    "n_features = X_train.shape[1]"
   ],
   "metadata": {
    "collapsed": false,
    "ExecuteTime": {
     "end_time": "2024-05-17T12:54:27.438353Z",
     "start_time": "2024-05-17T12:54:27.435313Z"
    }
   }
  },
  {
   "cell_type": "markdown",
   "metadata": {},
   "source": [
    "## Neural Network Ensemble for tabular data set\n",
    "In the next step, we define a neural network ensemble for tabular data set"
   ]
  },
  {
   "cell_type": "code",
   "execution_count": 4,
   "metadata": {
    "ExecuteTime": {
     "end_time": "2024-05-17T12:54:27.443151Z",
     "start_time": "2024-05-17T12:54:27.439624Z"
    }
   },
   "outputs": [],
   "source": [
    "# Define base module.\n",
    "class ClassifierModule(nn.Module):\n",
    "    def __init__(self, n_classes, dropout):\n",
    "        super(ClassifierModule, self).__init__()\n",
    "        n_hidden_neurons = 128\n",
    "        self.embed_X_block = nn.Sequential(\n",
    "            nn.Linear(in_features=124, out_features=n_hidden_neurons),\n",
    "            nn.BatchNorm1d(num_features=n_hidden_neurons),\n",
    "            nn.ReLU(),\n",
    "            nn.Dropout(p=dropout),\n",
    "        )\n",
    "        self.mlp = nn.Linear(in_features=n_hidden_neurons, out_features=n_classes)\n",
    "\n",
    "    def forward(self, x):\n",
    "        \n",
    "        embed_x = self.embed_X_block(x)\n",
    "        logit_class = self.mlp(embed_x)       \n",
    "\n",
    "        # Compute class-membership probabilities.\n",
    "        p_class = F.softmax(logit_class, dim=-1)\n",
    "\n",
    "        return p_class"
   ]
  },
  {
   "cell_type": "code",
   "execution_count": 5,
   "outputs": [],
   "source": [
    "valid_ds = Dataset(X_valid, y_valid)"
   ],
   "metadata": {
    "collapsed": false,
    "ExecuteTime": {
     "end_time": "2024-05-17T12:54:27.445765Z",
     "start_time": "2024-05-17T12:54:27.442522Z"
    }
   }
  },
  {
   "cell_type": "code",
   "execution_count": 6,
   "outputs": [],
   "source": [
    "net = SkorchClassifier(\n",
    "        ClassifierModule,\n",
    "        classes=dataset_classes,\n",
    "        missing_label=MISSING_LABEL,\n",
    "        cost_matrix=None,\n",
    "        random_state=1,\n",
    "        criterion=nn.CrossEntropyLoss(),\n",
    "        train_split=predefined_split(valid_ds),\n",
    "        max_epochs=100,\n",
    "        batch_size=16,\n",
    "        optimizer_lr=0.01,\n",
    "        verbose=False,\n",
    "        optimizer=torch.optim.AdamW,\n",
    "        device=device,\n",
    "        module__dropout=0.0,\n",
    "        optimizer__weight_decay=0.001\n",
    "    )"
   ],
   "metadata": {
    "collapsed": false,
    "ExecuteTime": {
     "end_time": "2024-05-17T12:54:27.448515Z",
     "start_time": "2024-05-17T12:54:27.444987Z"
    }
   }
  },
  {
   "cell_type": "code",
   "execution_count": 7,
   "outputs": [
    {
     "data": {
      "text/plain": "<class 'classifier.skorch_classifier.SkorchClassifier'>[initialized](\n  module_=ClassifierModule(\n    (embed_X_block): Sequential(\n      (0): Linear(in_features=124, out_features=128, bias=True)\n      (1): BatchNorm1d(128, eps=1e-05, momentum=0.1, affine=True, track_running_stats=True)\n      (2): ReLU()\n      (3): Dropout(p=0.0, inplace=False)\n    )\n    (mlp): Linear(in_features=128, out_features=10, bias=True)\n  ),\n)",
      "text/html": "<style>#sk-container-id-1 {color: black;background-color: white;}#sk-container-id-1 pre{padding: 0;}#sk-container-id-1 div.sk-toggleable {background-color: white;}#sk-container-id-1 label.sk-toggleable__label {cursor: pointer;display: block;width: 100%;margin-bottom: 0;padding: 0.3em;box-sizing: border-box;text-align: center;}#sk-container-id-1 label.sk-toggleable__label-arrow:before {content: \"▸\";float: left;margin-right: 0.25em;color: #696969;}#sk-container-id-1 label.sk-toggleable__label-arrow:hover:before {color: black;}#sk-container-id-1 div.sk-estimator:hover label.sk-toggleable__label-arrow:before {color: black;}#sk-container-id-1 div.sk-toggleable__content {max-height: 0;max-width: 0;overflow: hidden;text-align: left;background-color: #f0f8ff;}#sk-container-id-1 div.sk-toggleable__content pre {margin: 0.2em;color: black;border-radius: 0.25em;background-color: #f0f8ff;}#sk-container-id-1 input.sk-toggleable__control:checked~div.sk-toggleable__content {max-height: 200px;max-width: 100%;overflow: auto;}#sk-container-id-1 input.sk-toggleable__control:checked~label.sk-toggleable__label-arrow:before {content: \"▾\";}#sk-container-id-1 div.sk-estimator input.sk-toggleable__control:checked~label.sk-toggleable__label {background-color: #d4ebff;}#sk-container-id-1 div.sk-label input.sk-toggleable__control:checked~label.sk-toggleable__label {background-color: #d4ebff;}#sk-container-id-1 input.sk-hidden--visually {border: 0;clip: rect(1px 1px 1px 1px);clip: rect(1px, 1px, 1px, 1px);height: 1px;margin: -1px;overflow: hidden;padding: 0;position: absolute;width: 1px;}#sk-container-id-1 div.sk-estimator {font-family: monospace;background-color: #f0f8ff;border: 1px dotted black;border-radius: 0.25em;box-sizing: border-box;margin-bottom: 0.5em;}#sk-container-id-1 div.sk-estimator:hover {background-color: #d4ebff;}#sk-container-id-1 div.sk-parallel-item::after {content: \"\";width: 100%;border-bottom: 1px solid gray;flex-grow: 1;}#sk-container-id-1 div.sk-label:hover label.sk-toggleable__label {background-color: #d4ebff;}#sk-container-id-1 div.sk-serial::before {content: \"\";position: absolute;border-left: 1px solid gray;box-sizing: border-box;top: 0;bottom: 0;left: 50%;z-index: 0;}#sk-container-id-1 div.sk-serial {display: flex;flex-direction: column;align-items: center;background-color: white;padding-right: 0.2em;padding-left: 0.2em;position: relative;}#sk-container-id-1 div.sk-item {position: relative;z-index: 1;}#sk-container-id-1 div.sk-parallel {display: flex;align-items: stretch;justify-content: center;background-color: white;position: relative;}#sk-container-id-1 div.sk-item::before, #sk-container-id-1 div.sk-parallel-item::before {content: \"\";position: absolute;border-left: 1px solid gray;box-sizing: border-box;top: 0;bottom: 0;left: 50%;z-index: -1;}#sk-container-id-1 div.sk-parallel-item {display: flex;flex-direction: column;z-index: 1;position: relative;background-color: white;}#sk-container-id-1 div.sk-parallel-item:first-child::after {align-self: flex-end;width: 50%;}#sk-container-id-1 div.sk-parallel-item:last-child::after {align-self: flex-start;width: 50%;}#sk-container-id-1 div.sk-parallel-item:only-child::after {width: 0;}#sk-container-id-1 div.sk-dashed-wrapped {border: 1px dashed gray;margin: 0 0.4em 0.5em 0.4em;box-sizing: border-box;padding-bottom: 0.4em;background-color: white;}#sk-container-id-1 div.sk-label label {font-family: monospace;font-weight: bold;display: inline-block;line-height: 1.2em;}#sk-container-id-1 div.sk-label-container {text-align: center;}#sk-container-id-1 div.sk-container {/* jupyter's `normalize.less` sets `[hidden] { display: none; }` but bootstrap.min.css set `[hidden] { display: none !important; }` so we also need the `!important` here to be able to override the default hidden behavior on the sphinx rendered scikit-learn.org. See: https://github.com/scikit-learn/scikit-learn/issues/21755 */display: inline-block !important;position: relative;}#sk-container-id-1 div.sk-text-repr-fallback {display: none;}</style><div id=\"sk-container-id-1\" class=\"sk-top-container\"><div class=\"sk-text-repr-fallback\"><pre>&lt;class &#x27;classifier.skorch_classifier.SkorchClassifier&#x27;&gt;[initialized](\n  module_=ClassifierModule(\n    (embed_X_block): Sequential(\n      (0): Linear(in_features=124, out_features=128, bias=True)\n      (1): BatchNorm1d(128, eps=1e-05, momentum=0.1, affine=True, track_running_stats=True)\n      (2): ReLU()\n      (3): Dropout(p=0.0, inplace=False)\n    )\n    (mlp): Linear(in_features=128, out_features=10, bias=True)\n  ),\n)</pre><b>In a Jupyter environment, please rerun this cell to show the HTML representation or trust the notebook. <br />On GitHub, the HTML representation is unable to render, please try loading this page with nbviewer.org.</b></div><div class=\"sk-container\" hidden><div class=\"sk-item\"><div class=\"sk-estimator sk-toggleable\"><input class=\"sk-toggleable__control sk-hidden--visually\" id=\"sk-estimator-id-1\" type=\"checkbox\" checked><label for=\"sk-estimator-id-1\" class=\"sk-toggleable__label sk-toggleable__label-arrow\">SkorchClassifier</label><div class=\"sk-toggleable__content\"><pre>&lt;class &#x27;classifier.skorch_classifier.SkorchClassifier&#x27;&gt;[initialized](\n  module_=ClassifierModule(\n    (embed_X_block): Sequential(\n      (0): Linear(in_features=124, out_features=128, bias=True)\n      (1): BatchNorm1d(128, eps=1e-05, momentum=0.1, affine=True, track_running_stats=True)\n      (2): ReLU()\n      (3): Dropout(p=0.0, inplace=False)\n    )\n    (mlp): Linear(in_features=128, out_features=10, bias=True)\n  ),\n)</pre></div></div></div></div></div>"
     },
     "execution_count": 7,
     "metadata": {},
     "output_type": "execute_result"
    }
   ],
   "source": [
    "net.initialize()"
   ],
   "metadata": {
    "collapsed": false,
    "ExecuteTime": {
     "end_time": "2024-05-17T12:54:27.566397Z",
     "start_time": "2024-05-17T12:54:27.447268Z"
    }
   }
  },
  {
   "cell_type": "markdown",
   "metadata": {},
   "source": [
    "## Active Classification\n",
    "For our ensemble, we evaluate four different query strategies, i.e., random sampling, uncertainty sampling, query-by-committee, and batch BALD, regarding their sample selection. For this purpose, we start with ten labels and make 30 iterations of an active learning cycle with a batch size of 32."
   ]
  },
  {
   "cell_type": "code",
   "execution_count": 8,
   "outputs": [],
   "source": [
    "l = int(0.6*len(y_train_true))"
   ],
   "metadata": {
    "collapsed": false,
    "ExecuteTime": {
     "end_time": "2024-05-17T12:54:27.566820Z",
     "start_time": "2024-05-17T12:54:27.564696Z"
    }
   }
  },
  {
   "cell_type": "code",
   "execution_count": 9,
   "metadata": {
    "ExecuteTime": {
     "end_time": "2024-05-17T12:54:30.822148Z",
     "start_time": "2024-05-17T12:54:27.567507Z"
    }
   },
   "outputs": [
    {
     "name": "stdout",
     "output_type": "stream",
     "text": [
      "[1 0 2 6 1 9 4 1 1 7 3 0 4 2 3 4 2 5 3 4]\n",
      "[1 8 2 6 1 7 8 1 1 7 3 2 4 2 3 4 7 5 7 8]\n",
      "0.696\n"
     ]
    }
   ],
   "source": [
    "# Define setup.\n",
    "torch.manual_seed(RANDOM_STATE)\n",
    "\n",
    "# Create array of missing labels as initial labels.\n",
    "y = np.full_like(y_train_true, fill_value=MISSING_LABEL, dtype=np.int64)\n",
    "y = y_train_true\n",
    "X = X_train\n",
    "net.fit(X,y)\n",
    "\n",
    "y_pred = net.predict(X_test)\n",
    "print(y_pred[:20])\n",
    "print(y_test_true[:20])\n",
    "\n",
    "print(accuracy_score(y_pred, y_test_true))\n",
    "# should be 0.785 from MaDL 79%"
   ]
  },
  {
   "cell_type": "code",
   "execution_count": 10,
   "outputs": [
    {
     "name": "stdout",
     "output_type": "stream",
     "text": [
      "[4 9 4 7 8 3 2 2 8 3 0 6 7 2 2 0 5 2 8 0]\n",
      "[4 7 4 7 8 3 2 2 8 3 0 6 7 2 2 0 5 2 8 9]\n"
     ]
    },
    {
     "data": {
      "text/plain": "0.9"
     },
     "execution_count": 10,
     "metadata": {},
     "output_type": "execute_result"
    }
   ],
   "source": [
    "y_train_pred = net.predict(X_train)\n",
    "print(y_train_pred[:20])\n",
    "print(y_train_true[:20])\n",
    "accuracy_score(y_train_true, y_train_pred)\n",
    "# training accuracy for UB 99%"
   ],
   "metadata": {
    "collapsed": false,
    "ExecuteTime": {
     "end_time": "2024-05-17T12:54:30.833375Z",
     "start_time": "2024-05-17T12:54:30.821732Z"
    }
   }
  },
  {
   "cell_type": "code",
   "execution_count": 11,
   "outputs": [
    {
     "data": {
      "text/plain": "[<matplotlib.lines.Line2D at 0x13bd126d0>]"
     },
     "execution_count": 11,
     "metadata": {},
     "output_type": "execute_result"
    },
    {
     "data": {
      "text/plain": "<Figure size 640x480 with 1 Axes>",
      "image/png": "[encoded data removed]"
     },
     "metadata": {},
     "output_type": "display_data"
    }
   ],
   "source": [
    "history = net.history\n",
    "train_loss = history[:, 'train_loss']\n",
    "valid_loss = history[:, 'valid_loss']\n",
    "plt.plot(valid_loss)\n",
    "plt.plot(train_loss)"
   ],
   "metadata": {
    "collapsed": false,
    "ExecuteTime": {
     "end_time": "2024-05-17T12:54:30.896429Z",
     "start_time": "2024-05-17T12:54:30.833451Z"
    }
   }
  }
 ],
 "metadata": {
  "kernelspec": {
   "display_name": "Python 3 (ipykernel)",
   "language": "python",
   "name": "python3"
  },
  "language_info": {
   "codemirror_mode": {
    "name": "ipython",
    "version": 3
   },
   "file_extension": ".py",
   "mimetype": "text/x-python",
   "name": "python",
   "nbconvert_exporter": "python",
   "pygments_lexer": "ipython3",
   "version": "3.9.17"
  }
 },
 "nbformat": 4,
 "nbformat_minor": 4
}
