{
 "cells": [
  {
   "cell_type": "markdown",
   "metadata": {},
   "source": [
    "# Crowd Layer"
   ]
  },
  {
   "cell_type": "markdown",
   "metadata": {},
   "source": [
    "In this brief tutorial, we show an example use-case of our package `skactiveml` with the Python package [skorch](https://skorch.readthedocs.io/en/stable/), which is a scikit-learn wrapper for Pytorch models. This way, we are able to implement and test deep learning models in combination with query strategies implemented in our framework."
   ]
  },
  {
   "cell_type": "code",
   "execution_count": 1,
   "metadata": {
    "ExecuteTime": {
     "end_time": "2024-05-08T18:29:35.737631Z",
     "start_time": "2024-05-08T18:29:34.187486Z"
    }
   },
   "outputs": [],
   "source": [
    "import matplotlib as mlp\n",
    "import matplotlib.pyplot as plt\n",
    "import numpy as np\n",
    "import torch\n",
    "import warnings\n",
    "\n",
    "from sklearn.metrics import accuracy_score\n",
    "from torch import nn\n",
    "import torch.nn.functional as F\n",
    "from torch.nn import CrossEntropyLoss\n",
    "\n",
    "mlp.rcParams[\"figure.facecolor\"] = \"white\"\n",
    "\n",
    "MISSING_LABEL = -1\n",
    "RANDOM_STATE = 0\n",
    "FONTSIZE = 12\n",
    "\n",
    "np.random.seed(RANDOM_STATE)\n",
    "torch.manual_seed(RANDOM_STATE)\n",
    "torch.cuda.manual_seed(RANDOM_STATE)\n",
    "device = 'cuda' if torch.cuda.is_available() else 'cpu'\n",
    "\n",
    "warnings.filterwarnings(\"ignore\")"
   ]
  },
  {
   "cell_type": "markdown",
   "metadata": {},
   "source": [
    "## Loading Music Data Set"
   ]
  },
  {
   "cell_type": "code",
   "execution_count": 2,
   "metadata": {
    "ExecuteTime": {
     "end_time": "2024-05-08T18:29:35.741394Z",
     "start_time": "2024-05-08T18:29:35.738150Z"
    }
   },
   "outputs": [],
   "source": [
    "data_dir = \"./music-multi-annotator-dataset\""
   ]
  },
  {
   "cell_type": "code",
   "execution_count": 3,
   "outputs": [
    {
     "name": "stdout",
     "output_type": "stream",
     "text": [
      "(700, 124)\n",
      "(700, 44)\n"
     ]
    }
   ],
   "source": [
    "X_train = np.load(f'{data_dir}/music-X.npy')\n",
    "y_train = np.load(f'{data_dir}/music-y.npy')\n",
    "y_train_true = np.load(f'{data_dir}/music-y-true.npy')\n",
    "X_valid = np.load(f'{data_dir}/music-X-valid.npy')\n",
    "y_valid = np.load(f'{data_dir}/music-y-true-valid.npy')\n",
    "X_test = np.load(f'{data_dir}/music-X-test.npy')\n",
    "y_test_true = np.load(f'{data_dir}/music-y-true-test.npy')\n",
    "\n",
    "dataset_classes = np.unique(y_test_true)\n",
    "n_classes = len(dataset_classes)\n",
    "n_features = X_train.shape[1]\n",
    "print(X_train.shape)\n",
    "print(y_train.shape)"
   ],
   "metadata": {
    "collapsed": false,
    "ExecuteTime": {
     "end_time": "2024-05-08T18:29:35.789795Z",
     "start_time": "2024-05-08T18:29:35.784354Z"
    }
   }
  },
  {
   "cell_type": "markdown",
   "metadata": {},
   "source": [
    "## Neural Network Ensemble for tabular data set\n",
    "In the next step, we define a neural network ensemble for tabular data set"
   ]
  },
  {
   "cell_type": "code",
   "execution_count": 4,
   "metadata": {
    "ExecuteTime": {
     "end_time": "2024-05-08T18:29:37.049044Z",
     "start_time": "2024-05-08T18:29:37.044954Z"
    }
   },
   "outputs": [],
   "source": [
    "# Define base module.\n",
    "class ClassifierModule(nn.Module):\n",
    "    def __init__(self, n_classes, dropout):\n",
    "        super(ClassifierModule, self).__init__()\n",
    "        n_hidden_neurons = 128\n",
    "        self.embed_X_block = nn.Sequential(\n",
    "            nn.Linear(in_features=124, out_features=n_hidden_neurons),\n",
    "            nn.BatchNorm1d(num_features=n_hidden_neurons),\n",
    "            nn.ReLU(),\n",
    "            nn.Dropout(p=dropout),\n",
    "        )\n",
    "        self.mlp = nn.Linear(in_features=n_hidden_neurons, out_features=n_classes)\n",
    "\n",
    "    def forward(self, x):\n",
    "        \n",
    "        embed_x = self.embed_X_block(x)\n",
    "        logit_class = self.mlp(embed_x)       \n",
    "\n",
    "        # Compute class-membership probabilities.\n",
    "        p_class = F.softmax(logit_class, dim=-1)\n",
    "\n",
    "        return p_class"
   ]
  },
  {
   "cell_type": "code",
   "execution_count": 5,
   "outputs": [],
   "source": [
    "from skactiveml.base import SkactivemlClassifier, AnnotatorModelMixin\n",
    "from skorch import NeuralNet\n",
    "from skactiveml.utils import is_labeled, is_unlabeled\n",
    "from skorch.dataset import Dataset\n",
    "from skorch.helper import predefined_split"
   ],
   "metadata": {
    "collapsed": false,
    "ExecuteTime": {
     "end_time": "2024-05-08T18:29:37.730548Z",
     "start_time": "2024-05-08T18:29:37.701324Z"
    }
   }
  },
  {
   "cell_type": "code",
   "execution_count": 6,
   "outputs": [],
   "source": [
    "class SkorchClassifier(NeuralNet, SkactivemlClassifier):\n",
    "    def __init__(\n",
    "        self,\n",
    "        module,\n",
    "        *args,\n",
    "        classes=None,\n",
    "        missing_label=MISSING_LABEL,\n",
    "        cost_matrix=None,\n",
    "        random_state=None,\n",
    "        **module_kwargs,\n",
    "    ):\n",
    "        n_classes = len(classes)\n",
    "        super(SkorchClassifier, self).__init__(\n",
    "            module,\n",
    "            *args,\n",
    "            module__n_classes=n_classes,\n",
    "            **module_kwargs,\n",
    "        )\n",
    "        \n",
    "        SkactivemlClassifier.__init__(\n",
    "            self,\n",
    "            classes=classes,\n",
    "            missing_label=missing_label,\n",
    "            cost_matrix=cost_matrix,\n",
    "            random_state=random_state,\n",
    "        )\n",
    "        \n",
    "        self.regularized = module_kwargs.get(\"regularized\")\n",
    "        self.lambda1 = module_kwargs.get(\"lambda1\")\n",
    "\n",
    "    def get_loss(self, y_pred, y_true, *args, **kwargs):\n",
    "        loss = super(SkorchClassifier, self).get_loss(y_pred, y_true, *args, **kwargs)\n",
    "        if self.regularized is not None:\n",
    "            if self.regularized == 1 and self.lambda1 is float:\n",
    "                loss += self.lambda1 * sum([w.abs().sum() for w in self.module_.parameters()])\n",
    "        return loss\n",
    "\n",
    "    def fit(self, X, y, **fit_params):\n",
    "        # check input parameters\n",
    "        self.check_X_dict_ = {\n",
    "            \"ensure_min_samples\": 0,\n",
    "            \"ensure_min_features\": 0,\n",
    "            \"allow_nd\": True,\n",
    "            \"dtype\": None,\n",
    "        }\n",
    "        X, y, sample_weight = self._validate_data(\n",
    "            X=X,\n",
    "            y=y,\n",
    "            check_X_dict=self.check_X_dict_,\n",
    "        )\n",
    "\n",
    "        # check whether model is a valid model\n",
    "\n",
    "        is_lbld = is_labeled(y, missing_label=self.missing_label)\n",
    "        try:\n",
    "            X_lbld = X[is_lbld]\n",
    "            y_lbld = y[is_lbld].astype(np.int64)\n",
    "            return super(SkorchClassifier, self).fit(X_lbld, y_lbld, **fit_params)\n",
    "        except Exception as e:\n",
    "            self.is_fitted_ = False\n",
    "            return self\n",
    "\n",
    "    def initialize(self):\n",
    "        super(SkorchClassifier, self).check_training_readiness()\n",
    "        \n",
    "        super(SkorchClassifier, self)._initialize_virtual_params()\n",
    "        super(SkorchClassifier, self)._initialize_callbacks()\n",
    "        super(SkorchClassifier, self)._initialize_module()\n",
    "        super(SkorchClassifier, self)._initialize_criterion()\n",
    "        super(SkorchClassifier, self)._initialize_optimizer()\n",
    "        super(SkorchClassifier, self)._initialize_history()\n",
    "        \n",
    "        self.initialized_ = True\n",
    "        return self\n",
    "\n",
    "    def predict(self, X):\n",
    "        return SkactivemlClassifier.predict(self, X)\n",
    "        "
   ],
   "metadata": {
    "collapsed": false,
    "ExecuteTime": {
     "end_time": "2024-05-08T18:29:38.371695Z",
     "start_time": "2024-05-08T18:29:38.368398Z"
    }
   }
  },
  {
   "cell_type": "code",
   "execution_count": 7,
   "outputs": [],
   "source": [
    "valid_ds = Dataset(X_valid, y_valid)"
   ],
   "metadata": {
    "collapsed": false,
    "ExecuteTime": {
     "end_time": "2024-05-08T18:29:38.999576Z",
     "start_time": "2024-05-08T18:29:38.994558Z"
    }
   }
  },
  {
   "cell_type": "code",
   "execution_count": 8,
   "outputs": [],
   "source": [
    "class CrowdLayerClassifier(SkorchClassifier, AnnotatorModelMixin):\n",
    "    def __init__(self, *args, **kwargs):\n",
    "        super(CrowdLayerClassifier, self).__init__(\n",
    "            module=CrowdLayerModule,\n",
    "            *args, \n",
    "            criterion=CrossEntropyLoss(),\n",
    "            criterion__reduction=\"mean\",\n",
    "            criterion__ignore_index=MISSING_LABEL,\n",
    "            **kwargs,\n",
    "        )\n",
    "\n",
    "    def get_loss(self, y_pred, y_true, *args, **kwargs):\n",
    "        # unpack the tuple from the forward function\n",
    "        p_class, logits_annot = y_pred\n",
    "        if len(y_true.shape) != 2:\n",
    "            return torch.tensor(0) # don't know why\n",
    "        loss = NeuralNet.get_loss(self, logits_annot, y_true, *args, **kwargs)\n",
    "        return loss\n",
    "    \n",
    "    def fit(self, X, y, **fit_params):\n",
    "        return NeuralNet.fit(self, X, y, **fit_params)\n",
    "        \n",
    "    def predict_annotator_perf(self, X):\n",
    "        p_class, logits_annot = self.forward(X)\n",
    "        return logits_annot\n",
    "    \n",
    "    def predict(self, X):\n",
    "        p_class, logits_annot = self.forward(X)\n",
    "        return p_class.argmax(axis=1)\n",
    "    \n",
    "    def predict_proba(self, X):\n",
    "        p_class, logits_annot = self.forward(X)\n",
    "        return p_class\n",
    "    \n",
    "\n",
    "class CrowdLayerModule(nn.Module):\n",
    "    def __init__(\n",
    "        self,\n",
    "        n_classes,\n",
    "        n_annotators,\n",
    "        gt_net,\n",
    "    ):\n",
    "        super().__init__()\n",
    "        self.n_classes = n_classes\n",
    "        self.n_annotators = n_annotators\n",
    "        self.gt_net = gt_net\n",
    "\n",
    "        # Setup crowd layer.\n",
    "        self.annotator_layers = nn.ModuleList()\n",
    "        for i in range(n_annotators):\n",
    "            layer = nn.Linear(n_classes, n_classes, bias=False)\n",
    "            nn.init.eye_(layer.weight)\n",
    "            self.annotator_layers.append(layer)\n",
    "\n",
    "    def forward(self, x):\n",
    "        \"\"\"Forward propagation of samples through the GT and AP (optional) model.\n",
    "\n",
    "        Parameters\n",
    "        ----------\n",
    "        x : torch.Tensor of shape (batch_size, *)\n",
    "            Samples.\n",
    "        return_logits_annot: bool, optional (default=True)\n",
    "            Flag whether the annotation logits are to be returned, next to the class-membership probabilities.\n",
    "\n",
    "        Returns\n",
    "        -------\n",
    "        p_class : torch.Tensor of shape (batch_size, n_classes)\n",
    "            Class-membership probabilities.\n",
    "        logits_annot : torch.Tensor of shape (batch_size, n_annotators, n_classes)\n",
    "            Annotation logits for each sample-annotator pair.\n",
    "        \"\"\"\n",
    "        # Compute class-membership logits.\n",
    "        logit_class = self.gt_net(x)\n",
    "\n",
    "        # Compute class-membership probabilities.\n",
    "        p_class = F.softmax(logit_class, dim=-1)\n",
    "\n",
    "        # Compute logits per annotator.\n",
    "        logits_annot = []\n",
    "        for layer in self.annotator_layers:\n",
    "            logits_annot.append(layer(p_class))\n",
    "        logits_annot = torch.stack(logits_annot, dim=2)\n",
    "\n",
    "        return p_class, logits_annot"
   ],
   "metadata": {
    "collapsed": false,
    "ExecuteTime": {
     "end_time": "2024-05-08T18:29:39.477113Z",
     "start_time": "2024-05-08T18:29:39.473755Z"
    }
   }
  },
  {
   "cell_type": "code",
   "execution_count": 9,
   "outputs": [],
   "source": [
    "gt_net = ClassifierModule(n_classes=n_classes, dropout=0.0)"
   ],
   "metadata": {
    "collapsed": false,
    "ExecuteTime": {
     "end_time": "2024-05-08T18:29:40.038053Z",
     "start_time": "2024-05-08T18:29:40.034642Z"
    }
   }
  },
  {
   "cell_type": "code",
   "execution_count": 10,
   "outputs": [],
   "source": [
    "net = CrowdLayerClassifier(\n",
    "        module__n_annotators=y_train.shape[1],\n",
    "        module__gt_net=gt_net,\n",
    "        classes=dataset_classes,\n",
    "        missing_label=MISSING_LABEL,\n",
    "        cost_matrix=None,\n",
    "        random_state=1,\n",
    "        train_split=predefined_split(valid_ds),\n",
    "        max_epochs=200,\n",
    "        batch_size=16,\n",
    "        optimizer_lr=0.01,\n",
    "        verbose=False,\n",
    "        optimizer=torch.optim.AdamW,\n",
    "        device=device,\n",
    "        optimizer__weight_decay=0.01\n",
    "    )"
   ],
   "metadata": {
    "collapsed": false,
    "ExecuteTime": {
     "end_time": "2024-05-08T18:29:40.537277Z",
     "start_time": "2024-05-08T18:29:40.534530Z"
    }
   }
  },
  {
   "cell_type": "code",
   "execution_count": 11,
   "outputs": [
    {
     "data": {
      "text/plain": "<class '__main__.CrowdLayerClassifier'>[initialized](\n  module_=CrowdLayerModule(\n    (gt_net): ClassifierModule(\n      (embed_X_block): Sequential(\n        (0): Linear(in_features=124, out_features=128, bias=True)\n        (1): BatchNorm1d(128, eps=1e-05, momentum=0.1, affine=True, track_running_stats=True)\n        (2): ReLU()\n        (3): Dropout(p=0.0, inplace=False)\n      )\n      (mlp): Linear(in_features=128, out_features=10, bias=True)\n    )\n    (annotator_layers): ModuleList(\n      (0-43): 44 x Linear(in_features=10, out_features=10, bias=False)\n    )\n  ),\n)",
      "text/html": "<style>#sk-container-id-1 {color: black;background-color: white;}#sk-container-id-1 pre{padding: 0;}#sk-container-id-1 div.sk-toggleable {background-color: white;}#sk-container-id-1 label.sk-toggleable__label {cursor: pointer;display: block;width: 100%;margin-bottom: 0;padding: 0.3em;box-sizing: border-box;text-align: center;}#sk-container-id-1 label.sk-toggleable__label-arrow:before {content: \"▸\";float: left;margin-right: 0.25em;color: #696969;}#sk-container-id-1 label.sk-toggleable__label-arrow:hover:before {color: black;}#sk-container-id-1 div.sk-estimator:hover label.sk-toggleable__label-arrow:before {color: black;}#sk-container-id-1 div.sk-toggleable__content {max-height: 0;max-width: 0;overflow: hidden;text-align: left;background-color: #f0f8ff;}#sk-container-id-1 div.sk-toggleable__content pre {margin: 0.2em;color: black;border-radius: 0.25em;background-color: #f0f8ff;}#sk-container-id-1 input.sk-toggleable__control:checked~div.sk-toggleable__content {max-height: 200px;max-width: 100%;overflow: auto;}#sk-container-id-1 input.sk-toggleable__control:checked~label.sk-toggleable__label-arrow:before {content: \"▾\";}#sk-container-id-1 div.sk-estimator input.sk-toggleable__control:checked~label.sk-toggleable__label {background-color: #d4ebff;}#sk-container-id-1 div.sk-label input.sk-toggleable__control:checked~label.sk-toggleable__label {background-color: #d4ebff;}#sk-container-id-1 input.sk-hidden--visually {border: 0;clip: rect(1px 1px 1px 1px);clip: rect(1px, 1px, 1px, 1px);height: 1px;margin: -1px;overflow: hidden;padding: 0;position: absolute;width: 1px;}#sk-container-id-1 div.sk-estimator {font-family: monospace;background-color: #f0f8ff;border: 1px dotted black;border-radius: 0.25em;box-sizing: border-box;margin-bottom: 0.5em;}#sk-container-id-1 div.sk-estimator:hover {background-color: #d4ebff;}#sk-container-id-1 div.sk-parallel-item::after {content: \"\";width: 100%;border-bottom: 1px solid gray;flex-grow: 1;}#sk-container-id-1 div.sk-label:hover label.sk-toggleable__label {background-color: #d4ebff;}#sk-container-id-1 div.sk-serial::before {content: \"\";position: absolute;border-left: 1px solid gray;box-sizing: border-box;top: 0;bottom: 0;left: 50%;z-index: 0;}#sk-container-id-1 div.sk-serial {display: flex;flex-direction: column;align-items: center;background-color: white;padding-right: 0.2em;padding-left: 0.2em;position: relative;}#sk-container-id-1 div.sk-item {position: relative;z-index: 1;}#sk-container-id-1 div.sk-parallel {display: flex;align-items: stretch;justify-content: center;background-color: white;position: relative;}#sk-container-id-1 div.sk-item::before, #sk-container-id-1 div.sk-parallel-item::before {content: \"\";position: absolute;border-left: 1px solid gray;box-sizing: border-box;top: 0;bottom: 0;left: 50%;z-index: -1;}#sk-container-id-1 div.sk-parallel-item {display: flex;flex-direction: column;z-index: 1;position: relative;background-color: white;}#sk-container-id-1 div.sk-parallel-item:first-child::after {align-self: flex-end;width: 50%;}#sk-container-id-1 div.sk-parallel-item:last-child::after {align-self: flex-start;width: 50%;}#sk-container-id-1 div.sk-parallel-item:only-child::after {width: 0;}#sk-container-id-1 div.sk-dashed-wrapped {border: 1px dashed gray;margin: 0 0.4em 0.5em 0.4em;box-sizing: border-box;padding-bottom: 0.4em;background-color: white;}#sk-container-id-1 div.sk-label label {font-family: monospace;font-weight: bold;display: inline-block;line-height: 1.2em;}#sk-container-id-1 div.sk-label-container {text-align: center;}#sk-container-id-1 div.sk-container {/* jupyter's `normalize.less` sets `[hidden] { display: none; }` but bootstrap.min.css set `[hidden] { display: none !important; }` so we also need the `!important` here to be able to override the default hidden behavior on the sphinx rendered scikit-learn.org. See: https://github.com/scikit-learn/scikit-learn/issues/21755 */display: inline-block !important;position: relative;}#sk-container-id-1 div.sk-text-repr-fallback {display: none;}</style><div id=\"sk-container-id-1\" class=\"sk-top-container\"><div class=\"sk-text-repr-fallback\"><pre>&lt;class &#x27;__main__.CrowdLayerClassifier&#x27;&gt;[initialized](\n  module_=CrowdLayerModule(\n    (gt_net): ClassifierModule(\n      (embed_X_block): Sequential(\n        (0): Linear(in_features=124, out_features=128, bias=True)\n        (1): BatchNorm1d(128, eps=1e-05, momentum=0.1, affine=True, track_running_stats=True)\n        (2): ReLU()\n        (3): Dropout(p=0.0, inplace=False)\n      )\n      (mlp): Linear(in_features=128, out_features=10, bias=True)\n    )\n    (annotator_layers): ModuleList(\n      (0-43): 44 x Linear(in_features=10, out_features=10, bias=False)\n    )\n  ),\n)</pre><b>In a Jupyter environment, please rerun this cell to show the HTML representation or trust the notebook. <br />On GitHub, the HTML representation is unable to render, please try loading this page with nbviewer.org.</b></div><div class=\"sk-container\" hidden><div class=\"sk-item\"><div class=\"sk-estimator sk-toggleable\"><input class=\"sk-toggleable__control sk-hidden--visually\" id=\"sk-estimator-id-1\" type=\"checkbox\" checked><label for=\"sk-estimator-id-1\" class=\"sk-toggleable__label sk-toggleable__label-arrow\">CrowdLayerClassifier</label><div class=\"sk-toggleable__content\"><pre>&lt;class &#x27;__main__.CrowdLayerClassifier&#x27;&gt;[initialized](\n  module_=CrowdLayerModule(\n    (gt_net): ClassifierModule(\n      (embed_X_block): Sequential(\n        (0): Linear(in_features=124, out_features=128, bias=True)\n        (1): BatchNorm1d(128, eps=1e-05, momentum=0.1, affine=True, track_running_stats=True)\n        (2): ReLU()\n        (3): Dropout(p=0.0, inplace=False)\n      )\n      (mlp): Linear(in_features=128, out_features=10, bias=True)\n    )\n    (annotator_layers): ModuleList(\n      (0-43): 44 x Linear(in_features=10, out_features=10, bias=False)\n    )\n  ),\n)</pre></div></div></div></div></div>"
     },
     "execution_count": 11,
     "metadata": {},
     "output_type": "execute_result"
    }
   ],
   "source": [
    "net.initialize()"
   ],
   "metadata": {
    "collapsed": false,
    "ExecuteTime": {
     "end_time": "2024-05-08T18:29:41.356519Z",
     "start_time": "2024-05-08T18:29:41.207484Z"
    }
   }
  },
  {
   "cell_type": "markdown",
   "metadata": {},
   "source": [
    "## Active Classification\n",
    "For our ensemble, we evaluate four different query strategies, i.e., random sampling, uncertainty sampling, query-by-committee, and batch BALD, regarding their sample selection. For this purpose, we start with ten labels and make 30 iterations of an active learning cycle with a batch size of 32."
   ]
  },
  {
   "cell_type": "code",
   "execution_count": 12,
   "outputs": [
    {
     "data": {
      "text/plain": "<class '__main__.CrowdLayerClassifier'>[initialized](\n  module_=CrowdLayerModule(\n    (gt_net): ClassifierModule(\n      (embed_X_block): Sequential(\n        (0): Linear(in_features=124, out_features=128, bias=True)\n        (1): BatchNorm1d(128, eps=1e-05, momentum=0.1, affine=True, track_running_stats=True)\n        (2): ReLU()\n        (3): Dropout(p=0.0, inplace=False)\n      )\n      (mlp): Linear(in_features=128, out_features=10, bias=True)\n    )\n    (annotator_layers): ModuleList(\n      (0-43): 44 x Linear(in_features=10, out_features=10, bias=False)\n    )\n  ),\n)",
      "text/html": "<style>#sk-container-id-2 {color: black;background-color: white;}#sk-container-id-2 pre{padding: 0;}#sk-container-id-2 div.sk-toggleable {background-color: white;}#sk-container-id-2 label.sk-toggleable__label {cursor: pointer;display: block;width: 100%;margin-bottom: 0;padding: 0.3em;box-sizing: border-box;text-align: center;}#sk-container-id-2 label.sk-toggleable__label-arrow:before {content: \"▸\";float: left;margin-right: 0.25em;color: #696969;}#sk-container-id-2 label.sk-toggleable__label-arrow:hover:before {color: black;}#sk-container-id-2 div.sk-estimator:hover label.sk-toggleable__label-arrow:before {color: black;}#sk-container-id-2 div.sk-toggleable__content {max-height: 0;max-width: 0;overflow: hidden;text-align: left;background-color: #f0f8ff;}#sk-container-id-2 div.sk-toggleable__content pre {margin: 0.2em;color: black;border-radius: 0.25em;background-color: #f0f8ff;}#sk-container-id-2 input.sk-toggleable__control:checked~div.sk-toggleable__content {max-height: 200px;max-width: 100%;overflow: auto;}#sk-container-id-2 input.sk-toggleable__control:checked~label.sk-toggleable__label-arrow:before {content: \"▾\";}#sk-container-id-2 div.sk-estimator input.sk-toggleable__control:checked~label.sk-toggleable__label {background-color: #d4ebff;}#sk-container-id-2 div.sk-label input.sk-toggleable__control:checked~label.sk-toggleable__label {background-color: #d4ebff;}#sk-container-id-2 input.sk-hidden--visually {border: 0;clip: rect(1px 1px 1px 1px);clip: rect(1px, 1px, 1px, 1px);height: 1px;margin: -1px;overflow: hidden;padding: 0;position: absolute;width: 1px;}#sk-container-id-2 div.sk-estimator {font-family: monospace;background-color: #f0f8ff;border: 1px dotted black;border-radius: 0.25em;box-sizing: border-box;margin-bottom: 0.5em;}#sk-container-id-2 div.sk-estimator:hover {background-color: #d4ebff;}#sk-container-id-2 div.sk-parallel-item::after {content: \"\";width: 100%;border-bottom: 1px solid gray;flex-grow: 1;}#sk-container-id-2 div.sk-label:hover label.sk-toggleable__label {background-color: #d4ebff;}#sk-container-id-2 div.sk-serial::before {content: \"\";position: absolute;border-left: 1px solid gray;box-sizing: border-box;top: 0;bottom: 0;left: 50%;z-index: 0;}#sk-container-id-2 div.sk-serial {display: flex;flex-direction: column;align-items: center;background-color: white;padding-right: 0.2em;padding-left: 0.2em;position: relative;}#sk-container-id-2 div.sk-item {position: relative;z-index: 1;}#sk-container-id-2 div.sk-parallel {display: flex;align-items: stretch;justify-content: center;background-color: white;position: relative;}#sk-container-id-2 div.sk-item::before, #sk-container-id-2 div.sk-parallel-item::before {content: \"\";position: absolute;border-left: 1px solid gray;box-sizing: border-box;top: 0;bottom: 0;left: 50%;z-index: -1;}#sk-container-id-2 div.sk-parallel-item {display: flex;flex-direction: column;z-index: 1;position: relative;background-color: white;}#sk-container-id-2 div.sk-parallel-item:first-child::after {align-self: flex-end;width: 50%;}#sk-container-id-2 div.sk-parallel-item:last-child::after {align-self: flex-start;width: 50%;}#sk-container-id-2 div.sk-parallel-item:only-child::after {width: 0;}#sk-container-id-2 div.sk-dashed-wrapped {border: 1px dashed gray;margin: 0 0.4em 0.5em 0.4em;box-sizing: border-box;padding-bottom: 0.4em;background-color: white;}#sk-container-id-2 div.sk-label label {font-family: monospace;font-weight: bold;display: inline-block;line-height: 1.2em;}#sk-container-id-2 div.sk-label-container {text-align: center;}#sk-container-id-2 div.sk-container {/* jupyter's `normalize.less` sets `[hidden] { display: none; }` but bootstrap.min.css set `[hidden] { display: none !important; }` so we also need the `!important` here to be able to override the default hidden behavior on the sphinx rendered scikit-learn.org. See: https://github.com/scikit-learn/scikit-learn/issues/21755 */display: inline-block !important;position: relative;}#sk-container-id-2 div.sk-text-repr-fallback {display: none;}</style><div id=\"sk-container-id-2\" class=\"sk-top-container\"><div class=\"sk-text-repr-fallback\"><pre>&lt;class &#x27;__main__.CrowdLayerClassifier&#x27;&gt;[initialized](\n  module_=CrowdLayerModule(\n    (gt_net): ClassifierModule(\n      (embed_X_block): Sequential(\n        (0): Linear(in_features=124, out_features=128, bias=True)\n        (1): BatchNorm1d(128, eps=1e-05, momentum=0.1, affine=True, track_running_stats=True)\n        (2): ReLU()\n        (3): Dropout(p=0.0, inplace=False)\n      )\n      (mlp): Linear(in_features=128, out_features=10, bias=True)\n    )\n    (annotator_layers): ModuleList(\n      (0-43): 44 x Linear(in_features=10, out_features=10, bias=False)\n    )\n  ),\n)</pre><b>In a Jupyter environment, please rerun this cell to show the HTML representation or trust the notebook. <br />On GitHub, the HTML representation is unable to render, please try loading this page with nbviewer.org.</b></div><div class=\"sk-container\" hidden><div class=\"sk-item\"><div class=\"sk-estimator sk-toggleable\"><input class=\"sk-toggleable__control sk-hidden--visually\" id=\"sk-estimator-id-2\" type=\"checkbox\" checked><label for=\"sk-estimator-id-2\" class=\"sk-toggleable__label sk-toggleable__label-arrow\">CrowdLayerClassifier</label><div class=\"sk-toggleable__content\"><pre>&lt;class &#x27;__main__.CrowdLayerClassifier&#x27;&gt;[initialized](\n  module_=CrowdLayerModule(\n    (gt_net): ClassifierModule(\n      (embed_X_block): Sequential(\n        (0): Linear(in_features=124, out_features=128, bias=True)\n        (1): BatchNorm1d(128, eps=1e-05, momentum=0.1, affine=True, track_running_stats=True)\n        (2): ReLU()\n        (3): Dropout(p=0.0, inplace=False)\n      )\n      (mlp): Linear(in_features=128, out_features=10, bias=True)\n    )\n    (annotator_layers): ModuleList(\n      (0-43): 44 x Linear(in_features=10, out_features=10, bias=False)\n    )\n  ),\n)</pre></div></div></div></div></div>"
     },
     "execution_count": 12,
     "metadata": {},
     "output_type": "execute_result"
    }
   ],
   "source": [
    "# Define setup.\n",
    "torch.manual_seed(RANDOM_STATE)\n",
    "\n",
    "net.fit(X_train,y_train)"
   ],
   "metadata": {
    "collapsed": false,
    "ExecuteTime": {
     "end_time": "2024-05-08T18:30:01.597800Z",
     "start_time": "2024-05-08T18:29:43.395560Z"
    }
   }
  },
  {
   "cell_type": "code",
   "execution_count": 34,
   "outputs": [
    {
     "name": "stdout",
     "output_type": "stream",
     "text": [
      "tensor([5, 2, 2, 9, 5, 9, 8, 5, 5, 2, 9, 2, 8, 2, 9, 9, 2, 2, 9, 2])\n",
      "[1 8 2 6 1 7 8 1 1 7 3 2 4 2 3 4 7 5 7 8]\n",
      "0.348\n"
     ]
    }
   ],
   "source": [
    "y_pred = net.predict(X_test)\n",
    "print(y_pred[:20])\n",
    "print(y_test_true[:20])\n",
    "\n",
    "print(accuracy_score(y_pred, y_test_true))\n",
    "# should be 0.785 from MaDL"
   ],
   "metadata": {
    "collapsed": false,
    "ExecuteTime": {
     "end_time": "2024-05-08T18:22:48.743162Z",
     "start_time": "2024-05-08T18:22:48.725566Z"
    }
   }
  },
  {
   "cell_type": "code",
   "execution_count": 35,
   "outputs": [
    {
     "name": "stdout",
     "output_type": "stream",
     "text": [
      "tensor([7, 2, 8, 9, 8, 7, 2, 2, 8, 9, 2, 9, 2, 2, 2, 2, 5, 2, 8, 2])\n",
      "[4 7 4 7 8 3 2 2 8 3 0 6 7 2 2 0 5 2 8 9]\n"
     ]
    },
    {
     "data": {
      "text/plain": "0.34285714285714286"
     },
     "execution_count": 35,
     "metadata": {},
     "output_type": "execute_result"
    }
   ],
   "source": [
    "y_train_pred = net.predict(X_train)\n",
    "print(y_train_pred[:20])\n",
    "print(y_train_true[:20])\n",
    "accuracy_score(y_train_true, y_train_pred)"
   ],
   "metadata": {
    "collapsed": false,
    "ExecuteTime": {
     "end_time": "2024-05-08T18:22:48.760695Z",
     "start_time": "2024-05-08T18:22:48.735992Z"
    }
   }
  },
  {
   "cell_type": "code",
   "execution_count": 36,
   "outputs": [],
   "source": [
    "history = net.history"
   ],
   "metadata": {
    "collapsed": false,
    "ExecuteTime": {
     "end_time": "2024-05-08T18:22:48.762027Z",
     "start_time": "2024-05-08T18:22:48.759225Z"
    }
   }
  },
  {
   "cell_type": "code",
   "execution_count": 37,
   "outputs": [
    {
     "data": {
      "text/plain": "[<matplotlib.lines.Line2D at 0x2892675d0>]"
     },
     "execution_count": 37,
     "metadata": {},
     "output_type": "execute_result"
    },
    {
     "data": {
      "text/plain": "<Figure size 640x480 with 1 Axes>",
      "image/png": "[encoded data removed]"
     },
     "metadata": {},
     "output_type": "display_data"
    }
   ],
   "source": [
    "train_loss = history[:, 'train_loss']\n",
    "plt.plot(train_loss)"
   ],
   "metadata": {
    "collapsed": false,
    "ExecuteTime": {
     "end_time": "2024-05-08T18:22:48.832390Z",
     "start_time": "2024-05-08T18:22:48.767116Z"
    }
   }
  },
  {
   "cell_type": "code",
   "execution_count": 16,
   "outputs": [],
   "source": [],
   "metadata": {
    "collapsed": false,
    "ExecuteTime": {
     "end_time": "2024-05-08T18:19:44.326509Z",
     "start_time": "2024-05-08T18:19:44.322473Z"
    }
   }
  }
 ],
 "metadata": {
  "kernelspec": {
   "display_name": "Python 3 (ipykernel)",
   "language": "python",
   "name": "python3"
  },
  "language_info": {
   "codemirror_mode": {
    "name": "ipython",
    "version": 3
   },
   "file_extension": ".py",
   "mimetype": "text/x-python",
   "name": "python",
   "nbconvert_exporter": "python",
   "pygments_lexer": "ipython3",
   "version": "3.9.17"
  }
 },
 "nbformat": 4,
 "nbformat_minor": 4
}
