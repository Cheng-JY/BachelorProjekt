{
 "cells": [
  {
   "cell_type": "markdown",
   "metadata": {},
   "source": [
    "# Crowd Layer"
   ]
  },
  {
   "cell_type": "markdown",
   "metadata": {},
   "source": [
    "In this brief tutorial, we show an example use-case of our package `skactiveml` with the Python package [skorch](https://skorch.readthedocs.io/en/stable/), which is a scikit-learn wrapper for Pytorch models. This way, we are able to implement and test deep learning models in combination with query strategies implemented in our framework."
   ]
  },
  {
   "cell_type": "code",
   "execution_count": 1,
   "metadata": {
    "ExecuteTime": {
     "end_time": "2024-05-17T10:04:50.172457Z",
     "start_time": "2024-05-17T10:04:48.996167Z"
    }
   },
   "outputs": [],
   "source": [
    "import matplotlib as mlp\n",
    "import matplotlib.pyplot as plt\n",
    "import numpy as np\n",
    "import torch\n",
    "import warnings\n",
    "\n",
    "from sklearn.metrics import accuracy_score\n",
    "from torch import nn\n",
    "import torch.nn.functional as F\n",
    "from torch.nn import CrossEntropyLoss\n",
    "\n",
    "mlp.rcParams[\"figure.facecolor\"] = \"white\"\n",
    "\n",
    "MISSING_LABEL = -1\n",
    "RANDOM_STATE = 0\n",
    "FONTSIZE = 12\n",
    "\n",
    "np.random.seed(RANDOM_STATE)\n",
    "torch.manual_seed(RANDOM_STATE)\n",
    "torch.cuda.manual_seed(RANDOM_STATE)\n",
    "device = 'cuda' if torch.cuda.is_available() else 'cpu'\n",
    "\n",
    "warnings.filterwarnings(\"ignore\")"
   ]
  },
  {
   "cell_type": "markdown",
   "metadata": {},
   "source": [
    "## Loading Music Data Set"
   ]
  },
  {
   "cell_type": "code",
   "execution_count": 2,
   "metadata": {
    "ExecuteTime": {
     "end_time": "2024-05-17T10:04:50.176595Z",
     "start_time": "2024-05-17T10:04:50.173127Z"
    }
   },
   "outputs": [],
   "source": [
    "data_dir = \"./music-multi-annotator-dataset\""
   ]
  },
  {
   "cell_type": "code",
   "execution_count": 3,
   "outputs": [
    {
     "name": "stdout",
     "output_type": "stream",
     "text": [
      "(700, 124)\n",
      "(700, 44)\n",
      "(50, 124)\n",
      "(250, 124)\n"
     ]
    }
   ],
   "source": [
    "X_train = np.load(f'{data_dir}/music-X.npy')\n",
    "y_train = np.load(f'{data_dir}/music-y.npy')\n",
    "y_train_true = np.load(f'{data_dir}/music-y-true.npy')\n",
    "X_valid = np.load(f'{data_dir}/music-X-valid.npy')\n",
    "y_valid = np.load(f'{data_dir}/music-y-true-valid.npy')\n",
    "X_test = np.load(f'{data_dir}/music-X-test.npy')\n",
    "y_test_true = np.load(f'{data_dir}/music-y-true-test.npy')\n",
    "\n",
    "dataset_classes = np.unique(y_test_true)\n",
    "n_classes = len(dataset_classes)\n",
    "n_features = X_train.shape[1]\n",
    "print(X_train.shape)\n",
    "print(y_train.shape)\n",
    "print(X_valid.shape)\n",
    "print(X_test.shape)"
   ],
   "metadata": {
    "collapsed": false,
    "ExecuteTime": {
     "end_time": "2024-05-17T10:04:50.181025Z",
     "start_time": "2024-05-17T10:04:50.175887Z"
    }
   }
  },
  {
   "cell_type": "markdown",
   "metadata": {},
   "source": [
    "## Neural Network Ensemble for tabular data set\n",
    "In the next step, we define a neural network ensemble for tabular data set"
   ]
  },
  {
   "cell_type": "code",
   "execution_count": 4,
   "metadata": {
    "ExecuteTime": {
     "end_time": "2024-05-17T10:04:50.184634Z",
     "start_time": "2024-05-17T10:04:50.181349Z"
    }
   },
   "outputs": [],
   "source": [
    "# Define base module.\n",
    "class ClassifierModule(nn.Module):\n",
    "    def __init__(self, n_classes, dropout):\n",
    "        super(ClassifierModule, self).__init__()\n",
    "        n_hidden_neurons = 128\n",
    "        self.embed_X_block = nn.Sequential(\n",
    "            nn.Linear(in_features=124, out_features=n_hidden_neurons),\n",
    "            nn.BatchNorm1d(num_features=n_hidden_neurons),\n",
    "            nn.ReLU(),\n",
    "            nn.Dropout(p=dropout),\n",
    "        )\n",
    "        self.mlp = nn.Linear(in_features=n_hidden_neurons, out_features=n_classes)\n",
    "\n",
    "    def forward(self, x):\n",
    "        \n",
    "        embed_x = self.embed_X_block(x)\n",
    "        logit_class = self.mlp(embed_x)       \n",
    "\n",
    "        # Compute class-membership probabilities.\n",
    "        p_class = F.softmax(logit_class, dim=-1)\n",
    "\n",
    "        return p_class"
   ]
  },
  {
   "cell_type": "code",
   "execution_count": 5,
   "outputs": [],
   "source": [
    "from skactiveml.base import SkactivemlClassifier, AnnotatorModelMixin\n",
    "from skorch import NeuralNet\n",
    "from skactiveml.utils import is_labeled\n",
    "from skorch.dataset import unpack_data, Dataset\n",
    "from skorch.helper import predefined_split"
   ],
   "metadata": {
    "collapsed": false,
    "ExecuteTime": {
     "end_time": "2024-05-17T10:04:50.208497Z",
     "start_time": "2024-05-17T10:04:50.183394Z"
    }
   }
  },
  {
   "cell_type": "code",
   "execution_count": 6,
   "outputs": [],
   "source": [
    "class SkorchClassifier(NeuralNet, SkactivemlClassifier):\n",
    "    def __init__(\n",
    "        self,\n",
    "        module,\n",
    "        *args,\n",
    "        classes=None,\n",
    "        missing_label=MISSING_LABEL,\n",
    "        cost_matrix=None,\n",
    "        random_state=None,\n",
    "        **module_kwargs,\n",
    "    ):\n",
    "        n_classes = len(classes)\n",
    "        super(SkorchClassifier, self).__init__(\n",
    "            module,\n",
    "            *args,\n",
    "            module__n_classes=n_classes,\n",
    "            **module_kwargs,\n",
    "        )\n",
    "        \n",
    "        SkactivemlClassifier.__init__(\n",
    "            self,\n",
    "            classes=classes,\n",
    "            missing_label=missing_label,\n",
    "            cost_matrix=cost_matrix,\n",
    "            random_state=random_state,\n",
    "        )\n",
    "        \n",
    "        self.regularized = module_kwargs.get(\"regularized\")\n",
    "        self.lambda1 = module_kwargs.get(\"lambda1\")\n",
    "\n",
    "    def get_loss(self, y_pred, y_true, *args, **kwargs):\n",
    "        loss = super(SkorchClassifier, self).get_loss(y_pred, y_true, *args, **kwargs)\n",
    "        if self.regularized is not None:\n",
    "            if self.regularized == 1 and self.lambda1 is float:\n",
    "                loss += self.lambda1 * sum([w.abs().sum() for w in self.module_.parameters()])\n",
    "        return loss\n",
    "\n",
    "    def fit(self, X, y, **fit_params):\n",
    "        # check input parameters\n",
    "        self.check_X_dict_ = {\n",
    "            \"ensure_min_samples\": 0,\n",
    "            \"ensure_min_features\": 0,\n",
    "            \"allow_nd\": True,\n",
    "            \"dtype\": None,\n",
    "        }\n",
    "        X, y, sample_weight = self._validate_data(\n",
    "            X=X,\n",
    "            y=y,\n",
    "            check_X_dict=self.check_X_dict_,\n",
    "        )\n",
    "\n",
    "        # check whether model is a valid model\n",
    "\n",
    "        is_lbld = is_labeled(y, missing_label=self.missing_label)\n",
    "        try:\n",
    "            X_lbld = X[is_lbld]\n",
    "            y_lbld = y[is_lbld].astype(np.int64)\n",
    "            return super(SkorchClassifier, self).fit(X_lbld, y_lbld, **fit_params)\n",
    "        except Exception as e:\n",
    "            self.is_fitted_ = False\n",
    "            return self\n",
    "\n",
    "    def initialize(self):\n",
    "        super(SkorchClassifier, self).check_training_readiness()\n",
    "        \n",
    "        super(SkorchClassifier, self)._initialize_virtual_params()\n",
    "        super(SkorchClassifier, self)._initialize_callbacks()\n",
    "        super(SkorchClassifier, self)._initialize_module()\n",
    "        super(SkorchClassifier, self)._initialize_criterion()\n",
    "        super(SkorchClassifier, self)._initialize_optimizer()\n",
    "        super(SkorchClassifier, self)._initialize_history()\n",
    "        \n",
    "        self.initialized_ = True\n",
    "        return self\n",
    "\n",
    "    def predict(self, X):\n",
    "        return SkactivemlClassifier.predict(self, X)\n",
    "         "
   ],
   "metadata": {
    "collapsed": false,
    "ExecuteTime": {
     "end_time": "2024-05-17T10:04:50.208808Z",
     "start_time": "2024-05-17T10:04:50.200754Z"
    }
   }
  },
  {
   "cell_type": "code",
   "execution_count": 25,
   "outputs": [],
   "source": [
    "class CrowdLayerClassifier(SkorchClassifier, AnnotatorModelMixin):\n",
    "    def __init__(self, *args, **kwargs):\n",
    "        super(CrowdLayerClassifier, self).__init__(\n",
    "            module=CrowdLayerModule,\n",
    "            *args, \n",
    "            criterion=CrossEntropyLoss(),\n",
    "            criterion__reduction=\"mean\",\n",
    "            criterion__ignore_index=MISSING_LABEL,\n",
    "            **kwargs,\n",
    "        )\n",
    "\n",
    "    def get_loss(self, y_pred, y_true, *args, **kwargs):\n",
    "        # unpack the tuple from the forward function\n",
    "        p_class, logits_annot = y_pred\n",
    "        loss = NeuralNet.get_loss(self, logits_annot, y_true, *args, **kwargs)\n",
    "        return loss\n",
    "    \n",
    "    def fit(self, X, y, **fit_params):\n",
    "        return NeuralNet.fit(self, X, y, **fit_params)\n",
    "        \n",
    "    def predict_annotator_perf(self, X, return_confusion_matrix=False):\n",
    "        n_annotators = self.module__n_annotators\n",
    "        p_class, logits_annot = self.forward(X)\n",
    "        p_annot = F.softmax(logits_annot, dim=1)\n",
    "        P_class = torch.vstack([p for p in p_class]).numpy()\n",
    "        P_annot = p_annot.numpy()\n",
    "        P_perf = np.array([np.einsum(\"ij,ik->ijk\", P_class, P_annot[:, :, i]) for i in range(n_annotators)])\n",
    "        P_perf = P_perf.swapaxes(0, 1)\n",
    "        if return_confusion_matrix:\n",
    "            return P_perf\n",
    "        return P_perf.diagonal(axis1=-2, axis2=-1).sum(axis=-1)\n",
    "    \n",
    "    def predict(self, X):\n",
    "        p_class, logits_annot = self.forward(X)\n",
    "        return p_class.argmax(axis=1)\n",
    "    \n",
    "    def predict_proba(self, X):\n",
    "        p_class, logits_annot = self.forward(X)\n",
    "        P_class = torch.vstack([p for p in p_class]).numpy()\n",
    "        return P_class\n",
    "    \n",
    "    def validation_step(self, batch, **fit_params):\n",
    "        # here put the all things about validation\n",
    "        # the following one doesn't work very well\n",
    "        self._set_training(False)\n",
    "        Xi, yi = unpack_data(batch)\n",
    "        with torch.no_grad():\n",
    "            y_pred = self.predict(Xi)\n",
    "            print(y_pred)\n",
    "            print(yi)\n",
    "            acc = torch.sum(y_pred == yi) / y_pred.shape[0]\n",
    "        return {\n",
    "            'loss': acc,\n",
    "            'y_pred': y_pred,\n",
    "        }\n",
    "    \n",
    "class CrowdLayerModule(nn.Module):\n",
    "    def __init__(\n",
    "        self,\n",
    "        n_classes,\n",
    "        n_annotators,\n",
    "        gt_net,\n",
    "    ):\n",
    "        super().__init__()\n",
    "        self.n_classes = n_classes\n",
    "        self.n_annotators = n_annotators\n",
    "        self.gt_net = gt_net\n",
    "\n",
    "        # Setup crowd layer.\n",
    "        self.annotator_layers = nn.ModuleList()\n",
    "        for i in range(n_annotators):\n",
    "            layer = nn.Linear(n_classes, n_classes, bias=False)\n",
    "            nn.init.eye_(layer.weight)\n",
    "            self.annotator_layers.append(layer)\n",
    "\n",
    "    def forward(self, x):\n",
    "        \"\"\"Forward propagation of samples through the GT and AP (optional) model.\n",
    "\n",
    "        Parameters\n",
    "        ----------\n",
    "        x : torch.Tensor of shape (batch_size, *)\n",
    "            Samples.\n",
    "\n",
    "        Returns\n",
    "        -------\n",
    "        p_class : torch.Tensor of shape (batch_size, n_classes)\n",
    "            Class-membership probabilities.\n",
    "        logits_annot : torch.Tensor of shape (batch_size, n_annotators, n_classes)\n",
    "            Annotation logits for each sample-annotator pair.\n",
    "        \"\"\"\n",
    "        # Compute class-membership logits.\n",
    "        logit_class = self.gt_net(x)\n",
    "\n",
    "        # Compute class-membership probabilities.\n",
    "        p_class = F.softmax(logit_class, dim=-1)\n",
    "\n",
    "        # Compute logits per annotator.\n",
    "        logits_annot = []\n",
    "        for layer in self.annotator_layers:\n",
    "            logits_annot.append(layer(p_class))\n",
    "        logits_annot = torch.stack(logits_annot, dim=2)\n",
    "\n",
    "        return p_class, logits_annot"
   ],
   "metadata": {
    "collapsed": false,
    "ExecuteTime": {
     "end_time": "2024-05-17T10:10:31.974821Z",
     "start_time": "2024-05-17T10:10:31.970196Z"
    }
   }
  },
  {
   "cell_type": "code",
   "execution_count": 26,
   "outputs": [],
   "source": [
    "gt_net = ClassifierModule(n_classes=n_classes, dropout=0.0)"
   ],
   "metadata": {
    "collapsed": false,
    "ExecuteTime": {
     "end_time": "2024-05-17T10:10:32.328975Z",
     "start_time": "2024-05-17T10:10:32.325563Z"
    }
   }
  },
  {
   "cell_type": "code",
   "execution_count": 27,
   "outputs": [],
   "source": [
    "valid_ds = Dataset(X_valid, y_valid)"
   ],
   "metadata": {
    "collapsed": false,
    "ExecuteTime": {
     "end_time": "2024-05-17T10:10:32.674698Z",
     "start_time": "2024-05-17T10:10:32.670460Z"
    }
   }
  },
  {
   "cell_type": "code",
   "execution_count": 28,
   "outputs": [],
   "source": [
    "net = CrowdLayerClassifier(\n",
    "        module__n_annotators=y_train.shape[1],\n",
    "        module__gt_net=gt_net,\n",
    "        classes=dataset_classes,\n",
    "        missing_label=MISSING_LABEL,\n",
    "        cost_matrix=None,\n",
    "        random_state=1,\n",
    "        train_split=predefined_split(valid_ds),\n",
    "        max_epochs=5,\n",
    "        batch_size=16,\n",
    "        optimizer_lr=0.01,\n",
    "        verbose=False,\n",
    "        optimizer=torch.optim.AdamW,\n",
    "        device=device,\n",
    "        optimizer__weight_decay=0.01\n",
    "    )"
   ],
   "metadata": {
    "collapsed": false,
    "ExecuteTime": {
     "end_time": "2024-05-17T10:10:33.048877Z",
     "start_time": "2024-05-17T10:10:33.045299Z"
    }
   }
  },
  {
   "cell_type": "code",
   "execution_count": 29,
   "outputs": [
    {
     "data": {
      "text/plain": "<class '__main__.CrowdLayerClassifier'>[initialized](\n  module_=CrowdLayerModule(\n    (gt_net): ClassifierModule(\n      (embed_X_block): Sequential(\n        (0): Linear(in_features=124, out_features=128, bias=True)\n        (1): BatchNorm1d(128, eps=1e-05, momentum=0.1, affine=True, track_running_stats=True)\n        (2): ReLU()\n        (3): Dropout(p=0.0, inplace=False)\n      )\n      (mlp): Linear(in_features=128, out_features=10, bias=True)\n    )\n    (annotator_layers): ModuleList(\n      (0-43): 44 x Linear(in_features=10, out_features=10, bias=False)\n    )\n  ),\n)",
      "text/html": "<style>#sk-container-id-5 {color: black;background-color: white;}#sk-container-id-5 pre{padding: 0;}#sk-container-id-5 div.sk-toggleable {background-color: white;}#sk-container-id-5 label.sk-toggleable__label {cursor: pointer;display: block;width: 100%;margin-bottom: 0;padding: 0.3em;box-sizing: border-box;text-align: center;}#sk-container-id-5 label.sk-toggleable__label-arrow:before {content: \"▸\";float: left;margin-right: 0.25em;color: #696969;}#sk-container-id-5 label.sk-toggleable__label-arrow:hover:before {color: black;}#sk-container-id-5 div.sk-estimator:hover label.sk-toggleable__label-arrow:before {color: black;}#sk-container-id-5 div.sk-toggleable__content {max-height: 0;max-width: 0;overflow: hidden;text-align: left;background-color: #f0f8ff;}#sk-container-id-5 div.sk-toggleable__content pre {margin: 0.2em;color: black;border-radius: 0.25em;background-color: #f0f8ff;}#sk-container-id-5 input.sk-toggleable__control:checked~div.sk-toggleable__content {max-height: 200px;max-width: 100%;overflow: auto;}#sk-container-id-5 input.sk-toggleable__control:checked~label.sk-toggleable__label-arrow:before {content: \"▾\";}#sk-container-id-5 div.sk-estimator input.sk-toggleable__control:checked~label.sk-toggleable__label {background-color: #d4ebff;}#sk-container-id-5 div.sk-label input.sk-toggleable__control:checked~label.sk-toggleable__label {background-color: #d4ebff;}#sk-container-id-5 input.sk-hidden--visually {border: 0;clip: rect(1px 1px 1px 1px);clip: rect(1px, 1px, 1px, 1px);height: 1px;margin: -1px;overflow: hidden;padding: 0;position: absolute;width: 1px;}#sk-container-id-5 div.sk-estimator {font-family: monospace;background-color: #f0f8ff;border: 1px dotted black;border-radius: 0.25em;box-sizing: border-box;margin-bottom: 0.5em;}#sk-container-id-5 div.sk-estimator:hover {background-color: #d4ebff;}#sk-container-id-5 div.sk-parallel-item::after {content: \"\";width: 100%;border-bottom: 1px solid gray;flex-grow: 1;}#sk-container-id-5 div.sk-label:hover label.sk-toggleable__label {background-color: #d4ebff;}#sk-container-id-5 div.sk-serial::before {content: \"\";position: absolute;border-left: 1px solid gray;box-sizing: border-box;top: 0;bottom: 0;left: 50%;z-index: 0;}#sk-container-id-5 div.sk-serial {display: flex;flex-direction: column;align-items: center;background-color: white;padding-right: 0.2em;padding-left: 0.2em;position: relative;}#sk-container-id-5 div.sk-item {position: relative;z-index: 1;}#sk-container-id-5 div.sk-parallel {display: flex;align-items: stretch;justify-content: center;background-color: white;position: relative;}#sk-container-id-5 div.sk-item::before, #sk-container-id-5 div.sk-parallel-item::before {content: \"\";position: absolute;border-left: 1px solid gray;box-sizing: border-box;top: 0;bottom: 0;left: 50%;z-index: -1;}#sk-container-id-5 div.sk-parallel-item {display: flex;flex-direction: column;z-index: 1;position: relative;background-color: white;}#sk-container-id-5 div.sk-parallel-item:first-child::after {align-self: flex-end;width: 50%;}#sk-container-id-5 div.sk-parallel-item:last-child::after {align-self: flex-start;width: 50%;}#sk-container-id-5 div.sk-parallel-item:only-child::after {width: 0;}#sk-container-id-5 div.sk-dashed-wrapped {border: 1px dashed gray;margin: 0 0.4em 0.5em 0.4em;box-sizing: border-box;padding-bottom: 0.4em;background-color: white;}#sk-container-id-5 div.sk-label label {font-family: monospace;font-weight: bold;display: inline-block;line-height: 1.2em;}#sk-container-id-5 div.sk-label-container {text-align: center;}#sk-container-id-5 div.sk-container {/* jupyter's `normalize.less` sets `[hidden] { display: none; }` but bootstrap.min.css set `[hidden] { display: none !important; }` so we also need the `!important` here to be able to override the default hidden behavior on the sphinx rendered scikit-learn.org. See: https://github.com/scikit-learn/scikit-learn/issues/21755 */display: inline-block !important;position: relative;}#sk-container-id-5 div.sk-text-repr-fallback {display: none;}</style><div id=\"sk-container-id-5\" class=\"sk-top-container\"><div class=\"sk-text-repr-fallback\"><pre>&lt;class &#x27;__main__.CrowdLayerClassifier&#x27;&gt;[initialized](\n  module_=CrowdLayerModule(\n    (gt_net): ClassifierModule(\n      (embed_X_block): Sequential(\n        (0): Linear(in_features=124, out_features=128, bias=True)\n        (1): BatchNorm1d(128, eps=1e-05, momentum=0.1, affine=True, track_running_stats=True)\n        (2): ReLU()\n        (3): Dropout(p=0.0, inplace=False)\n      )\n      (mlp): Linear(in_features=128, out_features=10, bias=True)\n    )\n    (annotator_layers): ModuleList(\n      (0-43): 44 x Linear(in_features=10, out_features=10, bias=False)\n    )\n  ),\n)</pre><b>In a Jupyter environment, please rerun this cell to show the HTML representation or trust the notebook. <br />On GitHub, the HTML representation is unable to render, please try loading this page with nbviewer.org.</b></div><div class=\"sk-container\" hidden><div class=\"sk-item\"><div class=\"sk-estimator sk-toggleable\"><input class=\"sk-toggleable__control sk-hidden--visually\" id=\"sk-estimator-id-5\" type=\"checkbox\" checked><label for=\"sk-estimator-id-5\" class=\"sk-toggleable__label sk-toggleable__label-arrow\">CrowdLayerClassifier</label><div class=\"sk-toggleable__content\"><pre>&lt;class &#x27;__main__.CrowdLayerClassifier&#x27;&gt;[initialized](\n  module_=CrowdLayerModule(\n    (gt_net): ClassifierModule(\n      (embed_X_block): Sequential(\n        (0): Linear(in_features=124, out_features=128, bias=True)\n        (1): BatchNorm1d(128, eps=1e-05, momentum=0.1, affine=True, track_running_stats=True)\n        (2): ReLU()\n        (3): Dropout(p=0.0, inplace=False)\n      )\n      (mlp): Linear(in_features=128, out_features=10, bias=True)\n    )\n    (annotator_layers): ModuleList(\n      (0-43): 44 x Linear(in_features=10, out_features=10, bias=False)\n    )\n  ),\n)</pre></div></div></div></div></div>"
     },
     "execution_count": 29,
     "metadata": {},
     "output_type": "execute_result"
    }
   ],
   "source": [
    "net.initialize()"
   ],
   "metadata": {
    "collapsed": false,
    "ExecuteTime": {
     "end_time": "2024-05-17T10:10:33.539281Z",
     "start_time": "2024-05-17T10:10:33.533997Z"
    }
   }
  },
  {
   "cell_type": "markdown",
   "metadata": {},
   "source": [
    "## Active Classification\n",
    "For our ensemble, we evaluate four different query strategies, i.e., random sampling, uncertainty sampling, query-by-committee, and batch BALD, regarding their sample selection. For this purpose, we start with ten labels and make 30 iterations of an active learning cycle with a batch size of 32."
   ]
  },
  {
   "cell_type": "code",
   "execution_count": 30,
   "outputs": [
    {
     "name": "stdout",
     "output_type": "stream",
     "text": [
      "tensor([8, 8, 8, 8, 8, 8, 8, 8, 8, 1, 8, 8, 8, 8, 8, 8])\n",
      "tensor([1, 3, 4, 7, 5, 9, 6, 9, 0, 1, 8, 0, 3, 1, 0, 0])\n",
      "tensor([8, 8, 8, 8, 9, 8, 8, 8, 8, 8, 8, 8, 8, 8, 8, 8])\n",
      "tensor([4, 5, 0, 4, 2, 8, 0, 3, 5, 0, 3, 3, 3, 4, 1, 0])\n",
      "tensor([8, 8, 8, 8, 8, 8, 8, 8, 8, 8, 8, 8, 9, 8, 8, 8])\n",
      "tensor([7, 2, 1, 4, 7, 0, 3, 8, 4, 0, 1, 0, 6, 5, 6, 4])\n",
      "tensor([8, 8])\n",
      "tensor([0, 4])\n",
      "tensor([8, 8, 8, 8, 1, 8, 8, 8, 8, 1, 8, 8, 8, 1, 8, 8])\n",
      "tensor([1, 3, 4, 7, 5, 9, 6, 9, 0, 1, 8, 0, 3, 1, 0, 0])\n",
      "tensor([8, 8, 8, 8, 9, 3, 8, 8, 8, 3, 8, 3, 8, 7, 1, 8])\n",
      "tensor([4, 5, 0, 4, 2, 8, 0, 3, 5, 0, 3, 3, 3, 4, 1, 0])\n",
      "tensor([3, 8, 1, 8, 8, 8, 8, 8, 8, 8, 1, 8, 9, 8, 6, 8])\n",
      "tensor([7, 2, 1, 4, 7, 0, 3, 8, 4, 0, 1, 0, 6, 5, 6, 4])\n",
      "tensor([8, 8])\n",
      "tensor([0, 4])\n",
      "tensor([1, 8, 8, 8, 1, 8, 6, 3, 8, 1, 8, 8, 3, 1, 8, 8])\n",
      "tensor([1, 3, 4, 7, 5, 9, 6, 9, 0, 1, 8, 0, 3, 1, 0, 0])\n",
      "tensor([8, 8, 8, 8, 9, 8, 8, 8, 8, 3, 3, 3, 3, 3, 1, 8])\n",
      "tensor([4, 5, 0, 4, 2, 8, 0, 3, 5, 0, 3, 3, 3, 4, 1, 0])\n",
      "tensor([7, 3, 1, 8, 8, 8, 3, 8, 8, 8, 1, 8, 9, 1, 6, 8])\n",
      "tensor([7, 2, 1, 4, 7, 0, 3, 8, 4, 0, 1, 0, 6, 5, 6, 4])\n",
      "tensor([8, 8])\n",
      "tensor([0, 4])\n",
      "tensor([1, 3, 8, 3, 1, 8, 6, 9, 8, 1, 8, 8, 3, 1, 0, 0])\n",
      "tensor([1, 3, 4, 7, 5, 9, 6, 9, 0, 1, 8, 0, 3, 1, 0, 0])\n",
      "tensor([8, 0, 0, 8, 9, 3, 0, 8, 0, 9, 3, 9, 3, 9, 1, 8])\n",
      "tensor([4, 5, 0, 4, 2, 8, 0, 3, 5, 0, 3, 3, 3, 4, 1, 0])\n",
      "tensor([7, 9, 1, 8, 8, 0, 3, 8, 8, 0, 1, 0, 9, 1, 9, 8])\n",
      "tensor([7, 2, 1, 4, 7, 0, 3, 8, 4, 0, 1, 0, 6, 5, 6, 4])\n",
      "tensor([0, 8])\n",
      "tensor([0, 4])\n",
      "tensor([9, 7, 8, 7, 7, 8, 8, 7, 8, 9, 8, 8, 3, 7, 8, 8])\n",
      "tensor([1, 3, 4, 7, 5, 9, 6, 9, 0, 1, 8, 0, 3, 1, 0, 0])\n",
      "tensor([8, 8, 8, 8, 9, 7, 8, 8, 8, 9, 7, 9, 8, 7, 2, 8])\n",
      "tensor([4, 5, 0, 4, 2, 8, 0, 3, 5, 0, 3, 3, 3, 4, 1, 0])\n",
      "tensor([7, 9, 7, 8, 8, 8, 7, 8, 7, 8, 7, 8, 9, 7, 9, 8])\n",
      "tensor([7, 2, 1, 4, 7, 0, 3, 8, 4, 0, 1, 0, 6, 5, 6, 4])\n",
      "tensor([8, 8])\n",
      "tensor([0, 4])\n"
     ]
    },
    {
     "data": {
      "text/plain": "<class '__main__.CrowdLayerClassifier'>[initialized](\n  module_=CrowdLayerModule(\n    (gt_net): ClassifierModule(\n      (embed_X_block): Sequential(\n        (0): Linear(in_features=124, out_features=128, bias=True)\n        (1): BatchNorm1d(128, eps=1e-05, momentum=0.1, affine=True, track_running_stats=True)\n        (2): ReLU()\n        (3): Dropout(p=0.0, inplace=False)\n      )\n      (mlp): Linear(in_features=128, out_features=10, bias=True)\n    )\n    (annotator_layers): ModuleList(\n      (0-43): 44 x Linear(in_features=10, out_features=10, bias=False)\n    )\n  ),\n)",
      "text/html": "<style>#sk-container-id-6 {color: black;background-color: white;}#sk-container-id-6 pre{padding: 0;}#sk-container-id-6 div.sk-toggleable {background-color: white;}#sk-container-id-6 label.sk-toggleable__label {cursor: pointer;display: block;width: 100%;margin-bottom: 0;padding: 0.3em;box-sizing: border-box;text-align: center;}#sk-container-id-6 label.sk-toggleable__label-arrow:before {content: \"▸\";float: left;margin-right: 0.25em;color: #696969;}#sk-container-id-6 label.sk-toggleable__label-arrow:hover:before {color: black;}#sk-container-id-6 div.sk-estimator:hover label.sk-toggleable__label-arrow:before {color: black;}#sk-container-id-6 div.sk-toggleable__content {max-height: 0;max-width: 0;overflow: hidden;text-align: left;background-color: #f0f8ff;}#sk-container-id-6 div.sk-toggleable__content pre {margin: 0.2em;color: black;border-radius: 0.25em;background-color: #f0f8ff;}#sk-container-id-6 input.sk-toggleable__control:checked~div.sk-toggleable__content {max-height: 200px;max-width: 100%;overflow: auto;}#sk-container-id-6 input.sk-toggleable__control:checked~label.sk-toggleable__label-arrow:before {content: \"▾\";}#sk-container-id-6 div.sk-estimator input.sk-toggleable__control:checked~label.sk-toggleable__label {background-color: #d4ebff;}#sk-container-id-6 div.sk-label input.sk-toggleable__control:checked~label.sk-toggleable__label {background-color: #d4ebff;}#sk-container-id-6 input.sk-hidden--visually {border: 0;clip: rect(1px 1px 1px 1px);clip: rect(1px, 1px, 1px, 1px);height: 1px;margin: -1px;overflow: hidden;padding: 0;position: absolute;width: 1px;}#sk-container-id-6 div.sk-estimator {font-family: monospace;background-color: #f0f8ff;border: 1px dotted black;border-radius: 0.25em;box-sizing: border-box;margin-bottom: 0.5em;}#sk-container-id-6 div.sk-estimator:hover {background-color: #d4ebff;}#sk-container-id-6 div.sk-parallel-item::after {content: \"\";width: 100%;border-bottom: 1px solid gray;flex-grow: 1;}#sk-container-id-6 div.sk-label:hover label.sk-toggleable__label {background-color: #d4ebff;}#sk-container-id-6 div.sk-serial::before {content: \"\";position: absolute;border-left: 1px solid gray;box-sizing: border-box;top: 0;bottom: 0;left: 50%;z-index: 0;}#sk-container-id-6 div.sk-serial {display: flex;flex-direction: column;align-items: center;background-color: white;padding-right: 0.2em;padding-left: 0.2em;position: relative;}#sk-container-id-6 div.sk-item {position: relative;z-index: 1;}#sk-container-id-6 div.sk-parallel {display: flex;align-items: stretch;justify-content: center;background-color: white;position: relative;}#sk-container-id-6 div.sk-item::before, #sk-container-id-6 div.sk-parallel-item::before {content: \"\";position: absolute;border-left: 1px solid gray;box-sizing: border-box;top: 0;bottom: 0;left: 50%;z-index: -1;}#sk-container-id-6 div.sk-parallel-item {display: flex;flex-direction: column;z-index: 1;position: relative;background-color: white;}#sk-container-id-6 div.sk-parallel-item:first-child::after {align-self: flex-end;width: 50%;}#sk-container-id-6 div.sk-parallel-item:last-child::after {align-self: flex-start;width: 50%;}#sk-container-id-6 div.sk-parallel-item:only-child::after {width: 0;}#sk-container-id-6 div.sk-dashed-wrapped {border: 1px dashed gray;margin: 0 0.4em 0.5em 0.4em;box-sizing: border-box;padding-bottom: 0.4em;background-color: white;}#sk-container-id-6 div.sk-label label {font-family: monospace;font-weight: bold;display: inline-block;line-height: 1.2em;}#sk-container-id-6 div.sk-label-container {text-align: center;}#sk-container-id-6 div.sk-container {/* jupyter's `normalize.less` sets `[hidden] { display: none; }` but bootstrap.min.css set `[hidden] { display: none !important; }` so we also need the `!important` here to be able to override the default hidden behavior on the sphinx rendered scikit-learn.org. See: https://github.com/scikit-learn/scikit-learn/issues/21755 */display: inline-block !important;position: relative;}#sk-container-id-6 div.sk-text-repr-fallback {display: none;}</style><div id=\"sk-container-id-6\" class=\"sk-top-container\"><div class=\"sk-text-repr-fallback\"><pre>&lt;class &#x27;__main__.CrowdLayerClassifier&#x27;&gt;[initialized](\n  module_=CrowdLayerModule(\n    (gt_net): ClassifierModule(\n      (embed_X_block): Sequential(\n        (0): Linear(in_features=124, out_features=128, bias=True)\n        (1): BatchNorm1d(128, eps=1e-05, momentum=0.1, affine=True, track_running_stats=True)\n        (2): ReLU()\n        (3): Dropout(p=0.0, inplace=False)\n      )\n      (mlp): Linear(in_features=128, out_features=10, bias=True)\n    )\n    (annotator_layers): ModuleList(\n      (0-43): 44 x Linear(in_features=10, out_features=10, bias=False)\n    )\n  ),\n)</pre><b>In a Jupyter environment, please rerun this cell to show the HTML representation or trust the notebook. <br />On GitHub, the HTML representation is unable to render, please try loading this page with nbviewer.org.</b></div><div class=\"sk-container\" hidden><div class=\"sk-item\"><div class=\"sk-estimator sk-toggleable\"><input class=\"sk-toggleable__control sk-hidden--visually\" id=\"sk-estimator-id-6\" type=\"checkbox\" checked><label for=\"sk-estimator-id-6\" class=\"sk-toggleable__label sk-toggleable__label-arrow\">CrowdLayerClassifier</label><div class=\"sk-toggleable__content\"><pre>&lt;class &#x27;__main__.CrowdLayerClassifier&#x27;&gt;[initialized](\n  module_=CrowdLayerModule(\n    (gt_net): ClassifierModule(\n      (embed_X_block): Sequential(\n        (0): Linear(in_features=124, out_features=128, bias=True)\n        (1): BatchNorm1d(128, eps=1e-05, momentum=0.1, affine=True, track_running_stats=True)\n        (2): ReLU()\n        (3): Dropout(p=0.0, inplace=False)\n      )\n      (mlp): Linear(in_features=128, out_features=10, bias=True)\n    )\n    (annotator_layers): ModuleList(\n      (0-43): 44 x Linear(in_features=10, out_features=10, bias=False)\n    )\n  ),\n)</pre></div></div></div></div></div>"
     },
     "execution_count": 30,
     "metadata": {},
     "output_type": "execute_result"
    }
   ],
   "source": [
    "# Define setup.\n",
    "torch.manual_seed(RANDOM_STATE)\n",
    "\n",
    "net.fit(X_train,y_train)"
   ],
   "metadata": {
    "collapsed": false,
    "ExecuteTime": {
     "end_time": "2024-05-17T10:10:35.443007Z",
     "start_time": "2024-05-17T10:10:34.942510Z"
    }
   }
  },
  {
   "cell_type": "code",
   "execution_count": 31,
   "outputs": [
    {
     "name": "stdout",
     "output_type": "stream",
     "text": [
      "tensor([2, 8, 2, 9, 8, 9, 8, 7, 1, 7, 3, 8, 8, 2, 7, 7, 8, 7, 9, 8])\n",
      "[1 8 2 6 1 7 8 1 1 7 3 2 4 2 3 4 7 5 7 8]\n",
      "0.316\n"
     ]
    }
   ],
   "source": [
    "y_pred = net.predict(X_test)\n",
    "print(y_pred[:20])\n",
    "print(y_test_true[:20])\n",
    "\n",
    "print(accuracy_score(y_pred, y_test_true))\n",
    "# should be 0.785 from MaDL"
   ],
   "metadata": {
    "collapsed": false,
    "ExecuteTime": {
     "end_time": "2024-05-17T10:10:41.606497Z",
     "start_time": "2024-05-17T10:10:41.590838Z"
    }
   }
  },
  {
   "cell_type": "code",
   "execution_count": 32,
   "outputs": [
    {
     "name": "stdout",
     "output_type": "stream",
     "text": [
      "tensor([8, 7, 8, 7, 8, 7, 2, 7, 8, 7, 7, 9, 7, 2, 2, 8, 7, 2, 8, 7])\n",
      "[4 7 4 7 8 3 2 2 8 3 0 6 7 2 2 0 5 2 8 9]\n"
     ]
    },
    {
     "data": {
      "text/plain": "0.2785714285714286"
     },
     "execution_count": 32,
     "metadata": {},
     "output_type": "execute_result"
    }
   ],
   "source": [
    "y_train_pred = net.predict(X_train)\n",
    "print(y_train_pred[:20])\n",
    "print(y_train_true[:20])\n",
    "accuracy_score(y_train_true, y_train_pred)"
   ],
   "metadata": {
    "collapsed": false,
    "ExecuteTime": {
     "end_time": "2024-05-17T10:10:43.262815Z",
     "start_time": "2024-05-17T10:10:43.232612Z"
    }
   }
  },
  {
   "cell_type": "code",
   "execution_count": 33,
   "outputs": [
    {
     "data": {
      "text/plain": "[{'batches': [{'train_loss': 2.3026537895202637, 'train_batch_size': 16},\n   {'train_loss': 2.3015496730804443, 'train_batch_size': 16},\n   {'train_loss': 2.3022470474243164, 'train_batch_size': 16},\n   {'train_loss': 2.2955172061920166, 'train_batch_size': 16},\n   {'train_loss': 2.303603172302246, 'train_batch_size': 16},\n   {'train_loss': 2.3007891178131104, 'train_batch_size': 16},\n   {'train_loss': 2.2956480979919434, 'train_batch_size': 16},\n   {'train_loss': 2.287600040435791, 'train_batch_size': 16},\n   {'train_loss': 2.293832540512085, 'train_batch_size': 16},\n   {'train_loss': 2.2860867977142334, 'train_batch_size': 16},\n   {'train_loss': 2.2994799613952637, 'train_batch_size': 16},\n   {'train_loss': 2.281007766723633, 'train_batch_size': 16},\n   {'train_loss': 2.2858738899230957, 'train_batch_size': 16},\n   {'train_loss': 2.299913167953491, 'train_batch_size': 16},\n   {'train_loss': 2.2818965911865234, 'train_batch_size': 16},\n   {'train_loss': 2.313477039337158, 'train_batch_size': 16},\n   {'train_loss': 2.28344988822937, 'train_batch_size': 16},\n   {'train_loss': 2.281993865966797, 'train_batch_size': 16},\n   {'train_loss': 2.267312526702881, 'train_batch_size': 16},\n   {'train_loss': 2.264676332473755, 'train_batch_size': 16},\n   {'train_loss': 2.2842729091644287, 'train_batch_size': 16},\n   {'train_loss': 2.293154239654541, 'train_batch_size': 16},\n   {'train_loss': 2.29555344581604, 'train_batch_size': 16},\n   {'train_loss': 2.309573173522949, 'train_batch_size': 16},\n   {'train_loss': 2.2984025478363037, 'train_batch_size': 16},\n   {'train_loss': 2.281839370727539, 'train_batch_size': 16},\n   {'train_loss': 2.2898566722869873, 'train_batch_size': 16},\n   {'train_loss': 2.291816234588623, 'train_batch_size': 16},\n   {'train_loss': 2.2719733715057373, 'train_batch_size': 16},\n   {'train_loss': 2.281353712081909, 'train_batch_size': 16},\n   {'train_loss': 2.2871758937835693, 'train_batch_size': 16},\n   {'train_loss': 2.282200574874878, 'train_batch_size': 16},\n   {'train_loss': 2.272768974304199, 'train_batch_size': 16},\n   {'train_loss': 2.282637596130371, 'train_batch_size': 16},\n   {'train_loss': 2.263312578201294, 'train_batch_size': 16},\n   {'train_loss': 2.2893545627593994, 'train_batch_size': 16},\n   {'train_loss': 2.2820334434509277, 'train_batch_size': 16},\n   {'train_loss': 2.273425817489624, 'train_batch_size': 16},\n   {'train_loss': 2.2857165336608887, 'train_batch_size': 16},\n   {'train_loss': 2.253779649734497, 'train_batch_size': 16},\n   {'train_loss': 2.275460958480835, 'train_batch_size': 16},\n   {'train_loss': 2.2616963386535645, 'train_batch_size': 16},\n   {'train_loss': 2.2336456775665283, 'train_batch_size': 16},\n   {'train_loss': 2.319547176361084, 'train_batch_size': 12},\n   {'valid_loss': 0.125, 'valid_batch_size': 16},\n   {'valid_loss': 0.0625, 'valid_batch_size': 16},\n   {'valid_loss': 0.0625, 'valid_batch_size': 16},\n   {'valid_loss': 0.0, 'valid_batch_size': 2}],\n  'epoch': 1,\n  'train_batch_count': 44,\n  'valid_batch_count': 4,\n  'dur': 0.10123705863952637,\n  'train_loss': 2.285926243918283,\n  'train_loss_best': True,\n  'valid_loss': 0.08,\n  'valid_loss_best': True},\n {'batches': [{'train_loss': 2.210048198699951, 'train_batch_size': 16},\n   {'train_loss': 2.2187013626098633, 'train_batch_size': 16},\n   {'train_loss': 2.254664659500122, 'train_batch_size': 16},\n   {'train_loss': 2.218837022781372, 'train_batch_size': 16},\n   {'train_loss': 2.2443671226501465, 'train_batch_size': 16},\n   {'train_loss': 2.2566328048706055, 'train_batch_size': 16},\n   {'train_loss': 2.2279446125030518, 'train_batch_size': 16},\n   {'train_loss': 2.215008020401001, 'train_batch_size': 16},\n   {'train_loss': 2.2052111625671387, 'train_batch_size': 16},\n   {'train_loss': 2.226321220397949, 'train_batch_size': 16},\n   {'train_loss': 2.236140727996826, 'train_batch_size': 16},\n   {'train_loss': 2.213883638381958, 'train_batch_size': 16},\n   {'train_loss': 2.2561185359954834, 'train_batch_size': 16},\n   {'train_loss': 2.2433812618255615, 'train_batch_size': 16},\n   {'train_loss': 2.2362916469573975, 'train_batch_size': 16},\n   {'train_loss': 2.272433280944824, 'train_batch_size': 16},\n   {'train_loss': 2.208935499191284, 'train_batch_size': 16},\n   {'train_loss': 2.2354722023010254, 'train_batch_size': 16},\n   {'train_loss': 2.20637845993042, 'train_batch_size': 16},\n   {'train_loss': 2.2161643505096436, 'train_batch_size': 16},\n   {'train_loss': 2.2537007331848145, 'train_batch_size': 16},\n   {'train_loss': 2.2572617530822754, 'train_batch_size': 16},\n   {'train_loss': 2.247770071029663, 'train_batch_size': 16},\n   {'train_loss': 2.286626100540161, 'train_batch_size': 16},\n   {'train_loss': 2.275559425354004, 'train_batch_size': 16},\n   {'train_loss': 2.2622313499450684, 'train_batch_size': 16},\n   {'train_loss': 2.255120277404785, 'train_batch_size': 16},\n   {'train_loss': 2.258916139602661, 'train_batch_size': 16},\n   {'train_loss': 2.2078299522399902, 'train_batch_size': 16},\n   {'train_loss': 2.263381242752075, 'train_batch_size': 16},\n   {'train_loss': 2.249525547027588, 'train_batch_size': 16},\n   {'train_loss': 2.235133647918701, 'train_batch_size': 16},\n   {'train_loss': 2.2252697944641113, 'train_batch_size': 16},\n   {'train_loss': 2.256183385848999, 'train_batch_size': 16},\n   {'train_loss': 2.2169852256774902, 'train_batch_size': 16},\n   {'train_loss': 2.2534215450286865, 'train_batch_size': 16},\n   {'train_loss': 2.2372164726257324, 'train_batch_size': 16},\n   {'train_loss': 2.241403579711914, 'train_batch_size': 16},\n   {'train_loss': 2.252819776535034, 'train_batch_size': 16},\n   {'train_loss': 2.2075881958007812, 'train_batch_size': 16},\n   {'train_loss': 2.2316746711730957, 'train_batch_size': 16},\n   {'train_loss': 2.1863715648651123, 'train_batch_size': 16},\n   {'train_loss': 2.20084810256958, 'train_batch_size': 16},\n   {'train_loss': 2.292623281478882, 'train_batch_size': 12},\n   {'valid_loss': 0.1875, 'valid_batch_size': 16},\n   {'valid_loss': 0.125, 'valid_batch_size': 16},\n   {'valid_loss': 0.25, 'valid_batch_size': 16},\n   {'valid_loss': 0.0, 'valid_batch_size': 2}],\n  'epoch': 2,\n  'train_batch_count': 44,\n  'valid_batch_count': 4,\n  'dur': 0.10336828231811523,\n  'train_loss': 2.2373769555773055,\n  'train_loss_best': True,\n  'valid_loss': 0.18,\n  'valid_loss_best': False},\n {'batches': [{'train_loss': 2.1849091053009033, 'train_batch_size': 16},\n   {'train_loss': 2.202918291091919, 'train_batch_size': 16},\n   {'train_loss': 2.2294445037841797, 'train_batch_size': 16},\n   {'train_loss': 2.1918458938598633, 'train_batch_size': 16},\n   {'train_loss': 2.2137606143951416, 'train_batch_size': 16},\n   {'train_loss': 2.2277512550354004, 'train_batch_size': 16},\n   {'train_loss': 2.2125964164733887, 'train_batch_size': 16},\n   {'train_loss': 2.176408529281616, 'train_batch_size': 16},\n   {'train_loss': 2.16884183883667, 'train_batch_size': 16},\n   {'train_loss': 2.1959760189056396, 'train_batch_size': 16},\n   {'train_loss': 2.2211718559265137, 'train_batch_size': 16},\n   {'train_loss': 2.1963229179382324, 'train_batch_size': 16},\n   {'train_loss': 2.2508256435394287, 'train_batch_size': 16},\n   {'train_loss': 2.211193799972534, 'train_batch_size': 16},\n   {'train_loss': 2.206357717514038, 'train_batch_size': 16},\n   {'train_loss': 2.258419990539551, 'train_batch_size': 16},\n   {'train_loss': 2.1800379753112793, 'train_batch_size': 16},\n   {'train_loss': 2.2050716876983643, 'train_batch_size': 16},\n   {'train_loss': 2.158388137817383, 'train_batch_size': 16},\n   {'train_loss': 2.196787118911743, 'train_batch_size': 16},\n   {'train_loss': 2.2234342098236084, 'train_batch_size': 16},\n   {'train_loss': 2.2311313152313232, 'train_batch_size': 16},\n   {'train_loss': 2.2137885093688965, 'train_batch_size': 16},\n   {'train_loss': 2.2693216800689697, 'train_batch_size': 16},\n   {'train_loss': 2.257009506225586, 'train_batch_size': 16},\n   {'train_loss': 2.2374982833862305, 'train_batch_size': 16},\n   {'train_loss': 2.2317254543304443, 'train_batch_size': 16},\n   {'train_loss': 2.2358334064483643, 'train_batch_size': 16},\n   {'train_loss': 2.1792941093444824, 'train_batch_size': 16},\n   {'train_loss': 2.2415597438812256, 'train_batch_size': 16},\n   {'train_loss': 2.227847099304199, 'train_batch_size': 16},\n   {'train_loss': 2.197446584701538, 'train_batch_size': 16},\n   {'train_loss': 2.19222092628479, 'train_batch_size': 16},\n   {'train_loss': 2.2270491123199463, 'train_batch_size': 16},\n   {'train_loss': 2.1909728050231934, 'train_batch_size': 16},\n   {'train_loss': 2.235896587371826, 'train_batch_size': 16},\n   {'train_loss': 2.2065913677215576, 'train_batch_size': 16},\n   {'train_loss': 2.2245266437530518, 'train_batch_size': 16},\n   {'train_loss': 2.236286163330078, 'train_batch_size': 16},\n   {'train_loss': 2.173490047454834, 'train_batch_size': 16},\n   {'train_loss': 2.202113151550293, 'train_batch_size': 16},\n   {'train_loss': 2.1501450538635254, 'train_batch_size': 16},\n   {'train_loss': 2.162870168685913, 'train_batch_size': 16},\n   {'train_loss': 2.2765586376190186, 'train_batch_size': 12},\n   {'valid_loss': 0.375, 'valid_batch_size': 16},\n   {'valid_loss': 0.3125, 'valid_batch_size': 16},\n   {'valid_loss': 0.375, 'valid_batch_size': 16},\n   {'valid_loss': 0.0, 'valid_batch_size': 2}],\n  'epoch': 3,\n  'train_batch_count': 44,\n  'valid_batch_count': 4,\n  'dur': 0.09752011299133301,\n  'train_loss': 2.2113028621673583,\n  'train_loss_best': True,\n  'valid_loss': 0.34,\n  'valid_loss_best': False},\n {'batches': [{'train_loss': 2.1832597255706787, 'train_batch_size': 16},\n   {'train_loss': 2.183741569519043, 'train_batch_size': 16},\n   {'train_loss': 2.2206881046295166, 'train_batch_size': 16},\n   {'train_loss': 2.152449607849121, 'train_batch_size': 16},\n   {'train_loss': 2.200861692428589, 'train_batch_size': 16},\n   {'train_loss': 2.200885534286499, 'train_batch_size': 16},\n   {'train_loss': 2.1891205310821533, 'train_batch_size': 16},\n   {'train_loss': 2.1489670276641846, 'train_batch_size': 16},\n   {'train_loss': 2.1400492191314697, 'train_batch_size': 16},\n   {'train_loss': 2.162659168243408, 'train_batch_size': 16},\n   {'train_loss': 2.2097795009613037, 'train_batch_size': 16},\n   {'train_loss': 2.1641972064971924, 'train_batch_size': 16},\n   {'train_loss': 2.2426328659057617, 'train_batch_size': 16},\n   {'train_loss': 2.198612928390503, 'train_batch_size': 16},\n   {'train_loss': 2.192493438720703, 'train_batch_size': 16},\n   {'train_loss': 2.250746726989746, 'train_batch_size': 16},\n   {'train_loss': 2.164623260498047, 'train_batch_size': 16},\n   {'train_loss': 2.192998170852661, 'train_batch_size': 16},\n   {'train_loss': 2.138146162033081, 'train_batch_size': 16},\n   {'train_loss': 2.1853604316711426, 'train_batch_size': 16},\n   {'train_loss': 2.212332248687744, 'train_batch_size': 16},\n   {'train_loss': 2.214552402496338, 'train_batch_size': 16},\n   {'train_loss': 2.1890194416046143, 'train_batch_size': 16},\n   {'train_loss': 2.2541141510009766, 'train_batch_size': 16},\n   {'train_loss': 2.24643611907959, 'train_batch_size': 16},\n   {'train_loss': 2.2243993282318115, 'train_batch_size': 16},\n   {'train_loss': 2.214250326156616, 'train_batch_size': 16},\n   {'train_loss': 2.2185561656951904, 'train_batch_size': 16},\n   {'train_loss': 2.151949882507324, 'train_batch_size': 16},\n   {'train_loss': 2.2295145988464355, 'train_batch_size': 16},\n   {'train_loss': 2.200606107711792, 'train_batch_size': 16},\n   {'train_loss': 2.1736786365509033, 'train_batch_size': 16},\n   {'train_loss': 2.1709787845611572, 'train_batch_size': 16},\n   {'train_loss': 2.209404945373535, 'train_batch_size': 16},\n   {'train_loss': 2.1737265586853027, 'train_batch_size': 16},\n   {'train_loss': 2.2112884521484375, 'train_batch_size': 16},\n   {'train_loss': 2.1713500022888184, 'train_batch_size': 16},\n   {'train_loss': 2.21614933013916, 'train_batch_size': 16},\n   {'train_loss': 2.2065351009368896, 'train_batch_size': 16},\n   {'train_loss': 2.1499276161193848, 'train_batch_size': 16},\n   {'train_loss': 2.1723339557647705, 'train_batch_size': 16},\n   {'train_loss': 2.1108298301696777, 'train_batch_size': 16},\n   {'train_loss': 2.1288442611694336, 'train_batch_size': 16},\n   {'train_loss': 2.251863718032837, 'train_batch_size': 12},\n   {'valid_loss': 0.625, 'valid_batch_size': 16},\n   {'valid_loss': 0.3125, 'valid_batch_size': 16},\n   {'valid_loss': 0.5, 'valid_batch_size': 16},\n   {'valid_loss': 0.5, 'valid_batch_size': 2}],\n  'epoch': 4,\n  'train_batch_count': 44,\n  'valid_batch_count': 4,\n  'dur': 0.09543490409851074,\n  'train_loss': 2.1911302607400076,\n  'train_loss_best': True,\n  'valid_loss': 0.48,\n  'valid_loss_best': False},\n {'batches': [{'train_loss': 2.166684627532959, 'train_batch_size': 16},\n   {'train_loss': 2.178715705871582, 'train_batch_size': 16},\n   {'train_loss': 2.203700065612793, 'train_batch_size': 16},\n   {'train_loss': 2.1411197185516357, 'train_batch_size': 16},\n   {'train_loss': 2.1893954277038574, 'train_batch_size': 16},\n   {'train_loss': 2.1860036849975586, 'train_batch_size': 16},\n   {'train_loss': 2.1698031425476074, 'train_batch_size': 16},\n   {'train_loss': 2.1249799728393555, 'train_batch_size': 16},\n   {'train_loss': 2.1144614219665527, 'train_batch_size': 16},\n   {'train_loss': 2.1363954544067383, 'train_batch_size': 16},\n   {'train_loss': 2.192786693572998, 'train_batch_size': 16},\n   {'train_loss': 2.1633479595184326, 'train_batch_size': 16},\n   {'train_loss': 2.2143802642822266, 'train_batch_size': 16},\n   {'train_loss': 2.192253351211548, 'train_batch_size': 16},\n   {'train_loss': 2.167940616607666, 'train_batch_size': 16},\n   {'train_loss': 2.2293572425842285, 'train_batch_size': 16},\n   {'train_loss': 2.1434412002563477, 'train_batch_size': 16},\n   {'train_loss': 2.1729788780212402, 'train_batch_size': 16},\n   {'train_loss': 2.1203670501708984, 'train_batch_size': 16},\n   {'train_loss': 2.1688337326049805, 'train_batch_size': 16},\n   {'train_loss': 2.1976869106292725, 'train_batch_size': 16},\n   {'train_loss': 2.2058017253875732, 'train_batch_size': 16},\n   {'train_loss': 2.1695470809936523, 'train_batch_size': 16},\n   {'train_loss': 2.2502059936523438, 'train_batch_size': 16},\n   {'train_loss': 2.236952781677246, 'train_batch_size': 16},\n   {'train_loss': 2.2089600563049316, 'train_batch_size': 16},\n   {'train_loss': 2.2029802799224854, 'train_batch_size': 16},\n   {'train_loss': 2.204017162322998, 'train_batch_size': 16},\n   {'train_loss': 2.125239849090576, 'train_batch_size': 16},\n   {'train_loss': 2.215670585632324, 'train_batch_size': 16},\n   {'train_loss': 2.1974079608917236, 'train_batch_size': 16},\n   {'train_loss': 2.1575310230255127, 'train_batch_size': 16},\n   {'train_loss': 2.152092218399048, 'train_batch_size': 16},\n   {'train_loss': 2.204385995864868, 'train_batch_size': 16},\n   {'train_loss': 2.1641745567321777, 'train_batch_size': 16},\n   {'train_loss': 2.195431709289551, 'train_batch_size': 16},\n   {'train_loss': 2.1538071632385254, 'train_batch_size': 16},\n   {'train_loss': 2.1963798999786377, 'train_batch_size': 16},\n   {'train_loss': 2.204920530319214, 'train_batch_size': 16},\n   {'train_loss': 2.130958318710327, 'train_batch_size': 16},\n   {'train_loss': 2.1487560272216797, 'train_batch_size': 16},\n   {'train_loss': 2.0869295597076416, 'train_batch_size': 16},\n   {'train_loss': 2.1097726821899414, 'train_batch_size': 16},\n   {'train_loss': 2.2493650913238525, 'train_batch_size': 12},\n   {'valid_loss': 0.1875, 'valid_batch_size': 16},\n   {'valid_loss': 0.0, 'valid_batch_size': 16},\n   {'valid_loss': 0.125, 'valid_batch_size': 16},\n   {'valid_loss': 0.0, 'valid_batch_size': 2}],\n  'epoch': 5,\n  'train_batch_count': 44,\n  'valid_batch_count': 4,\n  'dur': 0.09571671485900879,\n  'train_loss': 2.175624688012259,\n  'train_loss_best': True,\n  'valid_loss': 0.1,\n  'valid_loss_best': False}]"
     },
     "execution_count": 33,
     "metadata": {},
     "output_type": "execute_result"
    }
   ],
   "source": [
    "history = net.history\n",
    "history"
   ],
   "metadata": {
    "collapsed": false,
    "ExecuteTime": {
     "end_time": "2024-05-17T10:10:43.581219Z",
     "start_time": "2024-05-17T10:10:43.578344Z"
    }
   }
  },
  {
   "cell_type": "code",
   "execution_count": 34,
   "outputs": [
    {
     "data": {
      "text/plain": "[<matplotlib.lines.Line2D at 0x16b9269d0>]"
     },
     "execution_count": 34,
     "metadata": {},
     "output_type": "execute_result"
    },
    {
     "data": {
      "text/plain": "<Figure size 640x480 with 1 Axes>",
      "image/png": "[encoded data removed]"
     },
     "metadata": {},
     "output_type": "display_data"
    }
   ],
   "source": [
    "train_loss = history[:, 'train_loss']\n",
    "plt.plot(train_loss)"
   ],
   "metadata": {
    "collapsed": false,
    "ExecuteTime": {
     "end_time": "2024-05-17T10:11:03.710614Z",
     "start_time": "2024-05-17T10:11:03.629670Z"
    }
   }
  },
  {
   "cell_type": "code",
   "execution_count": null,
   "outputs": [],
   "source": [
    "proba = net.predict_annotator_perf(X_test)\n",
    "print(proba)"
   ],
   "metadata": {
    "collapsed": false,
    "ExecuteTime": {
     "start_time": "2024-05-17T10:04:50.590852Z"
    }
   }
  },
  {
   "cell_type": "code",
   "execution_count": null,
   "outputs": [],
   "source": [],
   "metadata": {
    "collapsed": false,
    "ExecuteTime": {
     "start_time": "2024-05-17T10:04:50.591422Z"
    }
   }
  }
 ],
 "metadata": {
  "kernelspec": {
   "display_name": "Python 3 (ipykernel)",
   "language": "python",
   "name": "python3"
  },
  "language_info": {
   "codemirror_mode": {
    "name": "ipython",
    "version": 3
   },
   "file_extension": ".py",
   "mimetype": "text/x-python",
   "name": "python",
   "nbconvert_exporter": "python",
   "pygments_lexer": "ipython3",
   "version": "3.9.17"
  }
 },
 "nbformat": 4,
 "nbformat_minor": 4
}
